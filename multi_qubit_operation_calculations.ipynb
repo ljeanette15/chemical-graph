{
 "cells": [
  {
   "cell_type": "code",
   "execution_count": 1,
   "id": "11a618fe",
   "metadata": {},
   "outputs": [],
   "source": [
    "import numpy as np\n",
    "from scipy.linalg import expm"
   ]
  },
  {
   "cell_type": "markdown",
   "id": "e0b75c9e",
   "metadata": {},
   "source": [
    "metrics for how close two matrices are to one another:"
   ]
  },
  {
   "cell_type": "code",
   "execution_count": 2,
   "id": "79e23d38",
   "metadata": {},
   "outputs": [],
   "source": [
    "def trace_distance(rho1, rho2):\n",
    "\n",
    "    diff = rho1 - rho2\n",
    "    evals = np.linalg.eigvals(diff)\n",
    "    \n",
    "    return 0.5 * sum(np.abs(evals))"
   ]
  },
  {
   "cell_type": "markdown",
   "id": "6f1b1acb",
   "metadata": {},
   "source": [
    "Single qubit operations:"
   ]
  },
  {
   "cell_type": "code",
   "execution_count": 3,
   "id": "b518c8e4",
   "metadata": {},
   "outputs": [],
   "source": [
    "X = np.array([[0, 1], [1, 0]])\n",
    "Y = np.array([[0, -1j], [1j, 0]])\n",
    "Z = np.array([[1, 0], [0, -1]])\n",
    "I = np.array([[1, 0], [0, 1]])\n",
    "\n",
    "\n",
    "def Ra(theta, phi):\n",
    "\n",
    "    theta *= np.pi\n",
    "    phi *= np.pi\n",
    "\n",
    "    return np.array([[np.cos(theta / 2), -1j * np.exp(-1j * phi) * np.sin(theta / 2)], \n",
    "                     [-1j * np.exp(1j * phi) * np.sin(theta / 2), np.cos(theta / 2)]])\n",
    "\n",
    "def Rx(theta):\n",
    "    return Ra(theta, 0)\n",
    "\n",
    "def Ry(theta):\n",
    "    return Ra(theta, np.pi / 2)\n",
    "\n",
    "def Rz(theta):\n",
    "\n",
    "    theta *= np.pi\n",
    "\n",
    "    return np.array([[np.exp(-1j * theta / 2), 0], [0, np.exp(1j * theta / 2)]])"
   ]
  },
  {
   "cell_type": "code",
   "execution_count": 4,
   "id": "51028405",
   "metadata": {},
   "outputs": [],
   "source": [
    "def UR0(theta):\n",
    "\n",
    "    theta *= np.pi\n",
    "\n",
    "    exponent_matrix_1 = np.kron(np.kron(X, Z), Y)\n",
    "    exponential_1 = np.exp(-1j * (theta / 2) * exponent_matrix_1)\n",
    "\n",
    "    exponent_matrix_2 = np.kron(np.kron(Y, Z), X)\n",
    "    exponential_2 = expm(-1j * (theta / 2) * exponent_matrix_2)\n",
    "\n",
    "    return exponential_1 * exponential_2\n",
    "\n",
    "\n",
    "def XX(theta):\n",
    "\n",
    "    theta *= np.pi\n",
    "\n",
    "    exponent_matrix = np.kron(X, X)\n",
    "    exponential = expm(-1j * (theta / 2) * exponent_matrix)\n",
    "\n",
    "    return exponential\n",
    "\n",
    "\n",
    "def YX(theta):\n",
    "\n",
    "    theta *= np.pi\n",
    "\n",
    "    exponent_matrix = np.kron(Y, X)\n",
    "    exponential = expm(-1j * (theta / 2) * exponent_matrix)\n",
    "\n",
    "    return exponential\n",
    "\n",
    "\n",
    "def XXX(theta):\n",
    "\n",
    "    theta *= np.pi\n",
    "\n",
    "    exponent_matrix = np.kron(np.kron(X, X), X)\n",
    "    exponential = expm(-1j * (theta / 2) * exponent_matrix)\n",
    "\n",
    "    return exponential\n",
    "\n",
    "\n",
    "def XZY(theta):\n",
    "\n",
    "    theta *= np.pi\n",
    "\n",
    "    exponent_matrix = np.kron(np.kron(X, Z), Y)\n",
    "    exponential = expm(-1j * (theta / 2) * exponent_matrix)\n",
    "\n",
    "    return exponential \n",
    "\n",
    "\n",
    "def YZX(theta):\n",
    "\n",
    "    theta *= np.pi\n",
    "\n",
    "    exponent_matrix = np.kron(np.kron(Y, Z), X)\n",
    "    exponential = expm(-1j * (theta / 2) * exponent_matrix)\n",
    "\n",
    "    return exponential\n",
    "\n",
    "\n",
    "def YXX(theta):\n",
    "\n",
    "    theta *= np.pi\n",
    "\n",
    "    exponent_matrix = np.kron(np.kron(Y, X), X)\n",
    "    exponential = expm(-1j * (theta / 2) * exponent_matrix)\n",
    "\n",
    "    return exponential"
   ]
  },
  {
   "cell_type": "markdown",
   "id": "2d7179ab",
   "metadata": {},
   "source": [
    "First verify that sandwiching an XX gate with Rz gates can obtain a YX gate"
   ]
  },
  {
   "cell_type": "code",
   "execution_count": 31,
   "id": "9097097b",
   "metadata": {},
   "outputs": [],
   "source": [
    "def YX_from_XX(theta_Ra, phi_Ra, theta_Rz, theta_XX):\n",
    "\n",
    "    transformation_Ra = np.kron(Ra(theta_Ra, phi_Ra), I)\n",
    "    transformation_Ra_dagger = np.kron(Ra(-1 * theta_Ra, phi_Ra), I)\n",
    "\n",
    "    transformation_Rz = np.kron(Rz(theta_Rz), I)\n",
    "    transformation_Rz_dagger = np.kron(Rz(-1 * theta_Rz), I)\n",
    "\n",
    "    return transformation_Ra @ transformation_Rz @ XX(theta_XX) @ transformation_Rz_dagger @ transformation_Ra_dagger"
   ]
  },
  {
   "cell_type": "code",
   "execution_count": 32,
   "id": "791275d6",
   "metadata": {},
   "outputs": [
    {
     "name": "stdout",
     "output_type": "stream",
     "text": [
      "TD: 2.220446049250313e-16\n",
      "Max:  0j\n"
     ]
    }
   ],
   "source": [
    "print(f\"TD: {trace_distance(YX_from_XX(0, 0, 0.5, 0.5), YX(0.5))}\")\n",
    "print(f\"Max: \", max((YX_from_XX(0, 0, 0.5, 0.5) - YX(0.5)).flatten()))"
   ]
  },
  {
   "cell_type": "markdown",
   "id": "ec6ffbff",
   "metadata": {},
   "source": [
    "Try getting YX gate of arbitrary angle from XX gate of fixed angle"
   ]
  },
  {
   "cell_type": "code",
   "execution_count": 33,
   "id": "15ea6047",
   "metadata": {},
   "outputs": [],
   "source": [
    "def arbitrary_YX_from_XX(theta_Ra1, phi_Ra1, theta_Rz1, theta_Ra2, phi_Ra2, theta_Rz2, theta_XX):\n",
    "\n",
    "    transformation_Ra1 = np.kron(Ra(theta_Ra1, phi_Ra1), I)\n",
    "    transformation_Ra1_dagger = np.kron(Ra(-1 * theta_Ra1, phi_Ra1), I)\n",
    "\n",
    "    transformation_Rz1 = np.kron(Rz(theta_Rz1), I)\n",
    "    transformation_Rz1_dagger = np.kron(Rz(-1 * theta_Rz1), I)\n",
    "\n",
    "\n",
    "    transformation_Ra2 = np.kron(I, Ra(theta_Ra2, phi_Ra2))\n",
    "    transformation_Ra2_dagger = np.kron(I, Ra(-1 * theta_Ra2, phi_Ra2))\n",
    "\n",
    "    transformation_Rz2 = np.kron(I, Rz(theta_Rz2))\n",
    "    transformation_Rz2_dagger = np.kron(I, Rz(-1 * theta_Rz2))\n",
    "\n",
    "\n",
    "    return transformation_Ra1 @ transformation_Rz1 @ transformation_Ra2 @ transformation_Rz2 @ XX(theta_XX) @ transformation_Rz1_dagger @ transformation_Ra1_dagger @ transformation_Rz2_dagger @ transformation_Ra2_dagger"
   ]
  },
  {
   "cell_type": "code",
   "execution_count": 40,
   "id": "61d18a62",
   "metadata": {},
   "outputs": [
    {
     "name": "stdout",
     "output_type": "stream",
     "text": [
      "theta_Ra1: 0.0pi, phi_Ra1: 0.1pi, theta_Rz1: 1.1, theta_Ra2: 0.0pi, phi_Ra2: 0.2pi, theta_Rz2: 1.8pi, td: 0.7803612880645123\r"
     ]
    },
    {
     "ename": "KeyboardInterrupt",
     "evalue": "",
     "output_type": "error",
     "traceback": [
      "\u001b[31m---------------------------------------------------------------------------\u001b[39m",
      "\u001b[31mKeyboardInterrupt\u001b[39m                         Traceback (most recent call last)",
      "\u001b[36mCell\u001b[39m\u001b[36m \u001b[39m\u001b[32mIn[40]\u001b[39m\u001b[32m, line 22\u001b[39m\n\u001b[32m     19\u001b[39m \u001b[38;5;28;01mif\u001b[39;00m td < min_td:\n\u001b[32m     20\u001b[39m     min_td = td\n\u001b[32m---> \u001b[39m\u001b[32m22\u001b[39m \u001b[38;5;28;43mprint\u001b[39;49m\u001b[43m(\u001b[49m\u001b[33;43mf\u001b[39;49m\u001b[33;43m\"\u001b[39;49m\u001b[33;43mtheta_Ra1: \u001b[39;49m\u001b[38;5;132;43;01m{\u001b[39;49;00m\u001b[43mtheta_Ra1\u001b[49m\u001b[38;5;250;43m \u001b[39;49m\u001b[43m/\u001b[49m\u001b[38;5;250;43m \u001b[39;49m\u001b[32;43m100\u001b[39;49m\u001b[38;5;132;43;01m}\u001b[39;49;00m\u001b[33;43mpi, phi_Ra1: \u001b[39;49m\u001b[38;5;132;43;01m{\u001b[39;49;00m\u001b[43mphi_Ra1\u001b[49m\u001b[38;5;250;43m \u001b[39;49m\u001b[43m/\u001b[49m\u001b[38;5;250;43m \u001b[39;49m\u001b[32;43m100\u001b[39;49m\u001b[38;5;132;43;01m}\u001b[39;49;00m\u001b[33;43mpi, theta_Rz1: \u001b[39;49m\u001b[38;5;132;43;01m{\u001b[39;49;00m\u001b[43mtheta_Rz1\u001b[49m\u001b[38;5;250;43m \u001b[39;49m\u001b[43m/\u001b[49m\u001b[38;5;250;43m \u001b[39;49m\u001b[32;43m100\u001b[39;49m\u001b[38;5;132;43;01m}\u001b[39;49;00m\u001b[33;43m, theta_Ra2: \u001b[39;49m\u001b[38;5;132;43;01m{\u001b[39;49;00m\u001b[43mtheta_Ra2\u001b[49m\u001b[38;5;250;43m \u001b[39;49m\u001b[43m/\u001b[49m\u001b[38;5;250;43m \u001b[39;49m\u001b[32;43m100\u001b[39;49m\u001b[38;5;132;43;01m}\u001b[39;49;00m\u001b[33;43mpi, phi_Ra2: \u001b[39;49m\u001b[38;5;132;43;01m{\u001b[39;49;00m\u001b[43mphi_Ra2\u001b[49m\u001b[38;5;250;43m \u001b[39;49m\u001b[43m/\u001b[49m\u001b[38;5;250;43m \u001b[39;49m\u001b[32;43m100\u001b[39;49m\u001b[38;5;132;43;01m}\u001b[39;49;00m\u001b[33;43mpi, theta_Rz2: \u001b[39;49m\u001b[38;5;132;43;01m{\u001b[39;49;00m\u001b[43mtheta_Rz2\u001b[49m\u001b[38;5;250;43m \u001b[39;49m\u001b[43m/\u001b[49m\u001b[38;5;250;43m \u001b[39;49m\u001b[32;43m100\u001b[39;49m\u001b[38;5;132;43;01m}\u001b[39;49;00m\u001b[33;43mpi, td: \u001b[39;49m\u001b[38;5;132;43;01m{\u001b[39;49;00m\u001b[43mmin_td\u001b[49m\u001b[38;5;132;43;01m}\u001b[39;49;00m\u001b[33;43m\"\u001b[39;49m\u001b[43m,\u001b[49m\u001b[43m \u001b[49m\u001b[43mend\u001b[49m\u001b[43m=\u001b[49m\u001b[33;43m'\u001b[39;49m\u001b[38;5;130;43;01m\\r\u001b[39;49;00m\u001b[33;43m'\u001b[39;49m\u001b[43m)\u001b[49m\n",
      "\u001b[31mKeyboardInterrupt\u001b[39m: "
     ]
    }
   ],
   "source": [
    "theta_XX = 0.5\n",
    "\n",
    "min_td = 1e5\n",
    "\n",
    "target_theta_YX = 0.25\n",
    "\n",
    "for theta_Ra1 in range(0, 100, 10):\n",
    "    for phi_Ra1 in range(0, 200, 10):\n",
    "        for theta_Rz1 in range(0, 200, 10):\n",
    "            for theta_Ra2 in range(0, 100, 10):\n",
    "                for phi_Ra2 in range(0, 200, 10):\n",
    "                    for theta_Rz2 in range(0, 200, 10):\n",
    "\n",
    "                        YX_from_combination = arbitrary_YX_from_XX(theta_Ra1 / 100, phi_Ra1 / 100, theta_Rz1 / 100, theta_Ra2 / 100, phi_Ra2 / 100, theta_Rz2 / 100, theta_XX)\n",
    "                        YX_native = YX(target_theta_YX)\n",
    "                        \n",
    "                        td = trace_distance(YX_from_combination, YX_native)\n",
    "                        \n",
    "                        if td < min_td:\n",
    "                            min_td = td\n",
    "                        \n",
    "                        print(f\"theta_Ra1: {theta_Ra1 / 100}pi, phi_Ra1: {phi_Ra1 / 100}pi, theta_Rz1: {theta_Rz1 / 100}, theta_Ra2: {theta_Ra2 / 100}pi, phi_Ra2: {phi_Ra2 / 100}pi, theta_Rz2: {theta_Rz2 / 100}pi, td: {min_td}\", end='\\r')"
   ]
  },
  {
   "cell_type": "markdown",
   "id": "ded989c7",
   "metadata": {},
   "source": [
    "Try sandwhiching an XXX gate of fixed angle with an arbitrary single qubit gate on qubit 1 to get a YXX gate "
   ]
  },
  {
   "cell_type": "code",
   "execution_count": null,
   "id": "e6c0a91d",
   "metadata": {},
   "outputs": [],
   "source": [
    "def YXX_from_XXX(theta_Ra1, phi_Ra1, theta_Rz1, theta_XXX):\n",
    "\n",
    "    transformation_Ra = np.kron(np.kron(Ra(theta_Ra, phi_Ra), I), I)\n",
    "    transformation_Ra_dagger = np.kron(np.kron(Ra(-1 * theta_Ra, phi_Ra), I), I)\n",
    "\n",
    "    transformation_Rz = np.kron(np.kron(Rz(theta_Rz), I), I)\n",
    "    transformation_Rz_dagger = np.kron(np.kron(Rz(-1 * theta_Rz), I), I)\n",
    "\n",
    "    return transformation_Ra @ transformation_Rz @ XXX(theta_XXX) @ transformation_Rz_dagger @ transformation_Ra_dagger"
   ]
  },
  {
   "cell_type": "code",
   "execution_count": 18,
   "id": "27a54931",
   "metadata": {},
   "outputs": [
    {
     "name": "stdout",
     "output_type": "stream",
     "text": [
      "TD: 4.440892098500626e-16\n",
      "Max:  0j\n"
     ]
    }
   ],
   "source": [
    "print(f\"TD: {trace_distance(YXX_from_XXX(0, 0, 0.5, 0.5), YXX(0.5))}\")\n",
    "print(f\"Max: \", max((YXX_from_XXX(0, 0, 0.5, 0.5) - YXX(0.5)).flatten()))"
   ]
  },
  {
   "cell_type": "markdown",
   "id": "e3fa3c32",
   "metadata": {},
   "source": [
    "Fix the XXX angle and scan the rotation angles"
   ]
  },
  {
   "cell_type": "code",
   "execution_count": 28,
   "id": "0e09b74f",
   "metadata": {},
   "outputs": [
    {
     "name": "stdout",
     "output_type": "stream",
     "text": [
      "theta_Ra: 0.99pi, phi_Ra: 1.99pi, td: 1.5607225761290242\r"
     ]
    }
   ],
   "source": [
    "theta_XXX = 0.5\n",
    "theta_Rz = 0.5\n",
    "\n",
    "min_td = 1e5\n",
    "\n",
    "target_theta_YXX = 0.25\n",
    "\n",
    "for theta_Ra in range(0, 100):\n",
    "    for phi_Ra in range(0, 200):\n",
    "\n",
    "        YXX_from_combination = YXX_from_XXX(theta_Ra / 100, phi_Ra / 100, theta_Rz, theta_XXX)\n",
    "        YXX_native = YXX(target_theta_YXX)\n",
    "        \n",
    "        td = trace_distance(YXX_from_combination, YXX_native)\n",
    "        \n",
    "        if td < min_td:\n",
    "            min_td = td\n",
    "        \n",
    "        print(f\"theta_Ra: {theta_Ra / 100}pi, phi_Ra: {phi_Ra / 100}pi, td: {min_td}\", end='\\r')"
   ]
  },
  {
   "cell_type": "code",
   "execution_count": null,
   "id": "6f6bf1ea",
   "metadata": {},
   "outputs": [],
   "source": []
  }
 ],
 "metadata": {
  "kernelspec": {
   "display_name": "chemenv",
   "language": "python",
   "name": "python3"
  },
  "language_info": {
   "codemirror_mode": {
    "name": "ipython",
    "version": 3
   },
   "file_extension": ".py",
   "mimetype": "text/x-python",
   "name": "python",
   "nbconvert_exporter": "python",
   "pygments_lexer": "ipython3",
   "version": "3.12.3"
  }
 },
 "nbformat": 4,
 "nbformat_minor": 5
}
