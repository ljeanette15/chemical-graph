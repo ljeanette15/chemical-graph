{
 "cells": [
  {
   "cell_type": "markdown",
   "id": "249e6000",
   "metadata": {},
   "source": [
    "# $H_4$ Ground State VQE"
   ]
  },
  {
   "cell_type": "code",
   "execution_count": 1,
   "id": "d4b75dae",
   "metadata": {},
   "outputs": [
    {
     "name": "stderr",
     "output_type": "stream",
     "text": [
      "/home/liamj/chemical-graph/tequila-beta/lib/python3.12/site-packages/tequila/simulators/simulator_api.py:5: UserWarning: pkg_resources is deprecated as an API. See https://setuptools.pypa.io/en/latest/pkg_resources.html. The pkg_resources package is slated for removal as early as 2025-11-30. Refrain from using this package or pin to Setuptools<81.\n",
      "  import pkg_resources\n"
     ]
    }
   ],
   "source": [
    "import tequila as tq\n",
    "import numpy as np\n",
    "import matplotlib.pyplot as plt\n",
    "import cirq"
   ]
  },
  {
   "cell_type": "code",
   "execution_count": 2,
   "id": "b286f5ec",
   "metadata": {},
   "outputs": [],
   "source": [
    "# Define the geometry\n",
    "g = \"h 0.0 0.0 0.0\\nh 0.0 0.0 1.5\\nh 0.0 0.0 3.0\\nh 0.0 0.0 4.5\"\n",
    "\n",
    "# Get two molecules (one with JW, one with the new Parity tapering)\n",
    "mol = tq.Molecule(backend=\"pyscf\", geometry=g, basis_set=\"sto-3g\", frozen_core=True)\n",
    "mol2 = tq.Molecule(backend=\"pyscf\", geometry=g, transformation='TaperedBinary', basis_set=\"sto-3g\", frozen_core=True)\n",
    "\n",
    "H = mol.make_hamiltonian()\n",
    "H2 = mol2.make_hamiltonian()\n",
    "\n",
    "U = mol.make_ansatz(\"spa\", edges=[(0,1), (2,3)])\n",
    "U2 = mol2.make_ansatz(\"spa\", edges=[(0,1), (2,3)])"
   ]
  },
  {
   "cell_type": "code",
   "execution_count": null,
   "id": "da6c3725",
   "metadata": {},
   "outputs": [
    {
     "name": "stdout",
     "output_type": "stream",
     "text": [
      "difference JW and parity 1.3322676295501878e-12 meh\n"
     ]
    }
   ],
   "source": [
    "# Define a variable - what is this actually doing?\n",
    "var = (tq.Variable(\"R0\") + 0.5) * np.pi\n",
    "\n",
    "# Spatial orbital rotations (UR(i, j, theta) rotates spatial orbitals i and j by angle theta )\n",
    "# Why do we need these???? - they are necessary to optimize the orbitals in the quantum case. They are unneccessary in the classical case, however\n",
    "UR0 = mol.UR(0,1,var) + mol.UR(2,3, var)\n",
    "U = U + UR0\n",
    "\n",
    "UR0 = mol2.UR(0,1,var) + mol2.UR(2,3, var)\n",
    "U2 = U2 + UR0\n",
    "\n",
    "E = tq.ExpectationValue(U=U, H=H)\n",
    "E2 = tq.ExpectationValue(U=U2, H=H2)\n",
    "\n",
    "res = tq.minimize(E, silent=True)\n",
    "res2 = tq.minimize(E2, silent=True)\n",
    "\n",
    "print(\"difference JW and parity\", abs(res.energy - res2.energy)*1000, \"meh\")"
   ]
  },
  {
   "cell_type": "code",
   "execution_count": 4,
   "id": "cabbe156",
   "metadata": {},
   "outputs": [
    {
     "data": {
      "text/plain": [
       "-1.5561260779839963"
      ]
     },
     "execution_count": 4,
     "metadata": {},
     "output_type": "execute_result"
    }
   ],
   "source": [
    "res2.energy"
   ]
  },
  {
   "cell_type": "code",
   "execution_count": 5,
   "id": "17e8fe27",
   "metadata": {},
   "outputs": [
    {
     "data": {
      "text/plain": [
       "-1.5561260779839976"
      ]
     },
     "execution_count": 5,
     "metadata": {},
     "output_type": "execute_result"
    }
   ],
   "source": [
    "res.energy"
   ]
  },
  {
   "cell_type": "code",
   "execution_count": 149,
   "id": "8f047aa2",
   "metadata": {},
   "outputs": [],
   "source": [
    "res_dict = dict(res.variables)\n",
    "res2_dict = dict(res2.variables)"
   ]
  },
  {
   "cell_type": "code",
   "execution_count": 8,
   "id": "4523dcb0",
   "metadata": {},
   "outputs": [
    {
     "name": "stdout",
     "output_type": "stream",
     "text": [
      "tikz2preview h4_g1_jordan_wigner.tikz\n",
      "pdflatex -interaction=batchmode h4_g1_jordan_wigner.tex\n",
      "This is pdfTeX, Version 3.141592653-2.6-1.40.25 (TeX Live 2023/Debian) (preloaded format=pdflatex)\n",
      " restricted \\write18 enabled.\n",
      "entering extended mode\n",
      "tikz2preview h4_g1_parity_taper.tikz\n",
      "pdflatex -interaction=batchmode h4_g1_parity_taper.tex\n",
      "This is pdfTeX, Version 3.141592653-2.6-1.40.25 (TeX Live 2023/Debian) (preloaded format=pdflatex)\n",
      " restricted \\write18 enabled.\n",
      "entering extended mode\n"
     ]
    }
   ],
   "source": [
    "try:\n",
    "    U.export_to(filename=\"h4_g1_jordan_wigner.pdf\")\n",
    "    U2.export_to(filename=\"h4_g1_parity_taper.pdf\")\n",
    "except Exception as E:\n",
    "    print(\"no qpic and/or latex installed ... sorry\")"
   ]
  },
  {
   "cell_type": "code",
   "execution_count": 6,
   "id": "63196c2c",
   "metadata": {},
   "outputs": [],
   "source": [
    "E_circuit = tq.compile(E, backend=\"cirq\").get_expectationvalues()[0].U.circuit\n",
    "E2_circuit = tq.compile(E2, backend=\"cirq\").get_expectationvalues()[0].U.circuit"
   ]
  },
  {
   "cell_type": "code",
   "execution_count": 7,
   "id": "762cc3b6",
   "metadata": {},
   "outputs": [
    {
     "data": {
      "text/html": [
       "<pre style=\"overflow: auto; white-space: pre;\">0: ───X───────────────────────────────────────────────────X───@───\n",
       "                                                          │   │\n",
       "1: ───────────────────────────────────────────────────────┼───X───\n",
       "                                                          │\n",
       "2: ───Y^(0.318309886183791*f((((0, 1), &#x27;D&#x27;, None),))_0)───@───@───\n",
       "                                                              │\n",
       "3: ───────────────────────────────────────────────────────────X───\n",
       "\n",
       "4: ───X───────────────────────────────────────────────────X───@───\n",
       "                                                          │   │\n",
       "5: ───────────────────────────────────────────────────────┼───X───\n",
       "                                                          │\n",
       "6: ───Y^(0.318309886183791*f((((2, 3), &#x27;D&#x27;, None),))_1)───@───@───\n",
       "                                                              │\n",
       "7: ───────────────────────────────────────────────────────────X───</pre>"
      ],
      "text/plain": [
       "0: ───X───────────────────────────────────────────────────X───@───\n",
       "                                                          │   │\n",
       "1: ───────────────────────────────────────────────────────┼───X───\n",
       "                                                          │\n",
       "2: ───Y^(0.318309886183791*f((((0, 1), 'D', None),))_0)───@───@───\n",
       "                                                              │\n",
       "3: ───────────────────────────────────────────────────────────X───\n",
       "\n",
       "4: ───X───────────────────────────────────────────────────X───@───\n",
       "                                                          │   │\n",
       "5: ───────────────────────────────────────────────────────┼───X───\n",
       "                                                          │\n",
       "6: ───Y^(0.318309886183791*f((((2, 3), 'D', None),))_1)───@───@───\n",
       "                                                              │\n",
       "7: ───────────────────────────────────────────────────────────X───"
      ]
     },
     "execution_count": 7,
     "metadata": {},
     "output_type": "execute_result"
    }
   ],
   "source": [
    "E_circuit"
   ]
  },
  {
   "cell_type": "code",
   "execution_count": 126,
   "id": "742d0463",
   "metadata": {},
   "outputs": [],
   "source": [
    "hamiltonian_keys = list(H.keys())\n",
    "hamiltonian_values = list(H.values())"
   ]
  },
  {
   "cell_type": "code",
   "execution_count": 136,
   "id": "7ba12325",
   "metadata": {},
   "outputs": [
    {
     "data": {
      "text/plain": [
       "-0.5000001078407643"
      ]
     },
     "execution_count": 136,
     "metadata": {},
     "output_type": "execute_result"
    }
   ],
   "source": [
    "param_R0"
   ]
  },
  {
   "cell_type": "code",
   "execution_count": 135,
   "id": "973726e8",
   "metadata": {},
   "outputs": [],
   "source": [
    "param_R0 = res_dict[\"R0\"]\n",
    "param_1 = res_dict[list(res_dict.keys())[0]]\n",
    "param_2 = res_dict[list(res_dict.keys())[1]]\n",
    "\n",
    "simulator = cirq.Simulator()\n",
    "\n",
    "parameterized_angles = []\n",
    "\n",
    "for parameterized_angle in range(-300, 301, 20):\n",
    "\n",
    "    new_ops = []\n",
    "\n",
    "    for moment in E_circuit:\n",
    "        for op in moment:\n",
    "\n",
    "            if op.gate not in [cirq.CNOT, cirq.H, cirq.X, cirq.CZ]:\n",
    "                if type(op.gate.exponent) != float:\n",
    "                    if \"R0\" in str(op.gate.exponent.args[1]):\n",
    "                        new_ops.append(cirq.YPowGate(exponent=float(op.gate.exponent.args[0])*param_R0, global_shift=op.gate.global_shift).on(op.qubits[0]))\n",
    "                    elif \"(0, 1)\" in str(op.gate.exponent.args[1]):\n",
    "                        new_ops.append(cirq.YPowGate(exponent=float(op.gate.exponent.args[0])*param_1, global_shift=op.gate.global_shift).on(op.qubits[0]))\n",
    "                    else:\n",
    "                        new_ops.append(cirq.YPowGate(exponent=float(op.gate.exponent.args[0])*param_2, global_shift=op.gate.global_shift).on(op.qubits[0]))\n",
    "                    \n",
    "                    new_ops.append(cirq.YPowGate(exponent=parameterized_angle * 0.01 * 0.31830988618379069, global_shift=-0.5).on(cirq.LineQubit(1)))\n",
    "                else:\n",
    "                    new_ops.append(op)\n",
    "\n",
    "            else:\n",
    "                new_ops.append(op)\n",
    "\n",
    "    new_circuit_from_optimization = cirq.Circuit(new_ops)\n",
    "\n",
    "    result = simulator.simulate(new_circuit_from_optimization)\n",
    "    parameterized_angles.append(parameterized_angle * 0.01)"
   ]
  },
  {
   "cell_type": "code",
   "execution_count": null,
   "id": "9ff0a72b",
   "metadata": {},
   "outputs": [],
   "source": []
  }
 ],
 "metadata": {
  "kernelspec": {
   "display_name": "tequila-beta",
   "language": "python",
   "name": "python3"
  },
  "language_info": {
   "codemirror_mode": {
    "name": "ipython",
    "version": 3
   },
   "file_extension": ".py",
   "mimetype": "text/x-python",
   "name": "python",
   "nbconvert_exporter": "python",
   "pygments_lexer": "ipython3",
   "version": "3.12.3"
  }
 },
 "nbformat": 4,
 "nbformat_minor": 5
}
