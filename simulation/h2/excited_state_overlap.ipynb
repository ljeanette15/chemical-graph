{
 "cells": [
  {
   "cell_type": "code",
   "execution_count": 2,
   "id": "ffc55639",
   "metadata": {},
   "outputs": [],
   "source": [
    "import tequila as tq\n",
    "import numpy"
   ]
  },
  {
   "cell_type": "code",
   "execution_count": 3,
   "id": "356badad",
   "metadata": {},
   "outputs": [],
   "source": [
    "geometry = \"\"\"\n",
    "H 0.0 0.0 0.0\n",
    "H 0.0 0.0 1.0\n",
    "\"\"\"\n",
    "\n",
    "# Get the molecule object from tequila\n",
    "# Transform from interacting fermion basis (molecule itself?) to spin-1/2 basis (qubits)\n",
    "mol = tq.Molecule(geometry=geometry, basis_set=\"sto-3g\", transformation=\"ReorderedJordanWigner\")\n",
    "\n",
    "H = mol.make_hamiltonian()\n",
    "v = numpy.linalg.eigvalsh(H.to_matrix())\n",
    "\n",
    "# Get the hamiltonian (which is now in spin-1/2 basis) in the hardcore boson approximation\n",
    "# Basically, the spin 1/2 (up,down) gets mapped to (filled, empty)\n",
    "HCB1 = mol.make_hardcore_boson_hamiltonian()"
   ]
  },
  {
   "cell_type": "code",
   "execution_count": 4,
   "id": "a42c07d4",
   "metadata": {},
   "outputs": [
    {
     "data": {
      "text/plain": [
       "-1.1011503301326668"
      ]
     },
     "execution_count": 4,
     "metadata": {},
     "output_type": "execute_result"
    }
   ],
   "source": [
    "# Ground State\n",
    "U1HCB = mol.make_ansatz(name=\"HCB-SPA\", edges=[(0,1),], label=1)\n",
    "\n",
    "E1 = tq.ExpectationValue(H=HCB1, U=U1HCB)\n",
    "result = tq.minimize(E1, silent=True)\n",
    "\n",
    "# fix variables (no need to change them anymore)\n",
    "U1HCB = U1HCB.map_variables(variables=result.variables)\n",
    "\n",
    "gs_energy = result.energy\n",
    "gs_energy"
   ]
  },
  {
   "cell_type": "code",
   "execution_count": 5,
   "id": "2f60603d",
   "metadata": {},
   "outputs": [],
   "source": [
    "# Excited State\n",
    "U2HCB = mol.make_ansatz(name=\"HCB-SPA\", edges=[(0,1),], label=2)\n",
    "\n",
    "# Pairing model Hamiltonian in atomic basis\n",
    "HCB2 = mol.use_native_orbitals().make_hardcore_boson_hamiltonian()\n",
    "E2 = tq.ExpectationValue(H=HCB2, U=U2HCB)\n",
    "\n",
    "# ????? What bases are we rotating between ?????\n",
    "# Rotation between the bases\n",
    "UR = mol.UR(0,1, angle=-numpy.pi/2)\n",
    "\n",
    "# ????? Why do we need to change back to fermions ?????\n",
    "# change from pairing model (hardcore-bosons) back to fermions\n",
    "UF = mol.hcb_to_me()\n",
    "\n",
    "# Measuring the |000> state since that's equivalent to the fidelity of excited and ground states\n",
    "P0 = tq.paulis.Projector(wfn=\"|0000>\")\n",
    "\n",
    "# Expectation value for circuit w/ excited and ground state unitaries\n",
    "S = tq.ExpectationValue(H=P0, U=U1HCB + UF + UR + UF.dagger() + U2HCB.dagger())"
   ]
  },
  {
   "cell_type": "code",
   "execution_count": 6,
   "id": "deec2f67",
   "metadata": {},
   "outputs": [
    {
     "data": {
      "text/plain": [
       "circuit: \n",
       "X(target=(2,), control=(0,))\n",
       "X(target=(3,), control=(1,))"
      ]
     },
     "execution_count": 6,
     "metadata": {},
     "output_type": "execute_result"
    }
   ],
   "source": [
    "UF"
   ]
  },
  {
   "cell_type": "code",
   "execution_count": 7,
   "id": "2352bd2a",
   "metadata": {},
   "outputs": [],
   "source": [
    "# excited state objective\n",
    "objective = E2 - gs_energy*S\n",
    "result2 = tq.minimize(objective, silent = True)\n",
    "ex_energy = result2.energy"
   ]
  },
  {
   "cell_type": "code",
   "execution_count": 8,
   "id": "ea66ae7d",
   "metadata": {},
   "outputs": [
    {
     "name": "stdout",
     "output_type": "stream",
     "text": [
      "energies and errors\n",
      "gs energy: -1.10115 | 0.00000\n",
      "ex energy: -0.35229 | 0.00000\n",
      "overlap  : 0.00000\n"
     ]
    }
   ],
   "source": [
    "print(\"energies and errors\")\n",
    "print(\"gs energy: {:+2.5f} | {:2.5f}\".format(gs_energy, gs_energy-v[0]))\n",
    "\n",
    "# for a bond distance of 1.0, state number 8 (so energy v[8]) is the one we are after\n",
    "# for others it might change, so I just find the closest eigenenergy approximated\n",
    "errors = [abs(ex_energy - e) for e in v]\n",
    "print(\"ex energy: {:+2.5f} | {:2.5f}\".format(ex_energy, min(errors)))\n",
    "\n",
    "# let's compute the overlap (should be zero after optimization)\n",
    "overlap = tq.simulate(S, variables=result2.variables)\n",
    "print(\"overlap  : {:2.5f}\".format(overlap))"
   ]
  },
  {
   "cell_type": "code",
   "execution_count": 9,
   "id": "1f201656",
   "metadata": {},
   "outputs": [
    {
     "name": "stdout",
     "output_type": "stream",
     "text": [
      "Info on the Overlap Objective\n",
      "Objective with 1 unique expectation values\n",
      "total measurements = 1\n",
      "variables          = [((0, 1), 'D', 2)]\n",
      "types              = not compiled\n",
      "tikz2preview h2_excited_state_overlap_circuit.tikz\n",
      "pdflatex -interaction=batchmode h2_excited_state_overlap_circuit.tex\n",
      "This is pdfTeX, Version 3.141592653-2.6-1.40.25 (TeX Live 2023/Debian) (preloaded format=pdflatex)\n",
      " restricted \\write18 enabled.\n",
      "entering extended mode\n"
     ]
    }
   ],
   "source": [
    "# E and E2 are just energy calculations analog to H4 (same model, basically the same 2-qubit circuit)\n",
    "# S is the overlap between the two states\n",
    "# as the two states live in different models, this needs to be incorporated\n",
    "# UF transforms to Fermions and UR rotates the orbitals\n",
    "\n",
    "print(\"Info on the Overlap Objective\")\n",
    "print(S)\n",
    "\n",
    "# get the circuit (only one expectation value in the objective)\n",
    "U = S.get_expectationvalues()[0].U\n",
    "\n",
    "# compile all gates, but stop at \"exponential-pauli\" level\n",
    "# here we only have 2-Paulis as generators\n",
    "# the circuit will have: CNOTS, Ry, and XY-gates with fixed angle (since I can guess the orbital basis here without optimizing)\n",
    "# the circuit just has 1 variable, so explicit optimization might be feasible\n",
    "U = tq.compile_circuit(U, exponential_pauli=False)\n",
    "\n",
    "\n",
    "# circuit as pretty picture (needs qpic installed | will send it with email as well)\n",
    "try:\n",
    "    U.export_to(filename=\"h2_excited_state_overlap_circuit.pdf\")\n",
    "except Exception as E:\n",
    "    print(\"no qpic and/or latex installed ... sorry\")"
   ]
  },
  {
   "cell_type": "code",
   "execution_count": 10,
   "id": "80f88a27",
   "metadata": {},
   "outputs": [
    {
     "name": "stdout",
     "output_type": "stream",
     "text": [
      "((0, 1), 'D', 2) : -1.5725839597474947\n",
      "\n"
     ]
    }
   ],
   "source": [
    "result = tq.minimize(S, silent=True)\n",
    "print(result.variables)"
   ]
  },
  {
   "cell_type": "code",
   "execution_count": 11,
   "id": "79db20ae",
   "metadata": {},
   "outputs": [
    {
     "name": "stdout",
     "output_type": "stream",
     "text": [
      "Objective with 1 unique expectation values\n",
      "total measurements = 15\n",
      "variables          = [((0, 1), 'D', 2)]\n",
      "types              = not compiled\n"
     ]
    }
   ],
   "source": [
    "E = tq.ExpectationValue(H=H, U=U)\n",
    "print(E)"
   ]
  },
  {
   "cell_type": "code",
   "execution_count": 12,
   "id": "6cc57ce6",
   "metadata": {},
   "outputs": [
    {
     "name": "stdout",
     "output_type": "stream",
     "text": [
      "this is the circuit\n",
      "                     ┌──┐                                          ┌──┐\n",
      "0: ───X──────────X────@─────X───H────────X─────────────X───H───X─────@────X───X────────────────────────────────────────────────\n",
      "                 │    │     │            │             │       │     │    │\n",
      "1: ───Y^(-1/9)───@────┼@────@───Y^0.25───@───Y^-0.25───@───────@────@┼────@───Y^(0.318309886183791*f((((0, 1), 'D', 2),))_0)───\n",
      "                      ││                                            ││\n",
      "2: ───────────────────X┼────X───H────────X─────────────X───H───X────┼X─────────────────────────────────────────────────────────\n",
      "                       │    │            │             │       │    │\n",
      "3: ────────────────────X────@───Y^0.25───@───Y^-0.25───@───────@────X──────────────────────────────────────────────────────────\n",
      "                     └──┘                                          └──┘\n",
      "this is the Hamiltonian\n",
      "(-0.3276+0.1372Z(0)+0.1372Z(2)-0.1304Z(1)-0.1304Z(3)+0.1566Z(0)Z(2)+0.0492Y(0)Y(1)Y(2)Y(3)+0.0492Y(0)Y(1)X(2)X(3)+0.0492X(0)X(1)Y(2)Y(3)+0.0492X(0)X(1)X(2)X(3)+0.1062Z(0)Z(1)+0.1554Z(0)Z(3)+0.1554Z(1)Z(2)+0.1062Z(2)Z(3)+0.1633Z(1)Z(3),)\n",
      "\n",
      "\n"
     ]
    }
   ],
   "source": [
    "E2 = tq.compile(E, backend=\"cirq\")\n",
    "for e in E2.get_expectationvalues():\n",
    "    print(\"this is the circuit\")\n",
    "    print(e.U.circuit)\n",
    "    print(\"this is the Hamiltonian\")\n",
    "    print(e.H)\n",
    "    print(\"\")\n",
    "    print(\"\")"
   ]
  },
  {
   "cell_type": "code",
   "execution_count": 13,
   "id": "4eb2fead",
   "metadata": {},
   "outputs": [],
   "source": [
    "import cirq\n",
    "import numpy as np\n",
    "import matplotlib.pyplot as plt"
   ]
  },
  {
   "cell_type": "markdown",
   "id": "ed34a551",
   "metadata": {},
   "source": [
    "Get circuit directly from tequila optimization"
   ]
  },
  {
   "cell_type": "code",
   "execution_count": 14,
   "id": "1c408822",
   "metadata": {},
   "outputs": [],
   "source": [
    "circuit_from_optimization = E2.get_expectationvalues()[0].U.circuit\n",
    "hamiltonian_from_tequila = E2.get_expectationvalues()[0].H"
   ]
  },
  {
   "cell_type": "code",
   "execution_count": 15,
   "id": "556eb8ff",
   "metadata": {},
   "outputs": [],
   "source": [
    "simulator = cirq.Simulator()"
   ]
  },
  {
   "cell_type": "code",
   "execution_count": 16,
   "id": "2d80e766",
   "metadata": {},
   "outputs": [],
   "source": [
    "zero_state_populations = []\n",
    "parameterized_angles = []\n",
    "\n",
    "for parameterized_angle in range(-300, 0, 5):\n",
    "\n",
    "    new_ops = []\n",
    "\n",
    "    for moment in circuit_from_optimization:\n",
    "        for op in moment:\n",
    "\n",
    "            if op.gate not in [cirq.CNOT, cirq.H, cirq.X]:\n",
    "                if type(op.gate.exponent) != float:\n",
    "                    new_ops.append(cirq.YPowGate(exponent=parameterized_angle * 0.01 * 0.31830988618379069, global_shift=-0.5).on(cirq.LineQubit(1)))\n",
    "                else:\n",
    "                    new_ops.append(op)\n",
    "\n",
    "            else:\n",
    "                new_ops.append(op)\n",
    "\n",
    "    new_circuit_from_optimization = cirq.Circuit(new_ops)\n",
    "\n",
    "    result = simulator.simulate(new_circuit_from_optimization)\n",
    "    zero_state_populations.append((result.final_state_vector[0].real)**2)\n",
    "    parameterized_angles.append(parameterized_angle * 0.01)"
   ]
  },
  {
   "cell_type": "code",
   "execution_count": 17,
   "id": "0875089f",
   "metadata": {},
   "outputs": [
    {
     "data": {
      "image/png": "[encoded data removed]",
      "text/plain": [
       "<Figure size 640x480 with 1 Axes>"
      ]
     },
     "metadata": {},
     "output_type": "display_data"
    }
   ],
   "source": [
    "plt.scatter(parameterized_angles, zero_state_populations)\n",
    "plt.xlabel(\"Orbital Angle\")\n",
    "plt.ylabel(r\"$\\langle |00 \\rangle \\langle 00| \\rangle$\")\n",
    "plt.show()"
   ]
  },
  {
   "cell_type": "code",
   "execution_count": null,
   "id": "94e640f2",
   "metadata": {},
   "outputs": [],
   "source": []
  }
 ],
 "metadata": {
  "kernelspec": {
   "display_name": "tequila-beta",
   "language": "python",
   "name": "python3"
  },
  "language_info": {
   "codemirror_mode": {
    "name": "ipython",
    "version": 3
   },
   "file_extension": ".py",
   "mimetype": "text/x-python",
   "name": "python",
   "nbconvert_exporter": "python",
   "pygments_lexer": "ipython3",
   "version": "3.12.3"
  }
 },
 "nbformat": 4,
 "nbformat_minor": 5
}
