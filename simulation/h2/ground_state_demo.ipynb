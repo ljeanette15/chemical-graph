{
 "cells": [
  {
   "cell_type": "markdown",
   "id": "12dceb2e",
   "metadata": {},
   "source": [
    "# Tequile Demo (BROKEN)\n",
    "\n",
    "Demo from Jakob Kottman for G1 VQE optimization using H2"
   ]
  },
  {
   "cell_type": "code",
   "execution_count": 1,
   "id": "24fb193d",
   "metadata": {},
   "outputs": [],
   "source": [
    "import tequila as tq\n",
    "import numpy"
   ]
  },
  {
   "cell_type": "markdown",
   "id": "0c1ec49d",
   "metadata": {},
   "source": [
    "### Part 1: Initialize a Molecule (H2) and Optimize the Orbitals"
   ]
  },
  {
   "cell_type": "code",
   "execution_count": 16,
   "id": "d10b3627",
   "metadata": {},
   "outputs": [
    {
     "name": "stdout",
     "output_type": "stream",
     "text": [
      "Exact energy: -1.101150330232619\n"
     ]
    }
   ],
   "source": [
    "geometry = \"H 0.0 0.0 0.0\\nH 0.0 0.0 1.0\"\n",
    "mol = tq.Molecule(geometry=geometry, basis_set=\"STO-3G\") # STO-3G basically means one orbital per H-Atom\n",
    "\n",
    "# exact energy\n",
    "fci = mol.compute_energy(\"fci\")\n",
    "print(f\"Exact energy: {fci}\")\n",
    "\n",
    "# represent with atomic orbitals (easier to create the guess further down)\n",
    "mol = mol.use_native_orbitals()"
   ]
  },
  {
   "cell_type": "code",
   "execution_count": 17,
   "id": "ee0c1714",
   "metadata": {},
   "outputs": [
    {
     "name": "stdout",
     "output_type": "stream",
     "text": [
      "Optimized energy: -1.101150330132665\n"
     ]
    },
    {
     "name": "stderr",
     "output_type": "stream",
     "text": [
      "/home/liamj/chemical-graph/chemenv/lib/python3.12/site-packages/pyscf/gto/mole.py:1293: UserWarning: Function mol.dumps drops attribute energy_nuc because it is not JSON-serializable\n",
      "  warnings.warn(msg)\n"
     ]
    }
   ],
   "source": [
    "U = mol.make_ansatz(name=\"SPA\", edges=[(0,1)])\n",
    "\n",
    "guess = numpy.asarray([[1.,1.],[1.,-1.]])\n",
    "\n",
    "opt = tq.chemistry.optimize_orbitals(circuit=U, molecule=mol, initial_guess=guess.T, silent=True)\n",
    "print(f\"Optimized energy: {opt.energy}\")\n",
    "\n",
    "# molecule with optimized orbitals for the SPA wavefunction\n",
    "mol = opt.molecule"
   ]
  },
  {
   "cell_type": "markdown",
   "id": "d03d898b",
   "metadata": {},
   "source": [
    "### Part2: G1 Method without Hardware-Friendly Optimization"
   ]
  },
  {
   "cell_type": "code",
   "execution_count": 18,
   "id": "fa7b7426",
   "metadata": {},
   "outputs": [
    {
     "name": "stdout",
     "output_type": "stream",
     "text": [
      "exact energy: -1.1011503 \n",
      "spa energy  : -1.1011503 \n"
     ]
    }
   ],
   "source": [
    "# circuit\n",
    "U = mol.make_ansatz(name=\"SPA\", edges=[(0,1)])\n",
    "\n",
    "# hamiltonian\n",
    "H = mol.make_hamiltonian()\n",
    "\n",
    "# expectation value\n",
    "E = tq.ExpectationValue(H=H, U=U)\n",
    "\n",
    "# VQE\n",
    "result = tq.minimize(E, silent=True)\n",
    "print(\"exact energy: {:+2.7f} \".format(fci))\n",
    "print(\"spa energy  : {:+2.7f} \".format(result.energy))"
   ]
  },
  {
   "cell_type": "markdown",
   "id": "1f9b331b",
   "metadata": {},
   "source": [
    "### Part3: G1 Method with Hardware-Friendly Optimization\n",
    "\n",
    "We are gonna employ the Hardcore-Boson approximation (treat electron-pairs as quasi-particles). G1 (or SPA) circuits are producing wavefunction within that approximation. \n",
    "\n",
    "Net effect:\n",
    "- only half the qubits needed\n",
    "- less measurements (Hamiltonian has naturally less terms)\n",
    "\n",
    "Down side:\n",
    "- needs a bit more tweaking in the code "
   ]
  },
  {
   "cell_type": "code",
   "execution_count": 22,
   "id": "1bdedcd9",
   "metadata": {},
   "outputs": [
    {
     "name": "stdout",
     "output_type": "stream",
     "text": [
      "-0.0077+0.2743Z(0)+0.0984X(0)X(2)+0.0984Y(0)Y(2)-0.2607Z(2)+0.5233Z(0)Z(2)\n",
      "circuit: \n",
      "X(target=(0,))\n",
      "Ry(target=(2,), parameter=((0, 1), 'D', None))\n",
      "X(target=(0,), control=(2,))\n",
      "\n",
      "Objective with 1 unique expectation values\n",
      "total measurements = 6\n",
      "variables          = [((0, 1), 'D', None)]\n",
      "types              = not compiled\n"
     ]
    },
    {
     "name": "stdout",
     "output_type": "stream",
     "text": [
      "\n",
      "exact energy: -1.10115 \n",
      "spa energy  : -1.10115 \n",
      "exact energy in hcb approximation:  -1.101150330232618\n",
      "VQE Wavefunction\n",
      "+0.9845 |100> -0.1753 |001> \n"
     ]
    }
   ],
   "source": [
    "# get the qubit Hamiltonian\n",
    "H = mol.make_hardcore_boson_hamiltonian()\n",
    "# create the SPA ansatz in the HCB representation\n",
    "U = mol.make_ansatz(name=\"HCB-SPA\", edges=[(0,1)])\n",
    "\n",
    "# the following is due to the warning displayed below\n",
    "# HCB-SPA is defined on the even qubits: 0,2,4,...\n",
    "# in order to be consistent with the Hamiltonian above we map it to 0,1,2....\n",
    "# sorry about this, work in progress to make things more consistent\n",
    "# U = U.map_qubits({2*k:k for k in H.qubits})\n",
    "\n",
    "# create an expecationvalue \n",
    "E = tq.ExpectationValue(H=H, U=U)\n",
    "print(H)\n",
    "print(U)\n",
    "print(E)\n",
    "\n",
    "# get optimal angles\n",
    "result = tq.minimize(E, silent=True)\n",
    "opt_angles = result.variables\n",
    "print()\n",
    "\n",
    "# diagonalize hamiltonian\n",
    "v = numpy.linalg.eigvalsh(H.to_matrix())\n",
    "\n",
    "print(\"exact energy: {:+2.5f} \".format(fci))\n",
    "print(\"spa energy  : {:+2.5f} \".format(result.energy))\n",
    "print(\"exact energy in hcb approximation: \", v[0])\n",
    "\n",
    "# compute wavefunctions\n",
    "wfn = tq.simulate(U, opt_angles)\n",
    "print(\"VQE Wavefunction\")\n",
    "print(wfn)"
   ]
  },
  {
   "cell_type": "code",
   "execution_count": 23,
   "id": "75ea5be2",
   "metadata": {},
   "outputs": [
    {
     "name": "stdout",
     "output_type": "stream",
     "text": [
      "((0, 1), 'D', None) : -0.3524189750081696\n",
      "\n"
     ]
    }
   ],
   "source": [
    "print(opt_angles)"
   ]
  },
  {
   "cell_type": "markdown",
   "id": "d6ece476",
   "metadata": {},
   "source": [
    "### Part4: G1 Method with Hardware-Friendly Optimization and Measurement Optimization\n",
    "\n",
    "We are gonna employ measurement optimization techniques. In this case it's gonna reduce the measurements of our Hamiltonian from 6 to 3.\n",
    "\n",
    "- before: 6 individual Pauli-Strings\n",
    "- after: 3 Expectationvalues, each with an all-Z Pauli\n",
    "\n",
    "Down side:\n",
    "- circuits get larger\n",
    "- in this case: not that bad after manual optimization"
   ]
  },
  {
   "cell_type": "code",
   "execution_count": 24,
   "id": "1e2f3e96",
   "metadata": {},
   "outputs": [
    {
     "name": "stdout",
     "output_type": "stream",
     "text": [
      "Objective with 1 unique expectation values\n",
      "total measurements = 6\n",
      "variables          = [((0, 1), 'D', None)]\n",
      "types              = not compiled\n",
      "-1.1129699601450658\n",
      "-1.0886820782262001\n",
      "-1.10138733470916\n"
     ]
    }
   ],
   "source": [
    "# create an expectation vaue\n",
    "# 6 measurements since there are 6 Pauli-Strings in the Hamiltonian above\n",
    "E = tq.ExpectationValue(H=H, U=U)\n",
    "print(E)\n",
    "\n",
    "# evaluate with shots\n",
    "shots=1000\n",
    "energies=[tq.simulate(E, opt_angles, samples=shots) for _ in range(100)]\n",
    "# min, max, average\n",
    "print(min(energies))\n",
    "print(max(energies))\n",
    "print(sum(energies)/100)"
   ]
  },
  {
   "cell_type": "markdown",
   "id": "a22bed29",
   "metadata": {},
   "source": [
    "Without measurement optimization"
   ]
  },
  {
   "cell_type": "code",
   "execution_count": 10,
   "id": "ada513ba",
   "metadata": {},
   "outputs": [
    {
     "name": "stdout",
     "output_type": "stream",
     "text": [
      "this is the circuit\n",
      "0: ───X───────────────────────────────────────────────────X───\n",
      "                                                          │\n",
      "1: ───Y^(0.318309886183791*f((((0, 1), 'D', None),))_0)───@───\n",
      "this is the Hamiltonian\n",
      "(-0.0077+0.2743Z(0)+0.0984X(0)X(2)+0.0984Y(0)Y(2)-0.2607Z(2)+0.5233Z(0)Z(2),)\n",
      "\n",
      "\n"
     ]
    }
   ],
   "source": [
    "E2 = tq.compile(E, backend=\"cirq\")\n",
    "for e in E2.get_expectationvalues():\n",
    "    print(\"this is the circuit\")\n",
    "    print(e.U.circuit)\n",
    "    print(\"this is the Hamiltonian\")\n",
    "    print(e.H)\n",
    "    print(\"\")\n",
    "    print(\"\")"
   ]
  },
  {
   "cell_type": "markdown",
   "id": "5d124648",
   "metadata": {},
   "source": [
    "With measurement optimization"
   ]
  },
  {
   "cell_type": "code",
   "execution_count": 27,
   "id": "f57dd2b9",
   "metadata": {},
   "outputs": [
    {
     "name": "stdout",
     "output_type": "stream",
     "text": [
      "Objective with 3 unique expectation values\n",
      "total measurements = 3\n",
      "variables          = [((0, 1), 'D', None)]\n",
      "types              = not compiled\n",
      "-1.050486685900058\n",
      "-1.0163429932488004\n",
      "-1.0326256145796773\n"
     ]
    }
   ],
   "source": [
    "# now with measurement optimization\n",
    "options = {\"method\":\"si\", \"condition\": \"qwc\"}\n",
    "E = tq.ExpectationValue(H=H, U=U, optimize_measurements=options)\n",
    "print(E)\n",
    "\n",
    "# evaluate with shots\n",
    "shots=1000\n",
    "energies=[tq.simulate(E, opt_angles, samples=shots) for _ in range(100)]\n",
    "# min, max, average\n",
    "print(min(energies))\n",
    "print(max(energies))\n",
    "print(sum(energies)/100)"
   ]
  },
  {
   "cell_type": "code",
   "execution_count": 30,
   "id": "a2d39fa6",
   "metadata": {},
   "outputs": [
    {
     "name": "stdout",
     "output_type": "stream",
     "text": [
      "this is the circuit\n",
      "circuit: \n",
      "X(target=(0,))\n",
      "Ry(target=(2,), parameter=((0, 1), 'D', None))\n",
      "X(target=(0,), control=(2,))\n",
      "\n",
      "this is the Hamiltonian\n",
      "(+0.5233Z(0)Z(2)+0.2743Z(0)-0.2607Z(2)-0.0077,)\n",
      "this is the circuit\n",
      "circuit: \n",
      "X(target=(0,))\n",
      "Ry(target=(2,), parameter=((0, 1), 'D', None))\n",
      "X(target=(0,), control=(2,))\n",
      "H(target=(2,))\n",
      "H(target=(1,))\n",
      "H(target=(0,))\n",
      "Phase(target=(2,), parameter=1.5707963267948966)\n",
      "Phase(target=(2,), parameter=1.5707963267948966)\n",
      "Phase(target=(1,), parameter=1.5707963267948966)\n",
      "Phase(target=(1,), parameter=1.5707963267948966)\n",
      "Phase(target=(0,), parameter=1.5707963267948966)\n",
      "Phase(target=(0,), parameter=1.5707963267948966)\n",
      "Phase(target=(2,), parameter=1.5707963267948966)\n",
      "Phase(target=(1,), parameter=1.5707963267948966)\n",
      "Phase(target=(0,), parameter=1.5707963267948966)\n",
      "Phase(target=(2,), parameter=1.5707963267948966)\n",
      "Phase(target=(1,), parameter=1.5707963267948966)\n",
      "Phase(target=(0,), parameter=1.5707963267948966)\n",
      "H(target=(1,))\n",
      "\n",
      "this is the Hamiltonian\n",
      "(+0.0984Z(0)Z(2),)\n",
      "this is the circuit\n",
      "circuit: \n",
      "X(target=(0,))\n",
      "Ry(target=(2,), parameter=((0, 1), 'D', None))\n",
      "X(target=(0,), control=(2,))\n",
      "Phase(target=(1,), parameter=1.5707963267948966)\n",
      "Phase(target=(1,), parameter=1.5707963267948966)\n",
      "Phase(target=(2,), parameter=1.5707963267948966)\n",
      "Phase(target=(1,), parameter=1.5707963267948966)\n",
      "Phase(target=(0,), parameter=1.5707963267948966)\n",
      "Phase(target=(1,), parameter=1.5707963267948966)\n",
      "H(target=(2,))\n",
      "H(target=(1,))\n",
      "H(target=(0,))\n",
      "Phase(target=(2,), parameter=1.5707963267948966)\n",
      "Phase(target=(2,), parameter=1.5707963267948966)\n",
      "Phase(target=(1,), parameter=1.5707963267948966)\n",
      "Phase(target=(1,), parameter=1.5707963267948966)\n",
      "Phase(target=(0,), parameter=1.5707963267948966)\n",
      "Phase(target=(0,), parameter=1.5707963267948966)\n",
      "Phase(target=(2,), parameter=1.5707963267948966)\n",
      "Phase(target=(1,), parameter=1.5707963267948966)\n",
      "Phase(target=(0,), parameter=1.5707963267948966)\n",
      "Phase(target=(1,), parameter=1.5707963267948966)\n",
      "H(target=(1,))\n",
      "\n",
      "this is the Hamiltonian\n",
      "(+0.0984Z(0)Z(2),)\n"
     ]
    }
   ],
   "source": [
    "# here you can get the individual circuits and the measurement instructions\n",
    "# the total expectation value is then everything accumulated\n",
    "# you see that the measurement optimization is adding stuff to the circuit\n",
    "# in this case it's however just a single qubit rotation\n",
    "# the automatic procedure is however not perfect, as you can see :-) \n",
    "for e in E.get_expectationvalues():\n",
    "    print(\"this is the circuit\")\n",
    "    print(e.U)\n",
    "    print(\"this is the Hamiltonian\")\n",
    "    print(e.H)"
   ]
  },
  {
   "cell_type": "code",
   "execution_count": 31,
   "id": "7f982d30",
   "metadata": {},
   "outputs": [
    {
     "name": "stdout",
     "output_type": "stream",
     "text": [
      "this is the circuit\n",
      "0: ───X───────────────────────────────────────────────────X───\n",
      "                                                          │\n",
      "1: ───Y^(0.318309886183791*f((((0, 1), 'D', None),))_0)───@───\n",
      "this is the Hamiltonian\n",
      "(-0.0077+0.5233Z(0)Z(2)+0.2743Z(0)-0.2607Z(2),)\n",
      "\n",
      "\n",
      "this is the circuit\n",
      "                                                          ┌──┐\n",
      "0: ───X────────────────────────────────────────────────────X─────H───S───S───S───S───\n",
      "                                                           │\n",
      "1: ───H────────────────────────────────────────────────────┼S────S───S───S───H───────\n",
      "                                                           │\n",
      "2: ───Y^(0.318309886183791*f((((0, 1), 'D', None),))_0)────@─────H───S───S───S───S───\n",
      "                                                          └──┘\n",
      "this is the Hamiltonian\n",
      "(+0.0984Z(0)Z(2),)\n",
      "\n",
      "\n",
      "this is the circuit\n",
      "                                                          ┌──┐\n",
      "0: ───X────────────────────────────────────────────────────X─────S───H───S───S───S───────────────\n",
      "                                                           │\n",
      "1: ───S────────────────────────────────────────────────────┼S────S───S───H───S───S───S───S───H───\n",
      "                                                           │\n",
      "2: ───Y^(0.318309886183791*f((((0, 1), 'D', None),))_0)────@─────S───H───S───S───S───────────────\n",
      "                                                          └──┘\n",
      "this is the Hamiltonian\n",
      "(+0.0984Z(0)Z(2),)\n",
      "\n",
      "\n"
     ]
    }
   ],
   "source": [
    "# here is the same, but with the circuits in cirq objects\n",
    "# you can also replace backend=\"qiskit\" \n",
    "E2 = tq.compile(E, backend=\"cirq\")\n",
    "for e in E2.get_expectationvalues():\n",
    "    print(\"this is the circuit\")\n",
    "    print(e.U.circuit)\n",
    "    print(\"this is the Hamiltonian\")\n",
    "    print(e.H)\n",
    "    print(\"\")\n",
    "    print(\"\")"
   ]
  },
  {
   "cell_type": "code",
   "execution_count": null,
   "id": "c7ab3db9",
   "metadata": {},
   "outputs": [],
   "source": []
  }
 ],
 "metadata": {
  "kernelspec": {
   "display_name": "chemenv",
   "language": "python",
   "name": "python3"
  },
  "language_info": {
   "codemirror_mode": {
    "name": "ipython",
    "version": 3
   },
   "file_extension": ".py",
   "mimetype": "text/x-python",
   "name": "python",
   "nbconvert_exporter": "python",
   "pygments_lexer": "ipython3",
   "version": "3.12.3"
  }
 },
 "nbformat": 4,
 "nbformat_minor": 5
}
