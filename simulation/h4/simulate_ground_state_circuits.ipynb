{
 "cells": [
  {
   "cell_type": "code",
   "execution_count": 2,
   "id": "91398d2a",
   "metadata": {},
   "outputs": [],
   "source": [
    "import cirq\n",
    "import qiskit\n",
    "from qiskit.qasm3 import loads\n",
    "from qiskit import QuantumCircuit\n",
    "from qiskit_aer import AerSimulator, Aer\n",
    "from qiskit.quantum_info import SparsePauliOp, Statevector, DensityMatrix\n",
    "import numpy as np\n",
    "from qiskit import QuantumCircuit\n",
    "from qiskit.quantum_info import Kraus, SuperOp\n",
    "from qiskit.visualization import plot_histogram\n",
    "from qiskit.transpiler import generate_preset_pass_manager\n",
    " \n",
    "# Import from Qiskit Aer noise module\n",
    "from qiskit_aer.noise import (\n",
    "    NoiseModel,\n",
    "    QuantumError,\n",
    "    ReadoutError,\n",
    "    depolarizing_error,\n",
    "    pauli_error,\n",
    "    thermal_relaxation_error,\n",
    "    kraus_error\n",
    ")\n",
    "\n",
    "from qiskit_ionq import IonQProvider\n",
    "\n",
    "import cirq_ionq\n",
    "from cirq_ionq.ionq_native_gates import GPIGate, GPI2Gate, MSGate\n",
    "\n",
    "# import qibo\n",
    "# qibo.set_backend(\"numpy\")\n",
    "\n",
    "import tequila as tq\n",
    "import numpy as np\n",
    "import copy\n",
    "import sys\n",
    "import os\n",
    "import time\n",
    "\n",
    "import matplotlib.pyplot as plt\n",
    "\n",
    "sys.path.append('../../../../Gates_Lab_Suite')\n",
    "sys.path.append('../../utils')\n",
    "\n",
    "from hamiltonian_reduction import (\n",
    "    reduce_measurements_naive\n",
    ")\n",
    "\n",
    "from simulation_tools import (\n",
    "    get_energy_from_data,\n",
    "    simulate_data_cirq,\n",
    "    get_measurement_dict_from_H,\n",
    "    get_energy_from_expectation_values,\n",
    "    get_energy_from_data,\n",
    "    convert_tq_H_to_cirq_H,\n",
    "    convert_tq_H_to_dict_H,\n",
    "    convert_population_data_to_expectation_values,\n",
    "    get_qiskit_pauli_list_from_tq_H,\n",
    "    build_ionq_noise_model)"
   ]
  },
  {
   "cell_type": "markdown",
   "id": "652655be",
   "metadata": {},
   "source": [
    "# Jordan Wigner Transformation"
   ]
  },
  {
   "cell_type": "code",
   "execution_count": 3,
   "id": "1859fe94",
   "metadata": {},
   "outputs": [],
   "source": [
    "# Define the geometry\n",
    "g = \"h 0.0 0.0 0.0\\nh 0.0 0.0 1.5\\nh 0.0 0.0 3.0\\nh 0.0 0.0 4.5\"\n",
    "\n",
    "# Get molecule\n",
    "mol_JW = tq.Molecule(backend=\"pyscf\", geometry=g, basis_set=\"sto-3g\", transformation=\"JordanWigner\").use_native_orbitals()"
   ]
  },
  {
   "cell_type": "code",
   "execution_count": 4,
   "id": "ca59a13b",
   "metadata": {},
   "outputs": [
    {
     "name": "stderr",
     "output_type": "stream",
     "text": [
      "/home/liamj/Molecular Simulation/teq-beta-env/lib/python3.12/site-packages/pyscf/gto/mole.py:1300: UserWarning: Function mol.dumps drops attribute energy_nuc because it is not JSON-serializable\n",
      "  warnings.warn(msg)\n"
     ]
    },
    {
     "name": "stdout",
     "output_type": "stream",
     "text": [
      "HF  -1.8291374124430178\n",
      "FCI  -1.9961503255188089\n"
     ]
    }
   ],
   "source": [
    "print('HF ', mol_JW.compute_energy('HF'))\n",
    "fci = mol_JW.compute_energy('FCI')\n",
    "print('FCI ', fci)"
   ]
  },
  {
   "cell_type": "markdown",
   "id": "eb000411",
   "metadata": {},
   "source": [
    "### Method 1: G1 SPA"
   ]
  },
  {
   "cell_type": "code",
   "execution_count": 5,
   "id": "ea57a5c0",
   "metadata": {},
   "outputs": [
    {
     "name": "stdout",
     "output_type": "stream",
     "text": [
      "difference from fci: 39.89570428503364 mH\n"
     ]
    }
   ],
   "source": [
    "U_JW_SPA = mol_JW.make_ansatz(\"SPA\", edges=[(0,1),(2,3)])\n",
    "H_JW_G1 = mol_JW.make_hamiltonian()\n",
    "\n",
    "# Unitary for two orbital rotations (parameterized by 'a' and 'b')\n",
    "U0 = mol_JW.UR(0,1,'a') + mol_JW.UR(2,3,'b')\n",
    "U_JW_G1 = U0 + U_JW_SPA + U0.dagger()\n",
    "\n",
    "res = tq.minimize(tq.ExpectationValue(H=H_JW_G1, U=U_JW_G1), silent=True)\n",
    "\n",
    "U_JW_G1_mapped = U_JW_G1.map_variables(variables=res.variables)\n",
    "\n",
    "for gate in U_JW_G1_mapped.gates:\n",
    "    try:\n",
    "        if not isinstance(gate.parameter, tq.objective.objective.Variable):\n",
    "            gate.parameter = gate.parameter.transformation(gate.parameter.args[0])\n",
    "    except:\n",
    "        x = 1\n",
    "\n",
    "cirq_JW_G1_parameterized = tq.compile(U_JW_G1, backend=\"cirq\").circuit\n",
    "qiskit_JW_G1_parameterized_variables_raw = tq.compile(U_JW_G1, backend=\"qiskit\")\n",
    "qiskit_JW_G1_parameterized_variables = qiskit_JW_G1_parameterized_variables_raw.circuit\n",
    "\n",
    "\n",
    "cirq_JW_G1 = tq.compile(U_JW_G1_mapped, backend=\"cirq\").circuit\n",
    "qiskit_JW_G1 = tq.compile(U_JW_G1_mapped, backend=\"qiskit\").circuit\n",
    "# qiskit_JW_G1 = qiskit.QuantumCircuit.from_qasm_str(cirq.qasm(cirq_JW_G1))\n",
    "\n",
    "# Assign all parameters except one:\n",
    "all_params = qiskit_JW_G1_parameterized_variables.parameters\n",
    "\n",
    "param_mapping = {}\n",
    "\n",
    "for param, obj in qiskit_JW_G1_parameterized_variables_raw.pars_to_tq.items():\n",
    "    if 'f((a,))' in param.name:\n",
    "        param_mapping[param] = obj.transformation(res.variables['a'])\n",
    "    elif 'f((b,))' in param.name:\n",
    "        param_mapping[param] = obj.transformation(res.variables['b'])\n",
    "    elif 'f((((0, 1)' in param.name:\n",
    "        param_mapping[param] = res.variables[list(dict(res.variables).keys())[2]]\n",
    "    elif 'f((((2, 3)' in param.name:\n",
    "        param_mapping[param] = res.variables[list(dict(res.variables).keys())[3]]\n",
    "\n",
    "qiskit_JW_G1_parameterized = qiskit_JW_G1_parameterized_variables.assign_parameters(param_mapping)\n",
    "\n",
    "energy_JW_G1 = res.energy\n",
    "print(f\"difference from fci: {abs(res.energy-fci)*1000} mH\")\n",
    "\n",
    "# print(f\"Original number of measurements: {len(H_JW_G1.keys())}\")\n",
    "# reduced_measurements_JW_G1 = reduce_measurements_naive(H_JW_G1, 8)\n",
    "# print(f\"Reduced number of measurements: {len(reduced_measurements_JW_G1)}\")"
   ]
  },
  {
   "cell_type": "markdown",
   "id": "adccc2f6",
   "metadata": {},
   "source": [
    "### Method 2: G1 SPA with optimized orbitals"
   ]
  },
  {
   "cell_type": "code",
   "execution_count": 6,
   "id": "a3f640e0",
   "metadata": {},
   "outputs": [
    {
     "name": "stdout",
     "output_type": "stream",
     "text": [
      "difference from fci: 16.26244097546259 mH\n",
      "\n"
     ]
    }
   ],
   "source": [
    "# If u want regular obrital optimization u can use:\n",
    "guess = np.eye(4)\n",
    "opt = tq.quantumchemistry.optimize_orbitals(molecule=mol_JW,circuit=U_JW_SPA, initial_guess=guess, silent=True).molecule\n",
    "H_JW_G1_optimized_orbitals = opt.make_hamiltonian()\n",
    "res = tq.minimize(tq.ExpectationValue(H=H_JW_G1_optimized_orbitals,U=U_JW_SPA), silent=True)\n",
    "\n",
    "U_JW_G1_optimized_orbitals_fixed_params = U_JW_SPA.map_variables(variables=res.variables)\n",
    "cirq_JW_G1_optimized_orbitals = tq.compile(U_JW_G1_optimized_orbitals_fixed_params, backend=\"cirq\").circuit\n",
    "qiskit_JW_G1_optimized_orbitals = tq.compile(U_JW_G1_optimized_orbitals_fixed_params, backend=\"qiskit\").circuit\n",
    "# qiskit_JW_G1_optimized_orbitals = qiskit.QuantumCircuit.from_qasm_str(cirq.qasm(cirq_JW_G1_optimized_orbitals))\n",
    "\n",
    "print(f\"difference from fci: {abs(res.energy-fci)*1000} mH\\n\")\n",
    "energy_JW_G1_optimized_orbitals = res.energy\n",
    "\n",
    "# print(f\"Original number of measurements: {len(H_JW_G1_optimized_orbitals.keys())}\")\n",
    "# reduced_measurements_JW_G1_optimized_orbitals = reduce_measurements_naive(H_JW_G1_optimized_orbitals, 8)\n",
    "# print(f\"Reduced number of measurements: {len(reduced_measurements_JW_G1_optimized_orbitals)}\")"
   ]
  },
  {
   "cell_type": "markdown",
   "id": "694a4510",
   "metadata": {},
   "source": [
    "### Method 3: G2"
   ]
  },
  {
   "cell_type": "code",
   "execution_count": 7,
   "id": "914193a1",
   "metadata": {},
   "outputs": [
    {
     "name": "stdout",
     "output_type": "stream",
     "text": [
      "difference from fci: 16.69940439771933 mH\n",
      "\n"
     ]
    }
   ],
   "source": [
    "# If u want to use Orbital Correlator for more graphs eg. (1,2) u can use:\n",
    "U1 = mol_JW.UR(1,2,'c')\n",
    "UC = mol_JW.UC(1,2,'d')\n",
    "U_JW_G2 = U_JW_SPA + U0 + U1 + UC + U0.dagger() + U1.dagger()\n",
    "res = tq.minimize(tq.ExpectationValue(H=H_JW_G1,U=U_JW_G2), silent=True)\n",
    "\n",
    "U_JW_G2_mapped = U_JW_G2.map_variables(variables=res.variables)\n",
    "\n",
    "for gate in U_JW_G2_mapped.gates:\n",
    "    try:\n",
    "        if not isinstance(gate.parameter, tq.objective.objective.Variable):\n",
    "            gate.parameter = gate.parameter.transformation(gate.parameter.args[0])\n",
    "    except:\n",
    "        x = 1\n",
    "\n",
    "cirq_JW_G2 = tq.compile(U_JW_G2_mapped, backend=\"cirq\").circuit\n",
    "qiskit_JW_G2 = tq.compile(U_JW_G2_mapped, backend=\"qiskit\").circuit\n",
    "# qiskit_JW_G2 = qiskit.QuantumCircuit.from_qasm_str(cirq.qasm(cirq_JW_G2))\n",
    "\n",
    "print(f\"difference from fci: {abs(res.energy-fci)*1000} mH\\n\")\n",
    "energy_JW_G2 = res.energy\n",
    "\n",
    "# print(f\"Original number of measurements: {len(H_JW_G1.keys())}\")\n",
    "# reduced_measurements_JW_G2 = reduce_measurements_naive(H_JW_G1, 8)\n",
    "# print(f\"Reduced number of measurements: {len(reduced_measurements_JW_G2)}\")"
   ]
  },
  {
   "cell_type": "markdown",
   "id": "319f424c",
   "metadata": {},
   "source": [
    "### Method 4: G2 with optimized Orbitals"
   ]
  },
  {
   "cell_type": "code",
   "execution_count": 8,
   "id": "2e6741d5",
   "metadata": {},
   "outputs": [
    {
     "name": "stdout",
     "output_type": "stream",
     "text": [
      "difference from fci: 9.697128646924291 mH\n"
     ]
    }
   ],
   "source": [
    "U_JW_G2_optimized_orbitals = U_JW_SPA\n",
    "U_JW_G2_optimized_orbitals += mol_JW.UR(0,2, angle=(tq.Variable(\"a_1\") + 0.5) * np.pi) + mol_JW.UR(1,3, angle=(tq.Variable(\"a_2\") + 0.5) * np.pi)\n",
    "U_JW_G2_optimized_orbitals += mol_JW.UC(0,2, angle=tq.Variable(\"b_1\") * np.pi) + mol_JW.UC(1,3, angle=tq.Variable(\"b_2\") * np.pi)\n",
    "U_JW_G2_optimized_orbitals += mol_JW.UR(0,2, angle=(tq.Variable(\"c_1\") + 0.5) * np.pi) + mol_JW.UR(1,3, angle=(tq.Variable(\"c_2\") + 0.5) * np.pi)\n",
    "res = tq.minimize(tq.ExpectationValue(H=H_JW_G1_optimized_orbitals,U=U_JW_G2_optimized_orbitals),silent=True)\n",
    "\n",
    "U_JW_G2_optimized_orbitals_mapped = U_JW_G2_optimized_orbitals.map_variables(variables=res.variables)\n",
    "\n",
    "for gate in U_JW_G2_optimized_orbitals_mapped.gates:\n",
    "    try:\n",
    "        if not isinstance(gate.parameter, tq.objective.objective.Variable):\n",
    "            gate.parameter = gate.parameter.transformation(gate.parameter.args[0])\n",
    "    except:\n",
    "        x = 1\n",
    "\n",
    "cirq_JW_G2_optimized_orbitals = tq.compile(U_JW_G2_optimized_orbitals_mapped, backend=\"cirq\").circuit\n",
    "qiskit_JW_G2_optimized_orbitals = tq.compile(U_JW_G2_optimized_orbitals_mapped, backend=\"qiskit\").circuit\n",
    "# qiskit_JW_G2_optimized_orbitals = qiskit.QuantumCircuit.from_qasm_str(cirq.qasm(cirq_JW_G2_optimized_orbitals))\n",
    "\n",
    "print(f\"difference from fci: {abs(res.energy-fci)*1000} mH\")\n",
    "energy_JW_G2_optimized_orbitals = res.energy\n",
    "\n",
    "# print(f\"Original number of measurements: {len(H_JW_G1_optimized_orbitals.keys())}\")\n",
    "# reduced_measurements_JW_G2_optimized_orbitals = reduce_measurements_naive(H_JW_G1_optimized_orbitals, 8)\n",
    "# print(f\"Reduced number of measurements: {len(reduced_measurements_JW_G2_optimized_orbitals)}\")"
   ]
  },
  {
   "cell_type": "code",
   "execution_count": 9,
   "id": "4e784015",
   "metadata": {},
   "outputs": [
    {
     "name": "stdout",
     "output_type": "stream",
     "text": [
      "tikz2preview H4_JW_G2_optimized_orbitals.tikz\n",
      "pdflatex -interaction=batchmode H4_JW_G2_optimized_orbitals.tex\n",
      "This is pdfTeX, Version 3.141592653-2.6-1.40.25 (TeX Live 2023/Debian) (preloaded format=pdflatex)\n",
      " restricted \\write18 enabled.\n",
      "entering extended mode\n"
     ]
    }
   ],
   "source": [
    "try:\n",
    "    U_JW_G2_optimized_orbitals.export_to(filename=\"H4_JW_G2_optimized_orbitals.pdf\")\n",
    "except Exception as E:\n",
    "    print(\"no qpic and/or latex installed ... sorry\")"
   ]
  },
  {
   "cell_type": "markdown",
   "id": "853a9509",
   "metadata": {},
   "source": [
    "# Parity Tapering Transformation"
   ]
  },
  {
   "cell_type": "code",
   "execution_count": 10,
   "id": "44414a0b",
   "metadata": {},
   "outputs": [],
   "source": [
    "g = \"h 0.0 0.0 0.0\\nh 0.0 0.0 1.5\\nh 0.0 0.0 3.0\\nh 0.0 0.0 4.5\"\n",
    "\n",
    "mol = tq.Molecule(backend=\"pyscf\", geometry=g, basis_set=\"sto-3g\", transformation=\"TaperedBinary\").use_native_orbitals()"
   ]
  },
  {
   "cell_type": "code",
   "execution_count": 11,
   "id": "54178753",
   "metadata": {},
   "outputs": [
    {
     "name": "stderr",
     "output_type": "stream",
     "text": [
      "/home/liamj/Molecular Simulation/teq-beta-env/lib/python3.12/site-packages/pyscf/gto/mole.py:1300: UserWarning: Function mol.dumps drops attribute energy_nuc because it is not JSON-serializable\n",
      "  warnings.warn(msg)\n"
     ]
    },
    {
     "name": "stdout",
     "output_type": "stream",
     "text": [
      "HF  -1.829137412443019\n",
      "FCI  -1.9961503255188089\n"
     ]
    }
   ],
   "source": [
    "# You can check the Hartree Fock Energy and FCI energy like this:\n",
    "print('HF ', mol.compute_energy('HF'))\n",
    "fci = mol.compute_energy('FCI')\n",
    "print('FCI ', fci)"
   ]
  },
  {
   "cell_type": "markdown",
   "id": "af8bb852",
   "metadata": {},
   "source": [
    "### Method 1: G1"
   ]
  },
  {
   "cell_type": "code",
   "execution_count": 24,
   "id": "531a5d30",
   "metadata": {},
   "outputs": [],
   "source": [
    "# U_PT_SPA = mol.make_ansatz(\"SPA\", edges=[(0,1),(2,3)])\n",
    "# H_PT_G1 = mol.make_hamiltonian()\n",
    "\n",
    "# # This is how to properly calculate the SPA energy, without optimizing the orbitals\n",
    "# # The UR0 basically optimizes the orbitals\n",
    "# U0 = mol.UR(0,1,'a') + mol.UR(2,3,'b')\n",
    "# U_PT_G1 = U0 + U_PT_SPA + U0.dagger()\n",
    "# res = tq.minimize(tq.ExpectationValue(H=H_PT_G1,U=U_PT_G1),silent=True)\n",
    "\n",
    "# U_PT_G1_mapped = U_PT_G1.map_variables(variables=res.variables)\n",
    "\n",
    "# for gate in U_PT_G1_mapped.gates:\n",
    "#     try:\n",
    "#         if not isinstance(gate.parameter, tq.objective.objective.Variable):\n",
    "#             gate.parameter = gate.parameter.transformation(gate.parameter.args[0])\n",
    "#     except:\n",
    "#         x = 1\n",
    "\n",
    "# cirq_PT_G1 = tq.compile(U_PT_G1_mapped, backend=\"cirq\").circuit\n",
    "# qiskit_PT_G1 = tq.compile(U_PT_G1_mapped, backend=\"qiskit\").circuit\n",
    "\n",
    "# energy_PT_G1 = res.energy\n",
    "\n",
    "# print(f\"difference from fci: {abs(res.energy-fci)*1000} mH\")\n",
    "\n",
    "# # print(f\"Original number of measurements: {len(H_PT_G1.keys())}\")\n",
    "# # reduced_measurements_PT_G1 = reduce_measurements_naive(H_PT_G1, 6)\n",
    "# # print(f\"Reduced number of measurements: {len(reduced_measurements_PT_G1)}\")"
   ]
  },
  {
   "cell_type": "markdown",
   "id": "83fd4eea",
   "metadata": {},
   "source": [
    "### Method 2: G1 with optimized Orbitals"
   ]
  },
  {
   "cell_type": "code",
   "execution_count": 25,
   "id": "e6261676",
   "metadata": {},
   "outputs": [],
   "source": [
    "# # If u want regular obrital optimization u can use:\n",
    "# guess = np.eye(4)\n",
    "# opt = tq.quantumchemistry.optimize_orbitals(molecule=mol,circuit=U_PT_SPA, initial_guess=guess, silent=True).molecule\n",
    "# H_PT_G1_opt = opt.make_hamiltonian()\n",
    "# res = tq.minimize(tq.ExpectationValue(H=H_PT_G1_opt,U=U_PT_SPA), silent=True)\n",
    "\n",
    "# U_PT_G1_optimized_orbitals_fixed_params = U_PT_SPA.map_variables(variables=res.variables)\n",
    "\n",
    "# cirq_PT_G1_optimized_orbitals = tq.compile(U_PT_G1_optimized_orbitals_fixed_params, backend=\"cirq\").circuit\n",
    "# qiskit_PT_G1_optimized_orbitals = tq.compile(U_PT_G1_optimized_orbitals_fixed_params, backend=\"qiskit\").circuit\n",
    "\n",
    "# energy_PT_G1_optimized_orbitals = res.energy\n",
    "\n",
    "# print(f\"difference from fci: {abs(res.energy-fci)*1000} mH\\n\")\n",
    "\n",
    "# # print(f\"Original number of measurements: {len(H_PT_G1_opt.keys())}\")\n",
    "# # reduced_measurements_PT_G1_optimized_orbitals = reduce_measurements_naive(H_PT_G1_opt, 6)\n",
    "# # print(f\"Reduced number of measurements: {len(reduced_measurements_PT_G1_optimized_orbitals)}\")"
   ]
  },
  {
   "cell_type": "markdown",
   "id": "4db1481e",
   "metadata": {},
   "source": [
    "### Method 3: G2"
   ]
  },
  {
   "cell_type": "code",
   "execution_count": 26,
   "id": "49c1ebc0",
   "metadata": {},
   "outputs": [],
   "source": [
    "# # If u want to use Orbital Correlator for more graphs eg. (1,2) u can use:\n",
    "# U1 = mol.UR(1,2,'c')\n",
    "# UC = mol.UC(1,2,'d')\n",
    "# U_PT_G2 = U_PT_SPA + U0 + U1 + UC + U0.dagger() + U1.dagger()\n",
    "# res = tq.minimize(tq.ExpectationValue(H=H_PT_G1,U=U_PT_G2), silent=True)\n",
    "\n",
    "# U_PT_G2_mapped = U_PT_G2.map_variables(variables=res.variables)\n",
    "\n",
    "# for gate in U_PT_G2_mapped.gates:\n",
    "#     try:\n",
    "#         if not isinstance(gate.parameter, tq.objective.objective.Variable):\n",
    "#             gate.parameter = gate.parameter.transformation(gate.parameter.args[0])\n",
    "#     except:\n",
    "#         x = 1\n",
    "\n",
    "# cirq_PT_G2 = tq.compile(U_PT_G2_mapped, backend=\"cirq\").circuit\n",
    "# qiskit_PT_G2 = tq.compile(U_PT_G2_mapped, backend=\"qiskit\").circuit\n",
    "\n",
    "# energy_PT_G2 = res.energy\n",
    "\n",
    "# print(f\"difference from fci: {abs(res.energy-fci)*1000} mH\\n\")\n",
    "\n",
    "# # print(f\"Original number of measurements: {len(H_PT_G1.keys())}\")\n",
    "# # reduced_measurements_PT_G2 = reduce_measurements_naive(H_PT_G1, 6)\n",
    "# # print(f\"Reduced number of measurements: {len(reduced_measurements_PT_G2)}\")"
   ]
  },
  {
   "cell_type": "markdown",
   "id": "cb2257ca",
   "metadata": {},
   "source": [
    "### Method 4: G2 with Optimized Orbitals"
   ]
  },
  {
   "cell_type": "code",
   "execution_count": 27,
   "id": "7874fb43",
   "metadata": {},
   "outputs": [],
   "source": [
    "# # U can also add Orbital optimization to the Rotator - Corellator / use our optimized Hamiltonian\n",
    "# U_PT_G2_optimized_orbitals = U_PT_SPA\n",
    "# U_PT_G2_optimized_orbitals += mol.UR(0,2, angle=(tq.Variable(\"a_1\") + 0.5) * np.pi) + mol.UR(1,3, angle=(tq.Variable(\"a_2\") + 0.5) * np.pi)\n",
    "# U_PT_G2_optimized_orbitals += mol.UC(0,2, angle=tq.Variable(\"b_1\") * np.pi) + mol.UC(1,3, angle=tq.Variable(\"b_2\") * np.pi)\n",
    "# U_PT_G2_optimized_orbitals += mol.UR(0,2, angle=(tq.Variable(\"c_1\") + 0.5) * np.pi) + mol.UR(1,3, angle=(tq.Variable(\"c_2\") + 0.5) * np.pi)\n",
    "# res = tq.minimize(tq.ExpectationValue(H=H_PT_G1_opt,U=U_PT_G2_optimized_orbitals),silent=True)\n",
    "\n",
    "# U_PT_G2_optimized_orbitals_mapped = U_PT_G2_optimized_orbitals.map_variables(variables=res.variables)\n",
    "\n",
    "# for gate in U_PT_G2_optimized_orbitals_mapped.gates:\n",
    "#     try:\n",
    "#         if not isinstance(gate.parameter, tq.objective.objective.Variable):\n",
    "#             gate.parameter = gate.parameter.transformation(gate.parameter.args[0])\n",
    "#     except:\n",
    "#         x = 1\n",
    "\n",
    "# cirq_PT_G2_optimized_orbitals = tq.compile(U_PT_G2_optimized_orbitals_mapped, backend=\"cirq\").circuit\n",
    "# qiskit_PT_G2_optimized_orbitals = tq.compile(U_PT_G2_optimized_orbitals_mapped, backend=\"qiskit\").circuit\n",
    "\n",
    "# energy_PT_G2_optimized_orbitals = res.energy\n",
    "\n",
    "# print(f\"difference from fci: {abs(res.energy-fci)*1000} mH\\n\")\n",
    "\n",
    "# # print(f\"Original number of measurements: {len(H_PT_G1_opt.keys())}\")\n",
    "# # reduced_measurements_PT_G2_optimized_orbitals = reduce_measurements_naive(H_PT_G1_opt, 6)\n",
    "# # print(f\"Reduced number of measurements: {len(reduced_measurements_PT_G2_optimized_orbitals)}\")"
   ]
  },
  {
   "cell_type": "code",
   "execution_count": 28,
   "id": "925ba10e",
   "metadata": {},
   "outputs": [],
   "source": [
    "# try:\n",
    "#     U_PT_G2_optimized_orbitals.export_to(filename=\"H4_PT_G2_optimized_orbitals.pdf\")\n",
    "# except Exception as E:\n",
    "#     print(\"no qpic and/or latex installed ... sorry\")"
   ]
  },
  {
   "cell_type": "markdown",
   "id": "905aed3f",
   "metadata": {},
   "source": [
    "# Run Simulations"
   ]
  },
  {
   "cell_type": "markdown",
   "id": "95357d38",
   "metadata": {},
   "source": [
    "#### Check that cirq circuit gets correct energy using expectation values"
   ]
  },
  {
   "cell_type": "markdown",
   "id": "13dd58e6",
   "metadata": {},
   "source": [
    "Jordan-Wigner"
   ]
  },
  {
   "cell_type": "code",
   "execution_count": 12,
   "id": "c1ff6e4a",
   "metadata": {},
   "outputs": [
    {
     "name": "stdout",
     "output_type": "stream",
     "text": [
      "tq energy : cirq/tq EV energy\n",
      "-1.9562546212337752 : -1.956254594167206\n",
      "-1.9798878845433463 : -1.9798879202636572\n",
      "-1.9794509211210896 : -1.9794509370935032\n",
      "-1.9864531968718846 : -1.9864533176619048\n"
     ]
    }
   ],
   "source": [
    "# Get the final state vector\n",
    "simulator = cirq.Simulator()\n",
    "\n",
    "result_JW_G1 = simulator.simulate(cirq_JW_G1)\n",
    "result_JW_G1_optimized_orbitals = simulator.simulate(cirq_JW_G1_optimized_orbitals)\n",
    "result_JW_G2 = simulator.simulate(cirq_JW_G2)\n",
    "result_JW_G2_optimized_orbitals = simulator.simulate(cirq_JW_G2_optimized_orbitals)\n",
    "\n",
    "state_vector_JW_G1 = result_JW_G1.final_state_vector\n",
    "state_vector_JW_G1_optimized_orbitals = result_JW_G1_optimized_orbitals.final_state_vector\n",
    "state_vector_JW_G2 = result_JW_G2.final_state_vector\n",
    "state_vector_JW_G2_optimized_orbitals = result_JW_G2_optimized_orbitals.final_state_vector\n",
    "\n",
    "qubits = cirq.LineQubit.range(8)\n",
    "\n",
    "cirq_H_JW_G1, _ = convert_tq_H_to_cirq_H(H_JW_G1, qubits)\n",
    "cirq_H_JW_G1_optimized_orbitals, _ = convert_tq_H_to_cirq_H(H_JW_G1_optimized_orbitals, qubits)\n",
    "\n",
    "qubit_map = {}\n",
    "for i in range(len(qubits)):\n",
    "    qubit_map[qubits[i]] = i\n",
    "\n",
    "# Calculate the expectation value\n",
    "energy_JW_G1_cirq = cirq_H_JW_G1.expectation_from_state_vector(state_vector_JW_G1, qubit_map=qubit_map)\n",
    "energy_JW_G1_optimized_orbitals_cirq = cirq_H_JW_G1_optimized_orbitals.expectation_from_state_vector(state_vector_JW_G1_optimized_orbitals, qubit_map=qubit_map)\n",
    "energy_JW_G2_cirq = cirq_H_JW_G1.expectation_from_state_vector(state_vector_JW_G2, qubit_map=qubit_map)\n",
    "energy_JW_G2_optimized_orbitals_cirq = cirq_H_JW_G1_optimized_orbitals.expectation_from_state_vector(state_vector_JW_G2_optimized_orbitals, qubit_map=qubit_map)\n",
    "\n",
    "print(\"tq energy : cirq/tq EV energy\")\n",
    "print(f\"{energy_JW_G1.real} : {energy_JW_G1_cirq.real}\")    \n",
    "print(f\"{energy_JW_G1_optimized_orbitals.real} : {energy_JW_G1_optimized_orbitals_cirq.real}\")\n",
    "print(f\"{energy_JW_G2.real} : {energy_JW_G2_cirq.real}\")\n",
    "print(f\"{energy_JW_G2_optimized_orbitals.real} : {energy_JW_G2_optimized_orbitals_cirq.real}\")"
   ]
  },
  {
   "cell_type": "markdown",
   "id": "236fed4c",
   "metadata": {},
   "source": [
    "Parity"
   ]
  },
  {
   "cell_type": "code",
   "execution_count": 13,
   "id": "9578da5a",
   "metadata": {},
   "outputs": [],
   "source": [
    "# # Get the final state vector\n",
    "# simulator = cirq.Simulator()\n",
    "\n",
    "# result_PT_G1 = simulator.simulate(cirq_PT_G1)\n",
    "# result_PT_G1_optimized_orbitals = simulator.simulate(cirq_PT_G1_optimized_orbitals)\n",
    "# result_PT_G2 = simulator.simulate(cirq_PT_G2)\n",
    "# result_PT_G2_optimized_orbitals = simulator.simulate(cirq_PT_G2_optimized_orbitals)\n",
    "\n",
    "# state_vector_PT_G1 = result_PT_G1.final_state_vector\n",
    "# state_vector_PT_G1_optimized_orbitals = result_PT_G1_optimized_orbitals.final_state_vector\n",
    "# state_vector_PT_G2 = result_PT_G2.final_state_vector\n",
    "# state_vector_PT_G2_optimized_orbitals = result_PT_G2_optimized_orbitals.final_state_vector\n",
    "\n",
    "# qubits = cirq.LineQubit.range(8)\n",
    "\n",
    "# cirq_H_PT_G1, _ = convert_tq_H_to_cirq_H(H_PT_G1, qubits)\n",
    "# cirq_H_PT_G1_optimized_orbitals, _ = convert_tq_H_to_cirq_H(H_PT_G1_opt, qubits)\n",
    "\n",
    "# qubit_map = {}\n",
    "# for i in range(len(qubits)):\n",
    "#     qubit_map[qubits[i]] = i\n",
    "\n",
    "# # Calculate the expectation value\n",
    "# energy_PT_G1_cirq = cirq_H_PT_G1.expectation_from_state_vector(state_vector_PT_G1, qubit_map=qubit_map)\n",
    "# energy_PT_G1_optimized_orbitals_cirq = cirq_H_PT_G1_optimized_orbitals.expectation_from_state_vector(state_vector_PT_G1_optimized_orbitals, qubit_map=qubit_map)\n",
    "# energy_PT_G2_cirq = cirq_H_PT_G1.expectation_from_state_vector(state_vector_PT_G2, qubit_map=qubit_map)\n",
    "# energy_PT_G2_optimized_orbitals_cirq = cirq_H_PT_G1_optimized_orbitals.expectation_from_state_vector(state_vector_PT_G2_optimized_orbitals, qubit_map=qubit_map)\n",
    "\n",
    "# print(\"tq energy : cirq/tq EV energy\")\n",
    "# print(f\"{energy_PT_G1.real} : {energy_PT_G1_cirq.real}\")    \n",
    "# print(f\"{energy_PT_G1_optimized_orbitals.real} : {energy_PT_G1_optimized_orbitals_cirq.real}\")\n",
    "# print(f\"{energy_PT_G2.real} : {energy_PT_G2_cirq.real}\")\n",
    "# print(f\"{energy_PT_G2_optimized_orbitals.real} : {energy_PT_G2_optimized_orbitals_cirq.real}\")"
   ]
  },
  {
   "cell_type": "markdown",
   "id": "8d782f34",
   "metadata": {},
   "source": [
    "#### Check that qiskit circuit gets correct energy using expectation values"
   ]
  },
  {
   "cell_type": "code",
   "execution_count": 14,
   "id": "11b79d0e",
   "metadata": {},
   "outputs": [
    {
     "name": "stdout",
     "output_type": "stream",
     "text": [
      "tq energy : qiskit/tq EV energy\n",
      "-1.9562546212337752 : -1.956254621233782\n",
      "-1.9798878845433463 : -1.0588235542758722\n",
      "-1.9794509211210896 : -1.9794509211210953\n",
      "-1.9864531968718846 : -1.0656534900780372\n"
     ]
    }
   ],
   "source": [
    "# Get the final state vector\n",
    "simulator = Aer.get_backend(\"statevector_simulator\")\n",
    "\n",
    "state_JW_G1 = simulator.run(qiskit_JW_G1).result().get_statevector()\n",
    "state_JW_G1_optimized_orbitals = simulator.run(qiskit_JW_G1_optimized_orbitals).result().get_statevector()\n",
    "state_JW_G2 = simulator.run(qiskit_JW_G2).result().get_statevector()\n",
    "state_JW_G2_optimized_orbitals = simulator.run(qiskit_JW_G2_optimized_orbitals).result().get_statevector()\n",
    "\n",
    "\n",
    "pauli_op_list_JW_G1 = get_qiskit_pauli_list_from_tq_H(H_JW_G1)\n",
    "qiskit_H_JW_G1 = SparsePauliOp.from_list(pauli_op_list_JW_G1)\n",
    "\n",
    "pauli_op_list_JW_G1_optimized_orbitals = get_qiskit_pauli_list_from_tq_H(H_JW_G1_optimized_orbitals)\n",
    "qiskit_H_JW_G1_optimized_orbitals = SparsePauliOp.from_list(pauli_op_list_JW_G1_optimized_orbitals)\n",
    "\n",
    "energy_JW_G1_qiskit = Statevector(state_JW_G1).expectation_value(qiskit_H_JW_G1)\n",
    "energy_JW_G1_optimized_orbitals_qiskit = Statevector(state_JW_G1_optimized_orbitals).expectation_value(qiskit_H_JW_G1_optimized_orbitals)\n",
    "energy_JW_G2_qiskit = Statevector(state_JW_G2).expectation_value(qiskit_H_JW_G1)\n",
    "energy_JW_G2_optimized_orbitals_qiskit = Statevector(state_JW_G2_optimized_orbitals).expectation_value(qiskit_H_JW_G1_optimized_orbitals)\n",
    "\n",
    "\n",
    "print(\"tq energy : qiskit/tq EV energy\")\n",
    "print(f\"{energy_JW_G1.real} : {energy_JW_G1_qiskit.real}\")\n",
    "print(f\"{energy_JW_G1_optimized_orbitals.real} : {energy_JW_G1_optimized_orbitals_qiskit.real}\")\n",
    "print(f\"{energy_JW_G2.real} : {energy_JW_G2_qiskit.real}\")\n",
    "print(f\"{energy_JW_G2_optimized_orbitals.real} : {energy_JW_G2_optimized_orbitals_qiskit.real}\")"
   ]
  },
  {
   "cell_type": "markdown",
   "id": "b4ca4222",
   "metadata": {},
   "source": [
    "### Convert H to a dictionary of Pauli strings"
   ]
  },
  {
   "cell_type": "code",
   "execution_count": 15,
   "id": "d0097ba0",
   "metadata": {},
   "outputs": [],
   "source": [
    "H_JW_G1_dict = convert_tq_H_to_dict_H(H_JW_G1, 8)\n",
    "H_JW_G1_optimized_orbitals_dict = convert_tq_H_to_dict_H(H_JW_G1_optimized_orbitals, 8)\n",
    "H_JW_G2_dict = convert_tq_H_to_dict_H(H_JW_G1, 8)\n",
    "H_JW_G2_optimized_orbitals_dict = convert_tq_H_to_dict_H(H_JW_G1_optimized_orbitals, 8)\n",
    "\n",
    "# H_PT_G1_dict = convert_tq_H_to_dict_H(H_PT_G1, 6)\n",
    "# H_PT_G1_optimized_orbitals_dict = convert_tq_H_to_dict_H(H_PT_G1_opt, 6)\n",
    "# H_PT_G2_dict = convert_tq_H_to_dict_H(H_PT_G1, 6)\n",
    "# H_PT_G2_optimized_orbitals_dict = convert_tq_H_to_dict_H(H_PT_G1_opt, 6)"
   ]
  },
  {
   "cell_type": "markdown",
   "id": "97b9e231",
   "metadata": {},
   "source": [
    "# Simulate state probabilities\n",
    "Then calculate expectation values, then energy"
   ]
  },
  {
   "cell_type": "code",
   "execution_count": 16,
   "id": "eea79f22",
   "metadata": {},
   "outputs": [],
   "source": [
    "def simulate_data_cirq(H_dict, cirq_circuit, nqubits):\n",
    "\n",
    "    res = []\n",
    "\n",
    "    data_dict = {}\n",
    "\n",
    "    cirq_simulator = cirq.Simulator()\n",
    "    qubits = cirq.LineQubit.range(nqubits)\n",
    "    \n",
    "    # Go through each Pauli measurement basis\n",
    "    for i in range(len(H_dict.keys())):\n",
    "\n",
    "        print(i, end=\"\\r\")\n",
    "\n",
    "        # Need to make a new copy each time as to not overwrite the original\n",
    "        cirq_copy = copy.deepcopy(cirq_circuit)\n",
    "\n",
    "        # Go through each character (j) in the pauli string (i) and add the appropriate gate for that basis\n",
    "        for j in range(nqubits):\n",
    "            pauli_char = list(H_dict.keys())[i][j]\n",
    "            if pauli_char == \"Y\":\n",
    "                cirq_copy.append(cirq.rx(0.5 * np.pi)(qubits[j]))\n",
    "            elif pauli_char == \"X\":\n",
    "                cirq_copy.append(cirq.ry(-0.5 * np.pi)(qubits[j]))\n",
    "\n",
    "        # Get results without shot noise\n",
    "        result = cirq_simulator.simulate(cirq_copy)\n",
    "\n",
    "        res.append(abs(result.final_state_vector ** 2))\n",
    "\n",
    "        data_dict[list(H_dict.keys())[i]] = abs(result.final_state_vector ** 2)\n",
    "\n",
    "    return data_dict\n",
    "\n",
    "def simulate_data_qiskit(H_dict, qiskit_circuit, nqubits, noise_model=None):\n",
    "\n",
    "    data_dict = {}\n",
    "\n",
    "    qiskit_simulator = AerSimulator(method=\"density_matrix\", noise_model=noise_model)\n",
    "    \n",
    "    # Go through each Pauli measurement basis\n",
    "    for i in range(len(H_dict.keys())):\n",
    "\n",
    "        # Need to make a new copy each time as to not overwrite the original\n",
    "        qiskit_copy = copy.deepcopy(qiskit_circuit)\n",
    "\n",
    "        # Go through each character (j) in the pauli string (i) and add the appropriate gate for that basis\n",
    "        for j in range(nqubits):\n",
    "            \n",
    "            pauli_char = list(H_dict.keys())[i][j]\n",
    "\n",
    "            if pauli_char == \"Y\":\n",
    "                qiskit_copy.rx(0.5 * np.pi, j)\n",
    "            elif pauli_char == \"X\":\n",
    "                qiskit_copy.ry(-0.5 * np.pi, j)\n",
    "\n",
    "        qiskit_copy.save_density_matrix()\n",
    "\n",
    "        result = qiskit_simulator.run(qiskit_copy).result()\n",
    "\n",
    "        rho = result.data(0)['density_matrix']\n",
    "\n",
    "        probabilities = rho.probabilities()\n",
    "        \n",
    "        reordered_probabilities = np.zeros_like(probabilities)\n",
    "        for k, p in enumerate(probabilities):\n",
    "            bitstring = format(k, f\"0{nqubits}b\")    # e.g. \"01\"\n",
    "            reversed_index = int(bitstring[::-1], 2)    # flip qubit order\n",
    "            reordered_probabilities[reversed_index] = p\n",
    "\n",
    "\n",
    "        data_dict[list(H_dict.keys())[i]] = reordered_probabilities\n",
    "\n",
    "\n",
    "    return data_dict"
   ]
  },
  {
   "cell_type": "markdown",
   "id": "3e874327",
   "metadata": {},
   "source": [
    "### Cirq"
   ]
  },
  {
   "cell_type": "code",
   "execution_count": 17,
   "id": "689d508f",
   "metadata": {},
   "outputs": [
    {
     "name": "stdout",
     "output_type": "stream",
     "text": [
      "-1.9562545629268453\n",
      "-1.9798880009032511\n",
      "-1.9794509195724204\n",
      "-0.8604549086296883\n"
     ]
    }
   ],
   "source": [
    "# JW Transformation, G1\n",
    "cirq_res_dict_JW_G1 = simulate_data_cirq(H_JW_G1_dict, cirq_JW_G1, 8)\n",
    "cirq_evs_JW_G1 = convert_population_data_to_expectation_values(cirq_res_dict_JW_G1)\n",
    "print(get_energy_from_expectation_values(H_JW_G1_dict, cirq_evs_JW_G1))\n",
    "\n",
    "# JW Transformation, G1 with optimal hamiltonian\n",
    "cirq_res_dict_JW_G1_optimized_orbitals = simulate_data_cirq(H_JW_G1_optimized_orbitals_dict, cirq_JW_G1_optimized_orbitals, 8)\n",
    "cirq_evs_JW_G1_optimized_orbitals = convert_population_data_to_expectation_values(cirq_res_dict_JW_G1_optimized_orbitals)\n",
    "print(get_energy_from_expectation_values(H_JW_G1_optimized_orbitals_dict, cirq_evs_JW_G1_optimized_orbitals))\n",
    "\n",
    "# JW Transformation, G2\n",
    "cirq_res_dict_JW_G2 = simulate_data_cirq(H_JW_G2_dict, cirq_JW_G2, 8)\n",
    "cirq_evs_JW_G2 = convert_population_data_to_expectation_values(cirq_res_dict_JW_G2)\n",
    "print(get_energy_from_expectation_values(H_JW_G1_dict, cirq_evs_JW_G2))\n",
    "\n",
    "# JW Transformation, G2 with optimal hamiltonian\n",
    "cirq_res_dict_JW_G2_optimized_orbitals = simulate_data_cirq(H_JW_G1_dict, cirq_JW_G1, 8)\n",
    "cirq_evs_JW_G2_optimized_orbitals = convert_population_data_to_expectation_values(cirq_res_dict_JW_G2_optimized_orbitals)\n",
    "print(get_energy_from_expectation_values(H_JW_G1_optimized_orbitals_dict, cirq_evs_JW_G2_optimized_orbitals))"
   ]
  },
  {
   "cell_type": "markdown",
   "id": "a5f706b3",
   "metadata": {},
   "source": [
    "### Qiskit"
   ]
  },
  {
   "cell_type": "markdown",
   "id": "6e942a02",
   "metadata": {},
   "source": [
    "Jordan-Wigner"
   ]
  },
  {
   "cell_type": "code",
   "execution_count": 18,
   "id": "3981f45e",
   "metadata": {},
   "outputs": [
    {
     "name": "stdout",
     "output_type": "stream",
     "text": [
      "-1.9562546212337872\n",
      "-1.9798878845433456\n",
      "-1.9794509211210953\n",
      "-0.8604549759714121\n"
     ]
    }
   ],
   "source": [
    "# JW Transformation, G1\n",
    "qiskit_res_dict_JW_G1 = simulate_data_qiskit(H_JW_G1_dict, qiskit_JW_G1_parameterized, 8)\n",
    "qiskit_evs_JW_G1 = convert_population_data_to_expectation_values(qiskit_res_dict_JW_G1)\n",
    "print(get_energy_from_expectation_values(H_JW_G1_dict, qiskit_evs_JW_G1))\n",
    "\n",
    "# JW Transformation, G1 with optimal hamiltonian\n",
    "qiskit_res_dict_JW_G1_optimized_orbitals = simulate_data_qiskit(H_JW_G1_optimized_orbitals_dict, qiskit_JW_G1_optimized_orbitals, 8)\n",
    "qiskit_evs_JW_G1_optimized_orbitals = convert_population_data_to_expectation_values(qiskit_res_dict_JW_G1_optimized_orbitals)\n",
    "print(get_energy_from_expectation_values(H_JW_G1_optimized_orbitals_dict, qiskit_evs_JW_G1_optimized_orbitals))\n",
    "\n",
    "# JW Transformation, G2\n",
    "qiskit_res_dict_JW_G2 = simulate_data_qiskit(H_JW_G2_dict, qiskit_JW_G2, 8)\n",
    "qiskit_evs_JW_G2 = convert_population_data_to_expectation_values(qiskit_res_dict_JW_G2)\n",
    "print(get_energy_from_expectation_values(H_JW_G1_dict, qiskit_evs_JW_G2))\n",
    "\n",
    "# JW Transformation, G2 with optimal hamiltonian\n",
    "qiskit_res_dict_JW_G2_optimized_orbitals = simulate_data_qiskit(H_JW_G1_dict, qiskit_JW_G1, 8)\n",
    "qiskit_evs_JW_G2_optimized_orbitals = convert_population_data_to_expectation_values(qiskit_res_dict_JW_G2_optimized_orbitals)\n",
    "print(get_energy_from_expectation_values(H_JW_G1_optimized_orbitals_dict, qiskit_evs_JW_G2_optimized_orbitals))"
   ]
  },
  {
   "cell_type": "markdown",
   "id": "f541d85c",
   "metadata": {},
   "source": [
    "Parity"
   ]
  },
  {
   "cell_type": "code",
   "execution_count": 19,
   "id": "4f04d3be",
   "metadata": {},
   "outputs": [],
   "source": [
    "# # PT Transformation, G1\n",
    "# qiskit_res_dict_PT_G1 = simulate_data_qiskit(H_PT_G1_dict, qiskit_PT_G1, 6)\n",
    "# qiskit_evs_PT_G1 = convert_population_data_to_expectation_values(qiskit_res_dict_PT_G1)\n",
    "# print(get_energy_from_expectation_values(H_PT_G1_dict, qiskit_evs_PT_G1))\n",
    "\n",
    "# # PT Transformation, G1 with optimal hamiltonian\n",
    "# qiskit_res_dict_PT_G1_optimized_orbitals = simulate_data_qiskit(H_PT_G1_optimized_orbitals_dict, qiskit_PT_G1_optimized_orbitals, 6)\n",
    "# qiskit_evs_PT_G1_optimized_orbitals = convert_population_data_to_expectation_values(qiskit_res_dict_PT_G1_optimized_orbitals)\n",
    "# print(get_energy_from_expectation_values(H_PT_G1_optimized_orbitals_dict, qiskit_evs_PT_G1_optimized_orbitals))\n",
    "\n",
    "# # PT Transformation, G2\n",
    "# qiskit_res_dict_PT_G2 = simulate_data_qiskit(H_PT_G2_dict, qiskit_PT_G2, 6)\n",
    "# qiskit_evs_PT_G2 = convert_population_data_to_expectation_values(qiskit_res_dict_PT_G2)\n",
    "# print(get_energy_from_expectation_values(H_PT_G1_dict, qiskit_evs_PT_G2))\n",
    "\n",
    "# # PT Transformation, G2 with optimal hamiltonian\n",
    "# qiskit_res_dict_PT_G2_optimized_orbitals = simulate_data_qiskit(H_PT_G1_dict, qiskit_PT_G1, 6)\n",
    "# qiskit_evs_PT_G2_optimized_orbitals = convert_population_data_to_expectation_values(qiskit_res_dict_PT_G2_optimized_orbitals)\n",
    "# print(get_energy_from_expectation_values(H_PT_G1_optimized_orbitals_dict, qiskit_evs_PT_G2_optimized_orbitals))"
   ]
  },
  {
   "cell_type": "code",
   "execution_count": 20,
   "id": "8344a786",
   "metadata": {},
   "outputs": [],
   "source": [
    "aria1_noise_model = build_ionq_noise_model(0.0005, 0.0133)\n",
    "aria2_noise_model = build_ionq_noise_model(0.0006573, 0.01856)\n",
    "forte1_noise_model = build_ionq_noise_model(0.0002666, 0.0049493)"
   ]
  },
  {
   "cell_type": "code",
   "execution_count": 21,
   "id": "9fb3497c",
   "metadata": {},
   "outputs": [
    {
     "name": "stdout",
     "output_type": "stream",
     "text": [
      "No Errors: -1.9562546212337872\n",
      "Aria 1: -1.6654247934561257\n",
      "Aria 2: -1.574963269403857\n",
      "Forte: -1.8356705272283096\n"
     ]
    }
   ],
   "source": [
    "# JW Transformation, G1\n",
    "qiskit_res_dict_JW_G1 = simulate_data_qiskit(H_JW_G1_dict, qiskit_JW_G1, 8, noise_model=None)\n",
    "qiskit_evs_JW_G1 = convert_population_data_to_expectation_values(qiskit_res_dict_JW_G1)\n",
    "\n",
    "qiskit_res_dict_JW_G1 = simulate_data_qiskit(H_JW_G1_dict, qiskit_JW_G1, 8, noise_model=aria1_noise_model)\n",
    "aria1_evs_JW_G1 = convert_population_data_to_expectation_values(qiskit_res_dict_JW_G1)\n",
    "\n",
    "qiskit_res_dict_JW_G1 = simulate_data_qiskit(H_JW_G1_dict, qiskit_JW_G1, 8, noise_model=aria2_noise_model)\n",
    "aria2_evs_JW_G1 = convert_population_data_to_expectation_values(qiskit_res_dict_JW_G1)\n",
    "\n",
    "qiskit_res_dict_JW_G1 = simulate_data_qiskit(H_JW_G1_dict, qiskit_JW_G1, 8, noise_model=forte1_noise_model)\n",
    "forte1_evs_JW_G1 = convert_population_data_to_expectation_values(qiskit_res_dict_JW_G1)\n",
    "\n",
    "print(f\"No Errors: {get_energy_from_expectation_values(H_JW_G1_dict, qiskit_evs_JW_G1)}\")\n",
    "print(f\"Aria 1: {get_energy_from_expectation_values(H_JW_G1_dict, aria1_evs_JW_G1)}\")\n",
    "print(f\"Aria 2: {get_energy_from_expectation_values(H_JW_G1_dict, aria2_evs_JW_G1)}\")\n",
    "print(f\"Forte: {get_energy_from_expectation_values(H_JW_G1_dict, forte1_evs_JW_G1)}\")"
   ]
  },
  {
   "cell_type": "code",
   "execution_count": 22,
   "id": "a8c152bf",
   "metadata": {},
   "outputs": [
    {
     "name": "stdout",
     "output_type": "stream",
     "text": [
      "No Errors: -1.9798878845433456\n",
      "Aria 1: -1.9281826313815607\n",
      "Aria 2: -1.9082415389116805\n",
      "Forte: -1.960265601069249\n"
     ]
    }
   ],
   "source": [
    "# JW Transformation, G1 with optimized orbitals\n",
    "qiskit_res_dict_JW_G1_opt = simulate_data_qiskit(H_JW_G1_optimized_orbitals_dict, qiskit_JW_G1_optimized_orbitals, 8, noise_model=None)\n",
    "qiskit_evs_JW_G1_opt = convert_population_data_to_expectation_values(qiskit_res_dict_JW_G1_opt)\n",
    "\n",
    "qiskit_res_dict_JW_G1_opt = simulate_data_qiskit(H_JW_G1_optimized_orbitals_dict, qiskit_JW_G1_optimized_orbitals, 8, noise_model=aria1_noise_model)\n",
    "aria1_evs_JW_G1_opt = convert_population_data_to_expectation_values(qiskit_res_dict_JW_G1_opt)\n",
    "\n",
    "qiskit_res_dict_JW_G1_opt = simulate_data_qiskit(H_JW_G1_optimized_orbitals_dict, qiskit_JW_G1_optimized_orbitals, 8, noise_model=aria2_noise_model)\n",
    "aria2_evs_JW_G1_opt = convert_population_data_to_expectation_values(qiskit_res_dict_JW_G1_opt)\n",
    "\n",
    "qiskit_res_dict_JW_G1_opt = simulate_data_qiskit(H_JW_G1_optimized_orbitals_dict, qiskit_JW_G1_optimized_orbitals, 8, noise_model=forte1_noise_model)\n",
    "forte1_evs_JW_G1_opt = convert_population_data_to_expectation_values(qiskit_res_dict_JW_G1_opt)\n",
    "\n",
    "print(f\"No Errors: {get_energy_from_expectation_values(H_JW_G1_optimized_orbitals_dict, qiskit_evs_JW_G1_opt)}\")\n",
    "print(f\"Aria 1: {get_energy_from_expectation_values(H_JW_G1_optimized_orbitals_dict, aria1_evs_JW_G1_opt)}\")\n",
    "print(f\"Aria 2: {get_energy_from_expectation_values(H_JW_G1_optimized_orbitals_dict, aria2_evs_JW_G1_opt)}\")\n",
    "print(f\"Forte: {get_energy_from_expectation_values(H_JW_G1_optimized_orbitals_dict, forte1_evs_JW_G1_opt)}\")"
   ]
  },
  {
   "cell_type": "markdown",
   "id": "de5611ca",
   "metadata": {},
   "source": [
    "# Vary terms in H\n",
    "\n",
    "Get rid of the smallest terms in H and see how the accuracy changes"
   ]
  },
  {
   "cell_type": "code",
   "execution_count": 42,
   "id": "acff507d",
   "metadata": {},
   "outputs": [
    {
     "name": "stdout",
     "output_type": "stream",
     "text": [
      "245\r"
     ]
    }
   ],
   "source": [
    "simulator = Aer.get_backend(\"statevector_simulator\")\n",
    "\n",
    "state_JW_G1 = simulator.run(qiskit_JW_G1_optimized_orbitals).result().get_statevector()\n",
    "\n",
    "sorted_items = sorted(H_JW_G1_dict.items(), key=lambda item: abs(item[1]), reverse=True)\n",
    "H_JW_G1_sorted = dict(sorted_items)\n",
    "\n",
    "sorted_items = sorted(H_JW_G1_optimized_orbitals_dict.items(), key=lambda item: abs(item[1]), reverse=True)\n",
    "H_JW_G1_opt_sorted = dict(sorted_items)\n",
    "\n",
    "energies_JW_G1 = []\n",
    "energies_JW_G1_forte = []\n",
    "energies_JW_G1_opt_forte = []\n",
    "energies_JW_G2_forte = []\n",
    "\n",
    "energy_diffs_JW_G1 = []\n",
    "energy_diffs_JW_G1_forte = []\n",
    "energy_diffs_JW_G1_opt_forte = []\n",
    "energy_diffs_JW_G2_forte = []\n",
    "\n",
    "\n",
    "terms = []\n",
    "\n",
    "for i in range(5, 250, 8):\n",
    "\n",
    "    print(i, end='\\r')\n",
    "\n",
    "    terms.append(i)\n",
    "\n",
    "\n",
    "    ################# Jordan-Wigner ###############\n",
    "\n",
    "    #  Single-graph Jordan-Wigner with no optimized orbitals (simulated with no noise)\n",
    "    qiskit_res_dict_JW_G1 = simulate_data_qiskit(dict(list(H_JW_G1_sorted.items())[:i]), qiskit_JW_G1, 8, noise_model=None)\n",
    "    forte_evs_JW_G1 = convert_population_data_to_expectation_values(qiskit_res_dict_JW_G1)\n",
    "    energy_JW_G1 = get_energy_from_expectation_values(dict(list(H_JW_G1_sorted.items())[:i]), forte_evs_JW_G1)\n",
    "\n",
    "    #  Single-graph Jordan-Wigner with no optimized orbitals (simulated with Forte noise model)\n",
    "    qiskit_res_dict_JW_G1 = simulate_data_qiskit(dict(list(H_JW_G1_sorted.items())[:i]), qiskit_JW_G1, 8, noise_model=forte1_noise_model)\n",
    "    forte_evs_JW_G1 = convert_population_data_to_expectation_values(qiskit_res_dict_JW_G1)\n",
    "    energy_JW_G1_forte = get_energy_from_expectation_values(dict(list(H_JW_G1_sorted.items())[:i]), forte_evs_JW_G1)\n",
    "\n",
    "    # Single-graph Jordan-Wigner with optimized orbitals (simulated with Forte noise model)\n",
    "    qiskit_res_dict_JW_G1_opt = simulate_data_qiskit(dict(list(H_JW_G1_opt_sorted.items())[:i]), qiskit_JW_G1_optimized_orbitals, 8, noise_model=forte1_noise_model)\n",
    "    forte_evs_JW_G1_opt = convert_population_data_to_expectation_values(qiskit_res_dict_JW_G1_opt)\n",
    "    energy_JW_G1_opt_forte = get_energy_from_expectation_values(dict(list(H_JW_G1_opt_sorted.items())[:i]), forte_evs_JW_G1_opt)\n",
    "\n",
    "    # Two-graph Jordan-Wigner with no optimized orbitals (simulated with Forte noise model)\n",
    "    qiskit_res_dict_JW_G2 = simulate_data_qiskit(dict(list(H_JW_G1_sorted.items())[:i]), qiskit_JW_G2, 8, noise_model=forte1_noise_model)\n",
    "    forte_evs_JW_G2 = convert_population_data_to_expectation_values(qiskit_res_dict_JW_G2)\n",
    "    energy_JW_G2_forte = get_energy_from_expectation_values(dict(list(H_JW_G1_sorted.items())[:i]), forte_evs_JW_G2)\n",
    "\n",
    "\n",
    "    energies_JW_G1.append(abs(energy_JW_G1.real))\n",
    "    energies_JW_G1_forte.append(abs(energy_JW_G1_forte.real))\n",
    "    energies_JW_G1_opt_forte.append(abs(energy_JW_G1_opt_forte.real))\n",
    "    energies_JW_G2_forte.append(abs(energy_JW_G2_forte.real))\n",
    "\n",
    "    energy_diffs_JW_G1.append(abs(energy_JW_G1.real - fci))\n",
    "    energy_diffs_JW_G1_forte.append(abs(energy_JW_G1_forte.real - fci))\n",
    "    energy_diffs_JW_G1_opt_forte.append(abs(energy_JW_G1_opt_forte.real - fci))\n",
    "    energy_diffs_JW_G2_forte.append(abs(energy_JW_G2_forte.real - fci))\n"
   ]
  },
  {
   "cell_type": "code",
   "execution_count": 43,
   "id": "bab49d6c",
   "metadata": {},
   "outputs": [
    {
     "data": {
      "image/png": "[encoded data removed]",
      "text/plain": [
       "<Figure size 640x480 with 1 Axes>"
      ]
     },
     "metadata": {},
     "output_type": "display_data"
    }
   ],
   "source": [
    "plt.plot(terms, energy_diffs_JW_G1, label=\"JW-G1 (Ideal)\")\n",
    "plt.plot(terms, energy_diffs_JW_G1_forte, label=\"JW-G1 (Forte)\")\n",
    "plt.plot(terms, energy_diffs_JW_G1_opt_forte, label=\"JW-G1 optimized H (Forte)\")\n",
    "plt.plot(terms, energy_diffs_JW_G2_forte, label=\"JW-G2 (Forte)\")\n",
    "\n",
    "plt.ylabel(r\"|$E_{calc} - E_{act}$|\")\n",
    "plt.xlabel(r\"Number of H terms\")\n",
    "\n",
    "plt.legend()\n",
    "\n",
    "plt.show()"
   ]
  },
  {
   "cell_type": "markdown",
   "id": "60fa1602",
   "metadata": {},
   "source": [
    "# Vary Depolarizing Noise"
   ]
  },
  {
   "cell_type": "code",
   "execution_count": 23,
   "id": "b7429f09",
   "metadata": {},
   "outputs": [
    {
     "name": "stdout",
     "output_type": "stream",
     "text": [
      "9\r"
     ]
    }
   ],
   "source": [
    "simulator = Aer.get_backend(\"statevector_simulator\")\n",
    "\n",
    "state_JW_G1 = simulator.run(qiskit_JW_G1_optimized_orbitals).result().get_statevector()\n",
    "\n",
    "sorted_items = sorted(H_JW_G1_dict.items(), key=lambda item: abs(item[1]), reverse=True)\n",
    "H_JW_G1_sorted = dict(sorted_items)\n",
    "\n",
    "energies_JW_G1 = []\n",
    "energies_JW_G1_forte = []\n",
    "energies_JW_G2_forte = []\n",
    "\n",
    "energy_diffs_JW_G1 = []\n",
    "energy_diffs_JW_G1_forte = []\n",
    "energy_diffs_JW_G2_forte = []\n",
    "\n",
    "two_qubit_depol_noise = []\n",
    "\n",
    "iters = 10\n",
    "for i in range(iters):\n",
    "\n",
    "    print(i, end='\\r')\n",
    "\n",
    "    # Vary noise model from realistic to 0 noise:\n",
    "    tqdn = 0.002 * (i / (iters-1))\n",
    "    two_qubit_depol_noise.append(tqdn)\n",
    "    noise_model = build_ionq_noise_model(0.0005, tqdn)\n",
    "\n",
    "    ################# Jordan-Wigner ###############\n",
    "\n",
    "    #  Single-graph Jordan-Wigner with no optimized orbitals (simulated with no noise)\n",
    "    qiskit_res_dict_JW_G1 = simulate_data_qiskit(dict(list(H_JW_G1_sorted.items())[:-1]), qiskit_JW_G1, 8, noise_model=None)\n",
    "    forte_evs_JW_G1 = convert_population_data_to_expectation_values(qiskit_res_dict_JW_G1)\n",
    "    energy_JW_G1 = get_energy_from_expectation_values(dict(list(H_JW_G1_sorted.items())[:-1]), forte_evs_JW_G1)\n",
    "\n",
    "    #  Single-graph Jordan-Wigner with no optimized orbitals (simulated with Forte noise model)\n",
    "    qiskit_res_dict_JW_G1 = simulate_data_qiskit(dict(list(H_JW_G1_sorted.items())[:-1]), qiskit_JW_G1, 8, noise_model=noise_model)\n",
    "    forte_evs_JW_G1 = convert_population_data_to_expectation_values(qiskit_res_dict_JW_G1)\n",
    "    energy_JW_G1_forte = get_energy_from_expectation_values(dict(list(H_JW_G1_sorted.items())[:-1]), forte_evs_JW_G1)\n",
    "\n",
    "    # Two-graph Jordan-Wigner with no optimized orbitals (simulated with Forte noise model)\n",
    "    qiskit_res_dict_JW_G2 = simulate_data_qiskit(dict(list(H_JW_G1_sorted.items())[:-1]), qiskit_JW_G2, 8, noise_model=noise_model)\n",
    "    forte_evs_JW_G2 = convert_population_data_to_expectation_values(qiskit_res_dict_JW_G2)\n",
    "    energy_JW_G2_forte = get_energy_from_expectation_values(dict(list(H_JW_G1_sorted.items())[:-1]), forte_evs_JW_G2)\n",
    "\n",
    "\n",
    "    energies_JW_G1.append(abs(energy_JW_G1.real))\n",
    "    energies_JW_G1_forte.append(abs(energy_JW_G1_forte.real))\n",
    "    energies_JW_G2_forte.append(abs(energy_JW_G2_forte.real))\n",
    "\n",
    "    energy_diffs_JW_G1.append(abs(energy_JW_G1.real - fci))\n",
    "    energy_diffs_JW_G1_forte.append(abs(energy_JW_G1_forte.real - fci))\n",
    "    energy_diffs_JW_G2_forte.append(abs(energy_JW_G2_forte.real - fci))\n"
   ]
  },
  {
   "cell_type": "code",
   "execution_count": 24,
   "id": "b0534f1a",
   "metadata": {},
   "outputs": [
    {
     "data": {
      "image/png": "[encoded data removed]",
      "text/plain": [
       "<Figure size 640x480 with 1 Axes>"
      ]
     },
     "metadata": {},
     "output_type": "display_data"
    }
   ],
   "source": [
    "plt.plot(np.array(two_qubit_depol_noise) * 1000, energy_diffs_JW_G1, label=\"JW-G1 (Ideal)\")\n",
    "plt.plot(np.array(two_qubit_depol_noise) * 1000, energy_diffs_JW_G1_forte, label=\"JW-G1\")\n",
    "plt.plot(np.array(two_qubit_depol_noise) * 1000, energy_diffs_JW_G2_forte, label=\"JW-G2\")\n",
    "\n",
    "plt.ylabel(r\"|$E_{calc} - E_{act}$|\")\n",
    "plt.xlabel(r\"Two Qubit Depolarizing Strength (1e3)\")\n",
    "\n",
    "plt.legend()\n",
    "\n",
    "plt.show()"
   ]
  },
  {
   "cell_type": "markdown",
   "id": "a344ef6d",
   "metadata": {},
   "source": [
    "IonQ's best system only reaches down to 5e-3 in estimated depolarizing strength, so there's a lot of ground to make up here. Maybe if the number of two-qubit gates is cut down this can be improved?"
   ]
  },
  {
   "cell_type": "code",
   "execution_count": null,
   "id": "c0ce16b8",
   "metadata": {},
   "outputs": [
    {
     "name": "stderr",
     "output_type": "stream",
     "text": [
      "/home/liamj/Molecular Simulation/teq-beta-env/lib/python3.12/site-packages/qiskit_ionq/ionq_backend.py:298: UserWarning: Circuit is not measuring any qubits\n",
      "  return super().run(circuit, **kwargs)\n"
     ]
    },
    {
     "name": "stdout",
     "output_type": "stream",
     "text": [
      "{'00000000': 0.0001, '00000010': 0.0001, '00000011': 0.0007, '00000110': 0.0032, '00001000': 0.0001, '00001001': 0.0021, '00001100': 0.0005, '00010011': 0.0006, '00010100': 0.0002, '00010101': 0.0001, '00010110': 0.0033, '00011001': 0.0026, '00011100': 0.0004, '00011101': 0.0003, '00011110': 0.0002, '00011111': 0.0001, '00100000': 0.0001, '00100001': 0.0001, '00100011': 0.0004, '00100100': 0.0001, '00100101': 0.0001, '00100110': 0.0029, '00100111': 0.0002, '00101001': 0.0033, '00101010': 0.0001, '00101100': 0.0006, '00101110': 0.0001, '00101111': 0.0004, '00110000': 0.0004, '00110001': 0.0004, '00110010': 0.0006, '00110011': 0.0079, '00110100': 0.0005, '00110101': 0.0001, '00110110': 0.0274, '00110111': 0.0008, '00111000': 0.0002, '00111001': 0.0312, '00111010': 0.0002, '00111011': 0.001, '00111100': 0.007, '00111101': 0.0008, '00111110': 0.0006, '00111111': 0.0002, '01000000': 0.0002, '01000001': 0.0002, '01000010': 0.0001, '01000011': 0.0006, '01000110': 0.0028, '01001001': 0.0029, '01001011': 0.0001, '01001100': 0.0007, '01001101': 0.0004, '01001110': 0.0001, '01010011': 0.0003, '01010110': 0.0015, '01011001': 0.001, '01011100': 0.0001, '01011101': 0.0001, '01011110': 0.0001, '01100000': 0.0029, '01100001': 0.0029, '01100010': 0.0021, '01100011': 0.0338, '01100100': 0.0027, '01100101': 0.0012, '01100110': 0.1291, '01100111': 0.0036, '01101000': 0.0018, '01101001': 0.1374, '01101010': 0.0001, '01101011': 0.0043, '01101100': 0.0313, '01101101': 0.0039, '01101110': 0.0025, '01101111': 0.0036, '01110000': 0.0001, '01110010': 0.0002, '01110011': 0.0008, '01110100': 0.0001, '01110110': 0.0037, '01110111': 0.0002, '01111000': 0.0001, '01111001': 0.0046, '01111011': 0.0001, '01111100': 0.0005, '01111101': 0.0002, '01111110': 0.0001, '10000001': 0.0002, '10000011': 0.0004, '10000100': 0.0001, '10000110': 0.0029, '10001000': 0.0001, '10001001': 0.0022, '10001011': 0.0003, '10001100': 0.0005, '10001110': 0.0001, '10010000': 0.0027, '10010001': 0.002, '10010010': 0.0035, '10010011': 0.0355, '10010100': 0.0027, '10010101': 0.0016, '10010110': 0.1433, '10010111': 0.0033, '10011000': 0.0023, '10011001': 0.133, '10011010': 0.0003, '10011011': 0.003, '10011100': 0.0336, '10011101': 0.0034, '10011110': 0.0028, '10011111': 0.0033, '10100000': 0.0001, '10100010': 0.0001, '10100011': 0.0001, '10100101': 0.0001, '10100110': 0.0002, '10101000': 0.0001, '10101001': 0.0007, '10110001': 0.0001, '10110010': 0.0001, '10110011': 0.0011, '10110100': 0.0001, '10110110': 0.0027, '10111000': 0.0002, '10111001': 0.0037, '10111100': 0.0005, '10111101': 0.0001, '11000000': 0.0003, '11000001': 0.0006, '11000010': 0.0001, '11000011': 0.0087, '11000100': 0.0005, '11000101': 0.0004, '11000110': 0.0362, '11000111': 0.0005, '11001000': 0.0005, '11001001': 0.0351, '11001011': 0.0007, '11001100': 0.0092, '11001101': 0.0009, '11001110': 0.0006, '11001111': 0.0006, '11010000': 0.0001, '11010001': 0.0001, '11010010': 0.0001, '11010011': 0.0008, '11010100': 0.0001, '11010110': 0.0037, '11010111': 0.0001, '11011000': 0.0002, '11011001': 0.0034, '11011011': 0.0001, '11011100': 0.0009, '11100000': 0.0001, '11100011': 0.0004, '11100101': 0.0001, '11100110': 0.0034, '11101000': 0.0001, '11101001': 0.0024, '11101100': 0.0002, '11101101': 0.0002, '11110000': 0.0001, '11110010': 0.0002, '11110011': 0.0006, '11110110': 0.0031, '11110111': 0.0002, '11111001': 0.0027, '11111011': 0.0003, '11111100': 0.0008, '11111101': 0.0001}\n"
     ]
    }
   ],
   "source": [
    "from qiskit import QuantumCircuit\n",
    "import qiskit_ionq\n",
    "\n",
    "# Initialize the IonQ provider\n",
    "provider = qiskit_ionq.IonQProvider()\n",
    "\n",
    "# Get the simulator backend\n",
    "backend = provider.get_backend(\"ionq_simulator\")\n",
    "\n",
    "# Set the noise model option\n",
    "backend.set_options(noise_model=\"aria-1\")  # or \"aria-2\", \"forte-1\", \"harmony\"\n",
    "\n",
    "# Submit the job\n",
    "nshots = 10000\n",
    "job = backend.run(qiskit_JW_G1, shots=nshots)\n",
    "\n",
    "# Get results\n",
    "result = job.result()\n",
    "counts = result.get_counts()\n",
    "probs = result.get_probabilities()\n",
    "\n",
    "\n",
    "expectation_values = convert_population_data_to_expectation_values(qiskit_res_dict_JW_G1)\n",
    "energy = get_energy_from_expectation_values(dict(list(H_JW_G1_sorted.items())[:-1]), expectation_values)\n"
   ]
  },
  {
   "cell_type": "code",
   "execution_count": null,
   "id": "5646bb49",
   "metadata": {},
   "outputs": [],
   "source": []
  }
 ],
 "metadata": {
  "kernelspec": {
   "display_name": "teq-beta-env (3.12.3)",
   "language": "python",
   "name": "python3"
  },
  "language_info": {
   "codemirror_mode": {
    "name": "ipython",
    "version": 3
   },
   "file_extension": ".py",
   "mimetype": "text/x-python",
   "name": "python",
   "nbconvert_exporter": "python",
   "pygments_lexer": "ipython3",
   "version": "3.12.3"
  }
 },
 "nbformat": 4,
 "nbformat_minor": 5
}
