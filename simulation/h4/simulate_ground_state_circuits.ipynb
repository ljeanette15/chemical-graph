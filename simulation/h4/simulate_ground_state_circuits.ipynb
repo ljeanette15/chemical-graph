{
 "cells": [
  {
   "cell_type": "code",
   "execution_count": 1,
   "id": "91398d2a",
   "metadata": {},
   "outputs": [
    {
     "name": "stderr",
     "output_type": "stream",
     "text": [
      "[Qibo 0.2.18|INFO|2025-07-16 15:37:38]: Using numpy backend on /CPU:0\n",
      "/home/liamj/Molecular Simulation/chemical-graph/tequila-beta/lib/python3.12/site-packages/tequila/simulators/simulator_api.py:5: UserWarning: pkg_resources is deprecated as an API. See https://setuptools.pypa.io/en/latest/pkg_resources.html. The pkg_resources package is slated for removal as early as 2025-11-30. Refrain from using this package or pin to Setuptools<81.\n",
      "  import pkg_resources\n"
     ]
    }
   ],
   "source": [
    "import cirq\n",
    "import qibo\n",
    "qibo.set_backend(\"numpy\")\n",
    "\n",
    "import tequila as tq\n",
    "import numpy as np\n",
    "import copy\n",
    "import sys\n",
    "import time\n",
    "\n",
    "sys.path.append('../../../../Gates_Lab_Suite')\n",
    "sys.path.append('../../utils')\n",
    "\n",
    "from Auto_Algorithm import *\n",
    "from Core_Definition import *\n",
    "from Visualization import *\n",
    "\n",
    "from hamiltonian_reduction import (\n",
    "    reduce_measurements_naive\n",
    ")\n",
    "\n",
    "from circuit_conversion import (\n",
    "    cirq_to_gates,\n",
    "    cirq_to_qibo\n",
    ")\n",
    "\n",
    "from simulation_tools import (\n",
    "    get_energy_from_data,\n",
    "    simulate_data_cirq,\n",
    "    simulate_data_qibo,\n",
    "    get_measurement_dict_from_H,\n",
    "    get_energy_from_expectation_values,\n",
    "    get_energy_from_data,\n",
    "    convert_tq_H_to_cirq_H,\n",
    "    convert_tq_H_to_dict_H,\n",
    "    convert_population_data_to_expectation_values)"
   ]
  },
  {
   "cell_type": "markdown",
   "id": "652655be",
   "metadata": {},
   "source": [
    "# Jordan Wigner Transformation"
   ]
  },
  {
   "cell_type": "code",
   "execution_count": 2,
   "id": "1859fe94",
   "metadata": {},
   "outputs": [],
   "source": [
    "# Define the geometry\n",
    "g = \"h 0.0 0.0 0.0\\nh 0.0 0.0 1.5\\nh 0.0 0.0 3.0\\nh 0.0 0.0 4.5\"\n",
    "\n",
    "# Get molecule\n",
    "mol_JW = tq.Molecule(backend=\"pyscf\", geometry=g, basis_set=\"sto-3g\", transformation=\"JordanWigner\").use_native_orbitals()"
   ]
  },
  {
   "cell_type": "code",
   "execution_count": 3,
   "id": "ca59a13b",
   "metadata": {},
   "outputs": [
    {
     "name": "stderr",
     "output_type": "stream",
     "text": [
      "/home/liamj/Molecular Simulation/chemical-graph/tequila-beta/lib/python3.12/site-packages/pyscf/gto/mole.py:1293: UserWarning: Function mol.dumps drops attribute energy_nuc because it is not JSON-serializable\n",
      "  warnings.warn(msg)\n"
     ]
    },
    {
     "name": "stdout",
     "output_type": "stream",
     "text": [
      "HF  -1.8291374124430182\n",
      "FCI  -1.9961503255188089\n"
     ]
    }
   ],
   "source": [
    "print('HF ', mol_JW.compute_energy('HF'))\n",
    "fci = mol_JW.compute_energy('FCI')\n",
    "print('FCI ', fci)"
   ]
  },
  {
   "cell_type": "markdown",
   "id": "eb000411",
   "metadata": {},
   "source": [
    "### Method 1: G1 SPA"
   ]
  },
  {
   "cell_type": "code",
   "execution_count": 4,
   "id": "ea57a5c0",
   "metadata": {},
   "outputs": [
    {
     "name": "stdout",
     "output_type": "stream",
     "text": [
      "No variables given...\n",
      "difference from fci: 39.89570428503231 mH\n",
      "Original number of measurements: 361\n",
      "Reduced number of measurements: 103\n"
     ]
    }
   ],
   "source": [
    "U_JW_SPA = mol_JW.make_ansatz(\"SPA\", edges=[(0,1),(2,3)])\n",
    "H_JW_G1 = mol_JW.make_hamiltonian()\n",
    "\n",
    "# Unitary for two orbital rotations (parameterized by 'a' and 'b')\n",
    "U0 = mol_JW.UR(0,1,'a') + mol_JW.UR(2,3,'b')\n",
    "U_JW_G1 = U0 + U_JW_SPA + U0.dagger()\n",
    "\n",
    "res = tq.minimize(tq.ExpectationValue(H=H_JW_G1, U=U_JW_G1), silent=True)\n",
    "\n",
    "U_JW_G1_mapped = U_JW_G1.map_variables(variables=res.variables)\n",
    "\n",
    "for gate in U_JW_G1_mapped.gates:\n",
    "    try:\n",
    "        if not isinstance(gate.parameter, tq.objective.objective.Variable):\n",
    "            gate.parameter = gate.parameter.transformation(gate.parameter.args[0])\n",
    "    except:\n",
    "        x = 1\n",
    "\n",
    "cirq_JW_G1 = tq.compile(U_JW_G1_mapped, backend=\"cirq\")\n",
    "\n",
    "energy_JW_G1 = res.energy\n",
    "print(f\"difference from fci: {abs(res.energy-fci)*1000} mH\")\n",
    "\n",
    "print(f\"Original number of measurements: {len(H_JW_G1.keys())}\")\n",
    "reduced_measurements_JW_G1 = reduce_measurements_naive(H_JW_G1, 8)\n",
    "print(f\"Reduced number of measurements: {len(reduced_measurements_JW_G1)}\")"
   ]
  },
  {
   "cell_type": "markdown",
   "id": "adccc2f6",
   "metadata": {},
   "source": [
    "### Method 2: G1 SPA with optimized orbitals"
   ]
  },
  {
   "cell_type": "code",
   "execution_count": 5,
   "id": "a3f640e0",
   "metadata": {},
   "outputs": [
    {
     "name": "stdout",
     "output_type": "stream",
     "text": [
      "No variables given...\n",
      "difference from fci: 16.26244097546259 meh?\n",
      "\n",
      "Original number of measurements: 361\n",
      "Reduced number of measurements: 103\n"
     ]
    }
   ],
   "source": [
    "# If u want regular obrital optimization u can use:\n",
    "guess = np.eye(4)\n",
    "opt = tq.quantumchemistry.optimize_orbitals(molecule=mol_JW,circuit=U_JW_SPA, initial_guess=guess, silent=True).molecule\n",
    "H_JW_G1_optimized_orbitals = opt.make_hamiltonian()\n",
    "res = tq.minimize(tq.ExpectationValue(H=H_JW_G1_optimized_orbitals,U=U_JW_SPA), silent=True)\n",
    "\n",
    "U_JW_G1_optimized_orbitals_fixed_params = U_JW_SPA.map_variables(variables=res.variables)\n",
    "cirq_JW_G1_optimized_orbitals = tq.compile(U_JW_G1_optimized_orbitals_fixed_params, backend=\"cirq\")\n",
    "\n",
    "print(f\"difference from fci: {abs(res.energy-fci)*1000} meh?\\n\")\n",
    "energy_JW_G1_optimized_orbitals = res.energy\n",
    "\n",
    "print(f\"Original number of measurements: {len(H_JW_G1_optimized_orbitals.keys())}\")\n",
    "reduced_measurements_JW_G1_optimized_orbitals = reduce_measurements_naive(H_JW_G1_optimized_orbitals, 8)\n",
    "print(f\"Reduced number of measurements: {len(reduced_measurements_JW_G1_optimized_orbitals)}\")"
   ]
  },
  {
   "cell_type": "markdown",
   "id": "694a4510",
   "metadata": {},
   "source": [
    "### Method 3: G2"
   ]
  },
  {
   "cell_type": "code",
   "execution_count": 6,
   "id": "914193a1",
   "metadata": {},
   "outputs": [
    {
     "name": "stdout",
     "output_type": "stream",
     "text": [
      "No variables given...\n",
      "difference from fci: 16.69940439785944 meh?\n",
      "\n",
      "Original number of measurements: 361\n",
      "Reduced number of measurements: 103\n"
     ]
    }
   ],
   "source": [
    "# If u want to use Orbital Correlator for more graphs eg. (1,2) u can use:\n",
    "U1 = mol_JW.UR(1,2,'c')\n",
    "UC = mol_JW.UC(1,2,'d')\n",
    "U_JW_G2 = U_JW_SPA + U0 + U1 + UC + U0.dagger() + U1.dagger()\n",
    "res = tq.minimize(tq.ExpectationValue(H=H_JW_G1,U=U_JW_G2), silent=True)\n",
    "\n",
    "U_JW_G2_mapped = U_JW_G2.map_variables(variables=res.variables)\n",
    "\n",
    "for gate in U_JW_G2_mapped.gates:\n",
    "    try:\n",
    "        if not isinstance(gate.parameter, tq.objective.objective.Variable):\n",
    "            gate.parameter = gate.parameter.transformation(gate.parameter.args[0])\n",
    "    except:\n",
    "        x = 1\n",
    "\n",
    "cirq_JW_G2 = tq.compile(U_JW_G2_mapped, backend=\"cirq\")\n",
    "\n",
    "print(f\"difference from fci: {abs(res.energy-fci)*1000} meh?\\n\")\n",
    "energy_JW_G2 = res.energy\n",
    "\n",
    "print(f\"Original number of measurements: {len(H_JW_G1.keys())}\")\n",
    "reduced_measurements_JW_G2 = reduce_measurements_naive(H_JW_G1, 8)\n",
    "print(f\"Reduced number of measurements: {len(reduced_measurements_JW_G2)}\")"
   ]
  },
  {
   "cell_type": "markdown",
   "id": "319f424c",
   "metadata": {},
   "source": [
    "### Method 4: G2 with optimized Orbitals"
   ]
  },
  {
   "cell_type": "code",
   "execution_count": 7,
   "id": "2e6741d5",
   "metadata": {},
   "outputs": [
    {
     "name": "stdout",
     "output_type": "stream",
     "text": [
      "No variables given...\n",
      "difference from fci: 9.697128646922515 meh?\n",
      "Original number of measurements: 361\n",
      "Reduced number of measurements: 103\n"
     ]
    }
   ],
   "source": [
    "U_JW_G2_optimized_orbitals = U_JW_SPA\n",
    "U_JW_G2_optimized_orbitals += mol_JW.UR(0,2, angle=(tq.Variable(\"a_1\") + 0.5) * np.pi) + mol_JW.UR(1,3, angle=(tq.Variable(\"a_2\") + 0.5) * np.pi)\n",
    "U_JW_G2_optimized_orbitals += mol_JW.UC(0,2, angle=tq.Variable(\"b_1\") * np.pi) + mol_JW.UC(1,3, angle=tq.Variable(\"b_2\") * np.pi)\n",
    "U_JW_G2_optimized_orbitals += mol_JW.UR(0,2, angle=(tq.Variable(\"c_1\") + 0.5) * np.pi) + mol_JW.UR(1,3, angle=(tq.Variable(\"c_2\") + 0.5) * np.pi)\n",
    "res = tq.minimize(tq.ExpectationValue(H=H_JW_G1_optimized_orbitals,U=U_JW_G2_optimized_orbitals),silent=True)\n",
    "\n",
    "U_JW_G2_optimized_orbitals_mapped = U_JW_G2_optimized_orbitals.map_variables(variables=res.variables)\n",
    "\n",
    "for gate in U_JW_G2_optimized_orbitals_mapped.gates:\n",
    "    try:\n",
    "        if not isinstance(gate.parameter, tq.objective.objective.Variable):\n",
    "            gate.parameter = gate.parameter.transformation(gate.parameter.args[0])\n",
    "    except:\n",
    "        x = 1\n",
    "\n",
    "cirq_JW_G2_optimized_orbitals = tq.compile(U_JW_G2_optimized_orbitals_mapped, backend=\"cirq\")\n",
    "\n",
    "print(f\"difference from fci: {abs(res.energy-fci)*1000} meh?\")\n",
    "energy_JW_G2_optimized_orbitals = res.energy\n",
    "\n",
    "print(f\"Original number of measurements: {len(H_JW_G1_optimized_orbitals.keys())}\")\n",
    "reduced_measurements_JW_G2_optimized_orbitals = reduce_measurements_naive(H_JW_G1_optimized_orbitals, 8)\n",
    "print(f\"Reduced number of measurements: {len(reduced_measurements_JW_G2_optimized_orbitals)}\")"
   ]
  },
  {
   "cell_type": "markdown",
   "id": "853a9509",
   "metadata": {},
   "source": [
    "# Parity Tapering Transformation"
   ]
  },
  {
   "cell_type": "code",
   "execution_count": 8,
   "id": "44414a0b",
   "metadata": {},
   "outputs": [],
   "source": [
    "g = \"h 0.0 0.0 0.0\\nh 0.0 0.0 1.5\\nh 0.0 0.0 3.0\\nh 0.0 0.0 4.5\"\n",
    "\n",
    "mol = tq.Molecule(backend=\"pyscf\", geometry=g, basis_set=\"sto-3g\", transformation=\"TaperedBinary\").use_native_orbitals()"
   ]
  },
  {
   "cell_type": "code",
   "execution_count": 9,
   "id": "54178753",
   "metadata": {},
   "outputs": [
    {
     "name": "stdout",
     "output_type": "stream",
     "text": [
      "HF  -1.8291374124430178\n",
      "FCI  -1.9961503255188089\n"
     ]
    }
   ],
   "source": [
    "# You can check the Hartree Fock Energy and FCI energy like this:\n",
    "print('HF ', mol.compute_energy('HF'))\n",
    "fci = mol.compute_energy('FCI')\n",
    "print('FCI ', fci)"
   ]
  },
  {
   "cell_type": "markdown",
   "id": "af8bb852",
   "metadata": {},
   "source": [
    "### Method 1: G1"
   ]
  },
  {
   "cell_type": "code",
   "execution_count": 10,
   "id": "531a5d30",
   "metadata": {},
   "outputs": [
    {
     "name": "stdout",
     "output_type": "stream",
     "text": [
      "No variables given...\n",
      "difference from fci: 39.89570428502609 meh?\n",
      "Original number of measurements: 317\n",
      "Reduced number of measurements: 88\n"
     ]
    }
   ],
   "source": [
    "U_PT_SPA = mol.make_ansatz(\"SPA\", edges=[(0,1),(2,3)])\n",
    "H_PT_G1 = mol.make_hamiltonian()\n",
    "\n",
    "# This is how to properly calculate the SPA energy, without optimizing the orbitals\n",
    "# The UR0 basically optimizes the orbitals\n",
    "U0 = mol.UR(0,1,'a') + mol.UR(2,3,'b')\n",
    "U_PT_G1 = U0 + U_PT_SPA + U0.dagger()\n",
    "res = tq.minimize(tq.ExpectationValue(H=H_PT_G1,U=U_PT_G1),silent=True)\n",
    "\n",
    "U_PT_G1_mapped = U_PT_G1.map_variables(variables=res.variables)\n",
    "\n",
    "for gate in U_PT_G1_mapped.gates:\n",
    "    try:\n",
    "        if not isinstance(gate.parameter, tq.objective.objective.Variable):\n",
    "            gate.parameter = gate.parameter.transformation(gate.parameter.args[0])\n",
    "    except:\n",
    "        x = 1\n",
    "\n",
    "cirq_PT_G1 = tq.compile(U_PT_G1_mapped, backend=\"cirq\")\n",
    "\n",
    "energy_PT_G1 = res.energy\n",
    "\n",
    "print(f\"difference from fci: {abs(res.energy-fci)*1000} meh?\")\n",
    "\n",
    "print(f\"Original number of measurements: {len(H_PT_G1.keys())}\")\n",
    "reduced_measurements_PT_G1 = reduce_measurements_naive(H_PT_G1, 6)\n",
    "print(f\"Reduced number of measurements: {len(reduced_measurements_PT_G1)}\")"
   ]
  },
  {
   "cell_type": "markdown",
   "id": "83fd4eea",
   "metadata": {},
   "source": [
    "### Method 2: G1 with optimized Orbitals"
   ]
  },
  {
   "cell_type": "code",
   "execution_count": 11,
   "id": "e6261676",
   "metadata": {},
   "outputs": [
    {
     "name": "stdout",
     "output_type": "stream",
     "text": [
      "No variables given...\n",
      "difference from fci: 16.26244097546281 meh?\n",
      "\n",
      "Original number of measurements: 325\n",
      "Reduced number of measurements: 84\n"
     ]
    }
   ],
   "source": [
    "# If u want regular obrital optimization u can use:\n",
    "guess = np.eye(4)\n",
    "opt = tq.quantumchemistry.optimize_orbitals(molecule=mol,circuit=U_PT_SPA, initial_guess=guess, silent=True).molecule\n",
    "H_PT_G1_opt = opt.make_hamiltonian()\n",
    "res = tq.minimize(tq.ExpectationValue(H=H_PT_G1_opt,U=U_PT_SPA), silent=True)\n",
    "\n",
    "U_PT_G1_optimized_orbitals_fixed_params = U_PT_SPA.map_variables(variables=res.variables)\n",
    "cirq_PT_G1_optimized_orbitals = tq.compile(U_PT_G1_optimized_orbitals_fixed_params, backend=\"cirq\")\n",
    "\n",
    "energy_PT_G1_optimized_orbitals = res.energy\n",
    "\n",
    "print(f\"difference from fci: {abs(res.energy-fci)*1000} meh?\\n\")\n",
    "\n",
    "print(f\"Original number of measurements: {len(H_PT_G1_opt.keys())}\")\n",
    "reduced_measurements_PT_G1_optimized_orbitals = reduce_measurements_naive(H_PT_G1_opt, 6)\n",
    "print(f\"Reduced number of measurements: {len(reduced_measurements_PT_G1_optimized_orbitals)}\")"
   ]
  },
  {
   "cell_type": "markdown",
   "id": "4db1481e",
   "metadata": {},
   "source": [
    "### Method 3: G2"
   ]
  },
  {
   "cell_type": "code",
   "execution_count": 12,
   "id": "49c1ebc0",
   "metadata": {},
   "outputs": [
    {
     "name": "stdout",
     "output_type": "stream",
     "text": [
      "No variables given...\n",
      "difference from fci: 16.699404397387816 meh?\n",
      "\n",
      "Original number of measurements: 317\n",
      "Reduced number of measurements: 88\n"
     ]
    }
   ],
   "source": [
    "# If u want to use Orbital Correlator for more graphs eg. (1,2) u can use:\n",
    "U1 = mol.UR(1,2,'c')\n",
    "UC = mol.UC(1,2,'d')\n",
    "U_PT_G2 = U_PT_SPA + U0 + U1 + UC + U0.dagger() + U1.dagger()\n",
    "res = tq.minimize(tq.ExpectationValue(H=H_PT_G1,U=U_PT_G2), silent=True)\n",
    "\n",
    "U_PT_G2_mapped = U_PT_G2.map_variables(variables=res.variables)\n",
    "\n",
    "for gate in U_PT_G2_mapped.gates:\n",
    "    try:\n",
    "        if not isinstance(gate.parameter, tq.objective.objective.Variable):\n",
    "            gate.parameter = gate.parameter.transformation(gate.parameter.args[0])\n",
    "    except:\n",
    "        x = 1\n",
    "\n",
    "cirq_PT_G2 = tq.compile(U_PT_G2_mapped, backend=\"cirq\")\n",
    "\n",
    "energy_PT_G2 = res.energy\n",
    "\n",
    "print(f\"difference from fci: {abs(res.energy-fci)*1000} meh?\\n\")\n",
    "\n",
    "print(f\"Original number of measurements: {len(H_PT_G1.keys())}\")\n",
    "reduced_measurements_PT_G2 = reduce_measurements_naive(H_PT_G1, 6)\n",
    "print(f\"Reduced number of measurements: {len(reduced_measurements_PT_G2)}\")"
   ]
  },
  {
   "cell_type": "markdown",
   "id": "cb2257ca",
   "metadata": {},
   "source": [
    "### Method 4: G2 with Optimized Orbitals"
   ]
  },
  {
   "cell_type": "code",
   "execution_count": 13,
   "id": "7874fb43",
   "metadata": {},
   "outputs": [
    {
     "name": "stdout",
     "output_type": "stream",
     "text": [
      "No variables given...\n",
      "difference from fci: 9.697128646920739 meh?\n",
      "\n",
      "Original number of measurements: 325\n",
      "Reduced number of measurements: 84\n"
     ]
    }
   ],
   "source": [
    "# U can also add Orbital optimization to the Rotator - Corellator / use our optimized Hamiltonian\n",
    "U_PT_G2_optimized_orbitals = U_PT_SPA\n",
    "U_PT_G2_optimized_orbitals += mol.UR(0,2, angle=(tq.Variable(\"a_1\") + 0.5) * np.pi) + mol.UR(1,3, angle=(tq.Variable(\"a_2\") + 0.5) * np.pi)\n",
    "U_PT_G2_optimized_orbitals += mol.UC(0,2, angle=tq.Variable(\"b_1\") * np.pi) + mol.UC(1,3, angle=tq.Variable(\"b_2\") * np.pi)\n",
    "U_PT_G2_optimized_orbitals += mol.UR(0,2, angle=(tq.Variable(\"c_1\") + 0.5) * np.pi) + mol.UR(1,3, angle=(tq.Variable(\"c_2\") + 0.5) * np.pi)\n",
    "res = tq.minimize(tq.ExpectationValue(H=H_PT_G1_opt,U=U_PT_G2_optimized_orbitals),silent=True)\n",
    "\n",
    "U_PT_G2_optimized_orbitals_mapped = U_PT_G2_optimized_orbitals.map_variables(variables=res.variables)\n",
    "\n",
    "for gate in U_PT_G2_optimized_orbitals_mapped.gates:\n",
    "    try:\n",
    "        if not isinstance(gate.parameter, tq.objective.objective.Variable):\n",
    "            gate.parameter = gate.parameter.transformation(gate.parameter.args[0])\n",
    "    except:\n",
    "        x = 1\n",
    "\n",
    "cirq_PT_G2_optimized_orbitals = tq.compile(U_PT_G2_optimized_orbitals_mapped, backend=\"cirq\")\n",
    "\n",
    "energy_PT_G2_optimized_orbitals = res.energy\n",
    "\n",
    "print(f\"difference from fci: {abs(res.energy-fci)*1000} meh?\\n\")\n",
    "\n",
    "print(f\"Original number of measurements: {len(H_PT_G1_opt.keys())}\")\n",
    "reduced_measurements_PT_G2_optimized_orbitals = reduce_measurements_naive(H_PT_G1_opt, 6)\n",
    "print(f\"Reduced number of measurements: {len(reduced_measurements_PT_G2_optimized_orbitals)}\")"
   ]
  },
  {
   "cell_type": "markdown",
   "id": "48312c15",
   "metadata": {},
   "source": [
    "# Get all circuits as Gates Lab Suite circuits (for taking data)"
   ]
  },
  {
   "cell_type": "code",
   "execution_count": 14,
   "id": "41b6bf04",
   "metadata": {},
   "outputs": [],
   "source": [
    "\n",
    "# Parameterized circuits\n",
    "gates_JW_G1 = cirq_to_gates(cirq_JW_G1.circuit, 8, \"Jordan-Wigner G1\")\n",
    "gates_JW_G1_optimized_orbitals = cirq_to_gates(cirq_JW_G1_optimized_orbitals.circuit, 8, \"Jordan-Wigner G1 w/ optimized orbitals\")\n",
    "gates_JW_G2 = cirq_to_gates(cirq_JW_G2.circuit, 8, \"Jordan-Wigner G2\")\n",
    "gates_JW_G2_optimized_orbitals = cirq_to_gates(cirq_JW_G2_optimized_orbitals.circuit, 8, \"Jordan-Wigner G2 w/ optimized orbitals\")\n",
    "\n",
    "gates_PT_G1 = cirq_to_gates(cirq_PT_G1.circuit, 8, \"Parity Tapering G1\")\n",
    "gates_PT_G1_optimized_orbitals = cirq_to_gates(cirq_PT_G1_optimized_orbitals.circuit, 8, \"Parity Tapering G1 w/ optimized orbitals\")\n",
    "gates_PT_G2 = cirq_to_gates(cirq_PT_G2.circuit, 8, \"Parity Tapering G2\")\n",
    "gates_PT_G2_optimized_orbitals = cirq_to_gates(cirq_PT_G2_optimized_orbitals.circuit, 8, \"Parity Tapering G2 w/ optimized orbitals\")\n",
    "\n",
    "\n",
    "# Circuits with fixed, optimal parameters\n",
    "gates_JW_G1_optimized_orbitals_fixed_params = cirq_to_gates(cirq_JW_G1_optimized_orbitals.circuit, 8, \"Jordan-Wigner G1 w/ optimized orbitals\")"
   ]
  },
  {
   "cell_type": "markdown",
   "id": "b12dca4a",
   "metadata": {},
   "source": [
    "# Get all circuits as Qibo circuits (for simulations)"
   ]
  },
  {
   "cell_type": "code",
   "execution_count": 15,
   "id": "08d25a22",
   "metadata": {},
   "outputs": [],
   "source": [
    "\n",
    "# Parameterized circuits\n",
    "qibo_JW_G1 = cirq_to_qibo(cirq_JW_G1.circuit, 8, \"Jordan-Wigner G1\")\n",
    "qibo_JW_G1_optimized_orbitals = cirq_to_qibo(cirq_JW_G1_optimized_orbitals.circuit, 8, \"Jordan-Wigner G1 w/ optimized orbitals\")\n",
    "qibo_JW_G2 = cirq_to_qibo(cirq_JW_G2.circuit, 8, \"Jordan-Wigner G2\")\n",
    "qibo_JW_G2_optimized_orbitals = cirq_to_qibo(cirq_JW_G2_optimized_orbitals.circuit, 8, \"Jordan-Wigner G2 w/ optimized orbitals\")\n",
    "\n",
    "qibo_PT_G1 = cirq_to_qibo(cirq_PT_G1.circuit, 8, \"Parity Tapering G1\")\n",
    "qibo_PT_G1_optimized_orbitals = cirq_to_qibo(cirq_PT_G1_optimized_orbitals.circuit, 8, \"Parity Tapering G1 w/ optimized orbitals\")\n",
    "qibo_PT_G2 = cirq_to_qibo(cirq_PT_G2.circuit, 8, \"Parity Tapering G2\")\n",
    "qibo_PT_G2_optimized_orbitals = cirq_to_qibo(cirq_PT_G2_optimized_orbitals.circuit, 8, \"Parity Tapering G2 w/ optimized orbitals\")\n",
    "\n",
    "# Circuits with fixed, optimal parameters\n",
    "qibo_JW_G1_optimized_orbitals_fixed_params = cirq_to_qibo(cirq_JW_G1_optimized_orbitals.circuit, 8, \"Jordan-Wigner G1 w/ optimized orbitals\")\n"
   ]
  },
  {
   "cell_type": "markdown",
   "id": "95357d38",
   "metadata": {},
   "source": [
    "#### Check that cirq circuit gets correct energy"
   ]
  },
  {
   "cell_type": "code",
   "execution_count": 24,
   "id": "c1ff6e4a",
   "metadata": {},
   "outputs": [
    {
     "name": "stdout",
     "output_type": "stream",
     "text": [
      "tq energy : cirq/tq EV energy\n",
      "-1.9562546212337766 : -1.956254594167206\n",
      "-1.9798878845433463 : -1.9798879202636583\n",
      "-1.9794509211209494 : -1.9794509370935032\n",
      "-1.9864531968718864 : -1.9864533176619044\n",
      "-1.9562546212337828 : -1.9562546977985926\n",
      "-1.979887884543346 : -1.979887920263657\n",
      "-1.979450921121421 : -1.97945133994675\n",
      "-1.9864531968718881 : -1.9864536794241197\n"
     ]
    }
   ],
   "source": [
    "# Get the final state vector\n",
    "simulator = cirq.Simulator()\n",
    "\n",
    "result_JW_G1 = simulator.simulate(cirq_JW_G1.circuit)\n",
    "result_JW_G1_optimized_orbitals = simulator.simulate(cirq_JW_G1_optimized_orbitals.circuit)\n",
    "result_JW_G2 = simulator.simulate(cirq_JW_G2.circuit)\n",
    "result_JW_G2_optimized_orbitals = simulator.simulate(cirq_JW_G2_optimized_orbitals.circuit)\n",
    "\n",
    "result_PT_G1 = simulator.simulate(cirq_PT_G1.circuit)\n",
    "result_PT_G1_optimized_orbitals = simulator.simulate(cirq_PT_G1_optimized_orbitals.circuit)\n",
    "result_PT_G2 = simulator.simulate(cirq_PT_G2.circuit)\n",
    "result_PT_G2_optimized_orbitals = simulator.simulate(cirq_PT_G2_optimized_orbitals.circuit)\n",
    "\n",
    "state_vector_JW_G1 = result_JW_G1.final_state_vector\n",
    "state_vector_JW_G1_optimized_orbitals = result_JW_G1_optimized_orbitals.final_state_vector\n",
    "state_vector_JW_G2 = result_JW_G2.final_state_vector\n",
    "state_vector_JW_G2_optimized_orbitals = result_JW_G2_optimized_orbitals.final_state_vector\n",
    "\n",
    "state_vector_PT_G1 = result_PT_G1.final_state_vector\n",
    "state_vector_PT_G1_optimized_orbitals = result_PT_G1_optimized_orbitals.final_state_vector\n",
    "state_vector_PT_G2 = result_PT_G2.final_state_vector\n",
    "state_vector_PT_G2_optimized_orbitals = result_PT_G2_optimized_orbitals.final_state_vector\n",
    "\n",
    "qubits = cirq.LineQubit.range(8)\n",
    "\n",
    "cirq_H_JW_G1, _ = convert_tq_H_to_cirq_H(H_JW_G1, qubits)\n",
    "cirq_H_JW_G1_optimized_orbitals, _ = convert_tq_H_to_cirq_H(H_JW_G1_optimized_orbitals, qubits)\n",
    "\n",
    "cirq_H_PT_G1, _ = convert_tq_H_to_cirq_H(H_PT_G1, qubits)\n",
    "cirq_H_PT_G1_optimized_orbitals, _ = convert_tq_H_to_cirq_H(H_PT_G1_opt, qubits)\n",
    "\n",
    "qubit_map = {}\n",
    "for i in range(len(qubits)):\n",
    "    qubit_map[qubits[i]] = i\n",
    "\n",
    "# Calculate the expectation value\n",
    "energy_JW_G1_cirq = cirq_H_JW_G1.expectation_from_state_vector(state_vector_JW_G1, qubit_map=qubit_map)\n",
    "energy_JW_G1_optimized_orbitals_cirq = cirq_H_JW_G1_optimized_orbitals.expectation_from_state_vector(state_vector_JW_G1_optimized_orbitals, qubit_map=qubit_map)\n",
    "energy_JW_G2_cirq = cirq_H_JW_G1.expectation_from_state_vector(state_vector_JW_G2, qubit_map=qubit_map)\n",
    "energy_JW_G2_optimized_orbitals_cirq = cirq_H_JW_G1_optimized_orbitals.expectation_from_state_vector(state_vector_JW_G2_optimized_orbitals, qubit_map=qubit_map)\n",
    "\n",
    "energy_PT_G1_cirq = cirq_H_PT_G1.expectation_from_state_vector(state_vector_PT_G1, qubit_map=qubit_map)\n",
    "energy_PT_G1_optimized_orbitals_cirq = cirq_H_PT_G1_optimized_orbitals.expectation_from_state_vector(state_vector_PT_G1_optimized_orbitals, qubit_map=qubit_map)\n",
    "energy_PT_G2_cirq = cirq_H_PT_G1.expectation_from_state_vector(state_vector_PT_G2, qubit_map=qubit_map)\n",
    "energy_PT_G2_optimized_orbitals_cirq = cirq_H_PT_G1_optimized_orbitals.expectation_from_state_vector(state_vector_PT_G2_optimized_orbitals, qubit_map=qubit_map)\n",
    "\n",
    "\n",
    "print(\"tq energy : cirq/tq EV energy\")\n",
    "print(f\"{energy_JW_G1.real} : {energy_JW_G1_cirq.real}\")\n",
    "print(f\"{energy_JW_G1_optimized_orbitals.real} : {energy_JW_G1_optimized_orbitals_cirq.real}\")\n",
    "print(f\"{energy_JW_G2.real} : {energy_JW_G2_cirq.real}\")\n",
    "print(f\"{energy_JW_G2_optimized_orbitals.real} : {energy_JW_G2_optimized_orbitals_cirq.real}\")\n",
    "\n",
    "print(f\"{energy_PT_G1.real} : {energy_PT_G1_cirq.real}\")\n",
    "print(f\"{energy_PT_G1_optimized_orbitals.real} : {energy_PT_G1_optimized_orbitals_cirq.real}\")\n",
    "print(f\"{energy_PT_G2.real} : {energy_PT_G2_cirq.real}\")\n",
    "print(f\"{energy_PT_G2_optimized_orbitals.real} : {energy_PT_G2_optimized_orbitals_cirq.real}\")"
   ]
  },
  {
   "cell_type": "markdown",
   "id": "f78e2e8c",
   "metadata": {},
   "source": [
    "### Convert H to a dictionary of Pauli strings"
   ]
  },
  {
   "cell_type": "code",
   "execution_count": 25,
   "id": "d16753a5",
   "metadata": {},
   "outputs": [],
   "source": [
    "H_JW_G1_dict = convert_tq_H_to_dict_H(H_JW_G1, 8)\n",
    "H_JW_G1_optimized_orbitals_dict = convert_tq_H_to_dict_H(H_JW_G1_optimized_orbitals, 8)\n",
    "H_JW_G2_dict = convert_tq_H_to_dict_H(H_JW_G1, 8)\n",
    "H_JW_G2_optimized_orbitals_dict = convert_tq_H_to_dict_H(H_JW_G1_optimized_orbitals, 8)\n",
    "\n",
    "H_PT_G1_dict = convert_tq_H_to_dict_H(H_PT_G1, 6)\n",
    "H_PT_G1_optimized_orbitals_dict = convert_tq_H_to_dict_H(H_PT_G1_opt, 6)\n",
    "H_PT_G2_dict = convert_tq_H_to_dict_H(H_PT_G1, 6)\n",
    "H_PT_G2_optimized_orbitals_dict = convert_tq_H_to_dict_H(H_PT_G1_opt, 6)"
   ]
  },
  {
   "cell_type": "markdown",
   "id": "97b9e231",
   "metadata": {},
   "source": [
    "### Simulate state probabilities using Cirq\n",
    "Then calculate expectation values, then energy"
   ]
  },
  {
   "cell_type": "code",
   "execution_count": 27,
   "id": "689d508f",
   "metadata": {},
   "outputs": [
    {
     "name": "stdout",
     "output_type": "stream",
     "text": [
      "-1.9649524886216567\n",
      "-1.7017386361692293\n",
      "-1.9876876568223216\n",
      "-1.314640279931664\n",
      "-1.7588093268734863\n",
      "-1.8408134716463134\n",
      "-1.7786648441144242\n",
      "-1.8347226308235796\n"
     ]
    }
   ],
   "source": [
    "# JW Transformation, G1\n",
    "res_dict_JW_G1 = simulate_data_cirq(H_JW_G1_dict, cirq_JW_G1.circuit, 8)\n",
    "evs_JW_G1 = convert_population_data_to_expectation_values(res_dict_JW_G1)\n",
    "print(get_energy_from_expectation_values(H_JW_G1_dict, evs_JW_G1))\n",
    "\n",
    "# JW Transformation, G1 with optimal hamiltonian\n",
    "res_dict_JW_G1_optimized_orbitals = simulate_data_cirq(H_JW_G1_optimized_orbitals_dict, cirq_JW_G1_optimized_orbitals.circuit, 8)\n",
    "evs_JW_G1_optimized_orbitals = convert_population_data_to_expectation_values(res_dict_JW_G1_optimized_orbitals)\n",
    "print(get_energy_from_expectation_values(H_JW_G1_optimized_orbitals_dict, evs_JW_G1_optimized_orbitals))\n",
    "\n",
    "# JW Transformation, G2\n",
    "res_dict_JW_G2 = simulate_data_cirq(H_JW_G2_dict, cirq_JW_G2.circuit, 8)\n",
    "evs_JW_G2 = convert_population_data_to_expectation_values(res_dict_JW_G2)\n",
    "print(get_energy_from_expectation_values(H_JW_G1_dict, evs_JW_G2))\n",
    "\n",
    "# JW Transformation, G2 with optimal hamiltonian\n",
    "res_dict_JW_G2_optimized_orbitals = simulate_data_cirq(H_JW_G1_dict, cirq_JW_G1.circuit, 8)\n",
    "evs_JW_G2_optimized_orbitals = convert_population_data_to_expectation_values(res_dict_JW_G2_optimized_orbitals)\n",
    "print(get_energy_from_expectation_values(H_JW_G1_optimized_orbitals_dict, evs_JW_G2_optimized_orbitals))\n",
    "\n",
    "\n",
    "# Parity Transformation, G1\n",
    "res_dict_PT_G1 = simulate_data_cirq(H_PT_G1_dict, cirq_PT_G1.circuit, 6)\n",
    "evs_PT_G1 = convert_population_data_to_expectation_values(res_dict_PT_G1)\n",
    "print(get_energy_from_expectation_values(H_PT_G1_dict, evs_PT_G1))\n",
    "\n",
    "# Parity Transformation, G1 with optimal hamiltonian\n",
    "res_dict_PT_G1_optimized_orbitals = simulate_data_cirq(H_PT_G1_optimized_orbitals_dict, cirq_PT_G1_optimized_orbitals.circuit, 6)\n",
    "evs_PT_G1_optimized_orbitals = convert_population_data_to_expectation_values(res_dict_PT_G1_optimized_orbitals)\n",
    "print(get_energy_from_expectation_values(H_PT_G1_optimized_orbitals_dict, evs_PT_G1_optimized_orbitals))\n",
    "\n",
    "# Parity Transformation, G2\n",
    "res_dict_PT_G2 = simulate_data_cirq(H_PT_G2_dict, cirq_PT_G2.circuit, 6)\n",
    "evs_PT_G2 = convert_population_data_to_expectation_values(res_dict_PT_G2)\n",
    "print(get_energy_from_expectation_values(H_PT_G1_dict, evs_PT_G2))\n",
    "\n",
    "# Parity Transformation, G2 with optimal hamiltonian\n",
    "res_dict_PT_G2_optimized_orbitals = simulate_data_cirq(H_PT_G2_optimized_orbitals_dict, cirq_PT_G2_optimized_orbitals.circuit, 6)\n",
    "evs_PT_G2_optimized_orbitals = convert_population_data_to_expectation_values(res_dict_PT_G2_optimized_orbitals)\n",
    "print(get_energy_from_expectation_values(H_PT_G1_optimized_orbitals_dict, evs_PT_G2_optimized_orbitals))"
   ]
  },
  {
   "cell_type": "code",
   "execution_count": null,
   "id": "82ff75b7",
   "metadata": {},
   "outputs": [],
   "source": []
  }
 ],
 "metadata": {
  "kernelspec": {
   "display_name": "tequila-beta",
   "language": "python",
   "name": "python3"
  },
  "language_info": {
   "codemirror_mode": {
    "name": "ipython",
    "version": 3
   },
   "file_extension": ".py",
   "mimetype": "text/x-python",
   "name": "python",
   "nbconvert_exporter": "python",
   "pygments_lexer": "ipython3",
   "version": "3.12.3"
  }
 },
 "nbformat": 4,
 "nbformat_minor": 5
}
