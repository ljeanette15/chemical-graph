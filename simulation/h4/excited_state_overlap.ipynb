{
 "cells": [
  {
   "cell_type": "code",
   "execution_count": 23,
   "id": "98f01e43",
   "metadata": {},
   "outputs": [],
   "source": [
    "import tequila as tq\n",
    "import numpy as np\n",
    "import cirq\n",
    "import matplotlib.pyplot as plt"
   ]
  },
  {
   "cell_type": "code",
   "execution_count": 41,
   "id": "97f649e7",
   "metadata": {},
   "outputs": [],
   "source": [
    "geometry = \"\"\"\n",
    "H 0.0 0.0 0.0\n",
    "H 0.0 0.0 1.5\n",
    "H 0.0 0.0 3.0\n",
    "H 0.0 0.0 4.5\n",
    "\"\"\"\n",
    "\n",
    "# Make a molecule based on the given geometry and basis set. The transformation will transform from fermionic to spin hamiltonian\n",
    "mol = tq.Molecule(geometry=geometry, basis_set=\"sto-3g\", transformation=\"ReorderedJordanWigner\")\n",
    "\n",
    "H = mol.make_hamiltonian()\n",
    "v = np.linalg.eigvalsh(H.to_matrix())\n",
    "\n",
    "# Pairing model Hamiltonian in molecular basis (what is the molecular basis?)\n",
    "HCB1 = mol.make_hardcore_boson_hamiltonian()"
   ]
  },
  {
   "cell_type": "code",
   "execution_count": 43,
   "id": "d968101a",
   "metadata": {},
   "outputs": [
    {
     "data": {
      "text/plain": [
       "-1.5561260779839987"
      ]
     },
     "execution_count": 43,
     "metadata": {},
     "output_type": "execute_result"
    }
   ],
   "source": [
    "# Ground State (What are the edges here?)\n",
    "U1HCB = mol.make_ansatz(name=\"HCB-SPA\", edges=[(0,1),(2, 3)], label=1)\n",
    "\n",
    "E1 = tq.ExpectationValue(H=HCB1, U=U1HCB)\n",
    "result = tq.minimize(E1, silent=True)\n",
    "\n",
    "# fix variables (no need to change them anymore)\n",
    "U1HCB = U1HCB.map_variables(variables=result.variables)\n",
    "\n",
    "gs_energy = result.energy\n",
    "gs_energy"
   ]
  },
  {
   "cell_type": "code",
   "execution_count": null,
   "id": "2bcb560d",
   "metadata": {},
   "outputs": [],
   "source": [
    "# Excited State\n",
    "U2HCB = mol.make_ansatz(name=\"HCB-SPA\", edges=[(0,1), (2, 3)], label=2)\n",
    "\n",
    "# Pairing model Hamiltonian in atomic basis\n",
    "HCB2 = mol.use_native_orbitals().make_hardcore_boson_hamiltonian()\n",
    "E2 = tq.ExpectationValue(H=HCB2, U=U2HCB)\n",
    "\n",
    "# ????? What bases are we rotating between ?????\n",
    "# Rotation between the bases\n",
    "var = (tq.Variable(\"R0\") + 0.5) * np.pi\n",
    "# var = 0.16979011865491328\n",
    "UR = mol.UR(0,1,var) + mol.UR(2,3,var) + mol.UR(1,2,var)\n",
    "\n",
    "# ????? Why do we need to change back to fermions ?????\n",
    "# change from pairing model (hardcore-bosons) back to fermions\n",
    "UF = mol.hcb_to_me()\n",
    "\n",
    "# Overlap between the states\n",
    "P0 = tq.paulis.Projector(wfn=\"|00000000>\")\n",
    "S = tq.ExpectationValue(H=P0, U=U1HCB + UF + UR + UF.dagger() + U2HCB.dagger())\n",
    "\n",
    "res = tq.minimize(S, silent=True)"
   ]
  },
  {
   "cell_type": "code",
   "execution_count": 89,
   "id": "105d8565",
   "metadata": {},
   "outputs": [
    {
     "data": {
      "text/plain": [
       "{R0: -6.285900835224e-14, ((2, 3), 'D', 2): -1.5747757449978184, ((0, 1), 'D', 2): -1.5747757449978217}"
      ]
     },
     "execution_count": 89,
     "metadata": {},
     "output_type": "execute_result"
    }
   ],
   "source": [
    "res.variables"
   ]
  },
  {
   "cell_type": "code",
   "execution_count": 90,
   "id": "5eeef1d7",
   "metadata": {},
   "outputs": [],
   "source": [
    "# excited state objective\n",
    "objective = E2 - gs_energy*S\n",
    "result2 = tq.minimize(objective, silent = True)\n",
    "ex_energy = result2.energy"
   ]
  },
  {
   "cell_type": "code",
   "execution_count": 91,
   "id": "220c98b4",
   "metadata": {},
   "outputs": [
    {
     "name": "stdout",
     "output_type": "stream",
     "text": [
      "energies and errors\n",
      "gs energy: -1.55613 | 0.44002\n",
      "ex energy: -0.81314 | 0.00676\n",
      "overlap  : 0.042578709\n"
     ]
    }
   ],
   "source": [
    "print(\"energies and errors\")\n",
    "print(\"gs energy: {:+2.5f} | {:2.5f}\".format(gs_energy, gs_energy-v[0]))\n",
    "\n",
    "# for a bond distance of 1.0, state number 8 (so energy v[8]) is the one we are after\n",
    "# for others it might change, so I just find the closest eigenenergy approximated\n",
    "errors = [abs(ex_energy - e) for e in v]\n",
    "print(\"ex energy: {:+2.5f} | {:2.5f}\".format(ex_energy, min(errors)))\n",
    "\n",
    "# let's compute the overlap (should be zero after optimization)\n",
    "overlap = tq.simulate(S, variables=result2.variables)\n",
    "print(\"overlap  : {:2.9f}\".format(overlap))"
   ]
  },
  {
   "cell_type": "code",
   "execution_count": 83,
   "id": "82234e1d",
   "metadata": {},
   "outputs": [
    {
     "name": "stdout",
     "output_type": "stream",
     "text": [
      "Info on the Overlap Objective\n",
      "Objective with 1 unique expectation values\n",
      "total measurements = 1\n",
      "variables          = [R0, ((2, 3), 'D', 2), ((0, 1), 'D', 2)]\n",
      "types              = not compiled\n",
      "tikz2preview overlap_circuit.tikz\n",
      "pdflatex -interaction=batchmode overlap_circuit.tex\n",
      "This is pdfTeX, Version 3.141592653-2.6-1.40.25 (TeX Live 2023/Debian) (preloaded format=pdflatex)\n",
      " restricted \\write18 enabled.\n",
      "entering extended mode\n"
     ]
    }
   ],
   "source": [
    "#E and E2 are just energy calculations analog to H4 (same model, basically the same 2-qubit circuit)\n",
    "#S is the overlap between the two states\n",
    "#as the two states live in different models, this needs to be incorporated\n",
    "#UF transforms to Fermions and UR rotates the orbitals\n",
    "print(\"Info on the Overlap Objective\")\n",
    "print(S)\n",
    "# get the circuit (only one expectation value in the objective)\n",
    "U = S.get_expectationvalues()[0].U\n",
    "# compile all gates, but stop at \"exponential-pauli\" level\n",
    "# here we only have 2-Paulis as generators\n",
    "# the circuit will have: CNOTS, Ry, and XY-gates with fixed angle (since I can guess the orbital basis here without optimizing)\n",
    "# the circuit just has 1 variable, so explicit optimization might be feasible\n",
    "U = tq.compile_circuit(U, exponential_pauli=False)\n",
    "# circuit as pretty picture (needs qpic installed | will send it with email as well)\n",
    "try:\n",
    "    U.export_to(filename=\"overlap_circuit.pdf\")\n",
    "except Exception as E:\n",
    "    print(\"no qpic and/or latex installed ... sorry\")"
   ]
  },
  {
   "cell_type": "markdown",
   "id": "eab22572",
   "metadata": {},
   "source": [
    "# Simulate Circuit"
   ]
  },
  {
   "cell_type": "code",
   "execution_count": 59,
   "id": "4b00ad07",
   "metadata": {},
   "outputs": [
    {
     "data": {
      "text/html": [
       "<pre style=\"overflow: auto; white-space: pre;\">                     ┌────┐                                                                                             ┌────┐\n",
       "0: ───X──────────X────@───────X───H──────────────────────────────────X──────────────────────────────────────X───H───X───────@────X───X────────────────────────────────────────────────\n",
       "                 │    │       │                                      │                                      │       │       │    │\n",
       "1: ───Y^-0.278───@────┼@──────@───Y^(0.318309886183791*f((R0,))_0)───@───Y^(0.318309886183791*f((R0,))_1)───@───────@──────@┼────@───Y^(0.318309886183791*f((((0, 1), &#x27;D&#x27;, 2),))_9)───\n",
       "                      ││                                                                                                   ││\n",
       "2: ───X──────────X────┼┼@─────X───H──────────────────────────────────X──────────────────────────────────────X───H───X─────@┼┼────X───X────────────────────────────────────────────────\n",
       "                 │    │││     │                                      │                                      │       │     │││    │\n",
       "3: ───Y^-0.21────@────┼┼┼@────@───Y^(0.318309886183791*f((R0,))_4)───@───Y^(0.318309886183791*f((R0,))_5)───@───────@────@┼┼┼────@───Y^(0.318309886183791*f((((2, 3), &#x27;D&#x27;, 2),))_8)───\n",
       "                      ││││                                                                                               ││││\n",
       "4: ───────────────────X┼┼┼────X───H──────────────────────────────────X──────────────────────────────────────X───H───X────┼┼┼X─────────────────────────────────────────────────────────\n",
       "                       │││    │                                      │                                      │       │    │││\n",
       "5: ────────────────────X┼┼────@───Y^(0.318309886183791*f((R0,))_2)───@───Y^(0.318309886183791*f((R0,))_3)───@───────@────┼┼X──────────────────────────────────────────────────────────\n",
       "                        ││                                                                                               ││\n",
       "6: ─────────────────────X┼────X───H──────────────────────────────────X──────────────────────────────────────X───H───X────┼X───────────────────────────────────────────────────────────\n",
       "                         │    │                                      │                                      │       │    │\n",
       "7: ──────────────────────X────@───Y^(0.318309886183791*f((R0,))_6)───@───Y^(0.318309886183791*f((R0,))_7)───@───────@────X────────────────────────────────────────────────────────────\n",
       "                     └────┘                                                                                             └────┘</pre>"
      ],
      "text/plain": [
       "                     ┌────┐                                                                                             ┌────┐\n",
       "0: ───X──────────X────@───────X───H──────────────────────────────────X──────────────────────────────────────X───H───X───────@────X───X────────────────────────────────────────────────\n",
       "                 │    │       │                                      │                                      │       │       │    │\n",
       "1: ───Y^-0.278───@────┼@──────@───Y^(0.318309886183791*f((R0,))_0)───@───Y^(0.318309886183791*f((R0,))_1)───@───────@──────@┼────@───Y^(0.318309886183791*f((((0, 1), 'D', 2),))_9)───\n",
       "                      ││                                                                                                   ││\n",
       "2: ───X──────────X────┼┼@─────X───H──────────────────────────────────X──────────────────────────────────────X───H───X─────@┼┼────X───X────────────────────────────────────────────────\n",
       "                 │    │││     │                                      │                                      │       │     │││    │\n",
       "3: ───Y^-0.21────@────┼┼┼@────@───Y^(0.318309886183791*f((R0,))_4)───@───Y^(0.318309886183791*f((R0,))_5)───@───────@────@┼┼┼────@───Y^(0.318309886183791*f((((2, 3), 'D', 2),))_8)───\n",
       "                      ││││                                                                                               ││││\n",
       "4: ───────────────────X┼┼┼────X───H──────────────────────────────────X──────────────────────────────────────X───H───X────┼┼┼X─────────────────────────────────────────────────────────\n",
       "                       │││    │                                      │                                      │       │    │││\n",
       "5: ────────────────────X┼┼────@───Y^(0.318309886183791*f((R0,))_2)───@───Y^(0.318309886183791*f((R0,))_3)───@───────@────┼┼X──────────────────────────────────────────────────────────\n",
       "                        ││                                                                                               ││\n",
       "6: ─────────────────────X┼────X───H──────────────────────────────────X──────────────────────────────────────X───H───X────┼X───────────────────────────────────────────────────────────\n",
       "                         │    │                                      │                                      │       │    │\n",
       "7: ──────────────────────X────@───Y^(0.318309886183791*f((R0,))_6)───@───Y^(0.318309886183791*f((R0,))_7)───@───────@────X────────────────────────────────────────────────────────────\n",
       "                     └────┘                                                                                             └────┘"
      ]
     },
     "execution_count": 59,
     "metadata": {},
     "output_type": "execute_result"
    }
   ],
   "source": [
    "S_cirq = tq.compile(S, backend=\"cirq\")\n",
    "S_circuit = S_cirq.get_expectationvalues()[0].U.circuit\n",
    "S_circuit"
   ]
  },
  {
   "cell_type": "code",
   "execution_count": 75,
   "id": "efb22d7a",
   "metadata": {},
   "outputs": [
    {
     "name": "stdout",
     "output_type": "stream",
     "text": [
      "YPowGate(exponent=0.318309886183791*f((((2, 3), 'D', 2),))_8, global_shift=-0.5)(q(3))\n",
      "measurements: (no measurements)\n",
      "\n",
      "qubits: (cirq.LineQubit(1), cirq.LineQubit(0), cirq.LineQubit(4), cirq.LineQubit(5))\n",
      "output vector: 0.905|0000⟩ - 0.425|1000⟩\n",
      "\n",
      "qubits: (cirq.LineQubit(3), cirq.LineQubit(2), cirq.LineQubit(6), cirq.LineQubit(7))\n",
      "output vector: 0.945|0000⟩ - 0.327|1000⟩\n",
      "\n",
      "phase:\n",
      "output vector: |⟩\n"
     ]
    }
   ],
   "source": [
    "simulator = cirq.Simulator()\n",
    "\n",
    "param_R0 = result.variables[\"R0\"]\n",
    "param_1 = result.variables[list(result.variables.keys())[1]]\n",
    "param_2 = result.variables[list(result.variables.keys())[2]]\n",
    "\n",
    "simulator = cirq.Simulator()\n",
    "\n",
    "zero_state_populations = []\n",
    "parameterized_angles = []\n",
    "\n",
    "for parameterized_angle in range(1):\n",
    "\n",
    "    new_ops = []\n",
    "\n",
    "    for moment in S_circuit:\n",
    "        for op in moment:\n",
    "\n",
    "            # Check if gate is the parameterized Y power gate:\n",
    "            if op.gate not in [cirq.CNOT, cirq.H, cirq.X, cirq.CZ]:\n",
    "\n",
    "                # Check whether the gate angle is a string (or not a number) - these are the parameterized ones\n",
    "                if type(op.gate.exponent) != float:\n",
    "                    \n",
    "                    # R0 parameterized gates\n",
    "                    if \"R0\" in str(op.gate.exponent.args[1]):\n",
    "                        new_angle = float(op.gate.exponent.args[0]) * param_R0\n",
    "                        new_global_shift = op.gate.global_shift\n",
    "                        new_qubit_num = op.qubits[0]\n",
    "                        new_operation = cirq.YPowGate(exponent=new_angle, global_shift=new_global_shift).on(new_qubit_num)\n",
    "                        new_ops.append(new_operation)\n",
    "                    \n",
    "                    # f(0,1) parameterized gates\n",
    "                    elif \"(0, 1)\" in str(op.gate.exponent.args[1]):\n",
    "                        new_angle = float(op.gate.exponent.args[0]) * param_1\n",
    "                        new_global_shift = op.gate.global_shift\n",
    "                        new_qubit_num = op.qubits[0]\n",
    "                        new_operation = cirq.YPowGate(exponent=new_angle, global_shift=new_global_shift).on(new_qubit_num)\n",
    "                        new_ops.append(new_operation)                    \n",
    "\n",
    "                    # f(2, 3) parameterized gates\n",
    "                    else:\n",
    "                        print(op)\n",
    "\n",
    "                        new_angle = float(op.gate.exponent.args[0]) * param_2\n",
    "                        new_global_shift = op.gate.global_shift\n",
    "                        new_qubit_num = op.qubits[0]\n",
    "                        new_operation = cirq.YPowGate(exponent=new_angle, global_shift=new_global_shift).on(new_qubit_num)\n",
    "                        new_ops.append(new_operation)                    \n",
    "                else:\n",
    "                    new_ops.append(op)\n",
    "\n",
    "            else:\n",
    "                new_ops.append(op)\n",
    "\n",
    "    new_circuit_from_optimization = cirq.Circuit(new_ops)\n",
    "\n",
    "    circuit_result = simulator.simulate(new_circuit_from_optimization)\n",
    "    print(circuit_result)\n",
    "\n",
    "\n",
    "    zero_state_populations.append((circuit_result.final_state_vector[0].real)**2)\n",
    "    parameterized_angles.append(parameterized_angle * 0.01)"
   ]
  },
  {
   "cell_type": "code",
   "execution_count": 71,
   "id": "27c2d1ea",
   "metadata": {},
   "outputs": [
    {
     "data": {
      "text/html": [
       "<pre style=\"overflow: auto; white-space: pre;\">                     ┌────┐                                           ┌────┐\n",
       "0: ───X──────────X────@───────X───H─────────X─────────────X───H───X───────@────X───X──────────\n",
       "                 │    │       │             │             │       │       │    │\n",
       "1: ───Y^-0.278───@────┼@──────@───Y^0.054───@───Y^0.054───@───────@──────@┼────@───Y^-0.002───\n",
       "                      ││                                                 ││\n",
       "2: ───X──────────X────┼┼@─────X───H─────────X─────────────X───H───X─────@┼┼────X───X──────────\n",
       "                 │    │││     │             │             │       │     │││    │\n",
       "3: ───Y^-0.21────@────┼┼┼@────@───Y^0.054───@───Y^0.054───@───────@────@┼┼┼────@───Y^-0.002───\n",
       "                      ││││                                             ││││\n",
       "4: ───────────────────X┼┼┼────X───H─────────X─────────────X───H───X────┼┼┼X───────────────────\n",
       "                       │││    │             │             │       │    │││\n",
       "5: ────────────────────X┼┼────@───Y^0.054───@───Y^0.054───@───────@────┼┼X────────────────────\n",
       "                        ││                                             ││\n",
       "6: ─────────────────────X┼────X───H─────────X─────────────X───H───X────┼X─────────────────────\n",
       "                         │    │             │             │       │    │\n",
       "7: ──────────────────────X────@───Y^0.054───@───Y^0.054───@───────@────X──────────────────────\n",
       "                     └────┘                                           └────┘</pre>"
      ],
      "text/plain": [
       "                     ┌────┐                                           ┌────┐\n",
       "0: ───X──────────X────@───────X───H─────────X─────────────X───H───X───────@────X───X──────────\n",
       "                 │    │       │             │             │       │       │    │\n",
       "1: ───Y^-0.278───@────┼@──────@───Y^0.054───@───Y^0.054───@───────@──────@┼────@───Y^-0.002───\n",
       "                      ││                                                 ││\n",
       "2: ───X──────────X────┼┼@─────X───H─────────X─────────────X───H───X─────@┼┼────X───X──────────\n",
       "                 │    │││     │             │             │       │     │││    │\n",
       "3: ───Y^-0.21────@────┼┼┼@────@───Y^0.054───@───Y^0.054───@───────@────@┼┼┼────@───Y^-0.002───\n",
       "                      ││││                                             ││││\n",
       "4: ───────────────────X┼┼┼────X───H─────────X─────────────X───H───X────┼┼┼X───────────────────\n",
       "                       │││    │             │             │       │    │││\n",
       "5: ────────────────────X┼┼────@───Y^0.054───@───Y^0.054───@───────@────┼┼X────────────────────\n",
       "                        ││                                             ││\n",
       "6: ─────────────────────X┼────X───H─────────X─────────────X───H───X────┼X─────────────────────\n",
       "                         │    │             │             │       │    │\n",
       "7: ──────────────────────X────@───Y^0.054───@───Y^0.054───@───────@────X──────────────────────\n",
       "                     └────┘                                           └────┘"
      ]
     },
     "execution_count": 71,
     "metadata": {},
     "output_type": "execute_result"
    }
   ],
   "source": [
    "new_circuit_from_optimization"
   ]
  },
  {
   "cell_type": "code",
   "execution_count": 72,
   "id": "fccd1a74",
   "metadata": {},
   "outputs": [
    {
     "data": {
      "image/png": "[encoded data removed]",
      "text/plain": [
       "<Figure size 640x480 with 1 Axes>"
      ]
     },
     "metadata": {},
     "output_type": "display_data"
    }
   ],
   "source": [
    "plt.scatter(parameterized_angles, zero_state_populations)\n",
    "plt.xlabel(\"Orbital Angle\")\n",
    "plt.ylabel(r\"$\\langle |00000000 \\rangle \\langle 00000000| \\rangle$\")\n",
    "plt.show()"
   ]
  },
  {
   "cell_type": "code",
   "execution_count": null,
   "id": "560e1624",
   "metadata": {},
   "outputs": [],
   "source": []
  }
 ],
 "metadata": {
  "kernelspec": {
   "display_name": "chemenv",
   "language": "python",
   "name": "python3"
  },
  "language_info": {
   "codemirror_mode": {
    "name": "ipython",
    "version": 3
   },
   "file_extension": ".py",
   "mimetype": "text/x-python",
   "name": "python",
   "nbconvert_exporter": "python",
   "pygments_lexer": "ipython3",
   "version": "3.12.3"
  }
 },
 "nbformat": 4,
 "nbformat_minor": 5
}
