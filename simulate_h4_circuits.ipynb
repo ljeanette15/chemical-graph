{
 "cells": [
  {
   "cell_type": "code",
   "execution_count": 1,
   "id": "91398d2a",
   "metadata": {},
   "outputs": [
    {
     "name": "stderr",
     "output_type": "stream",
     "text": [
      "[Qibo 0.2.18|INFO|2025-07-10 10:05:37]: Using numpy backend on /CPU:0\n",
      "/home/liamj/Molecular Simulation/chemical-graph/tequila-beta/lib/python3.12/site-packages/tequila/simulators/simulator_api.py:5: UserWarning: pkg_resources is deprecated as an API. See https://setuptools.pypa.io/en/latest/pkg_resources.html. The pkg_resources package is slated for removal as early as 2025-11-30. Refrain from using this package or pin to Setuptools<81.\n",
      "  import pkg_resources\n"
     ]
    }
   ],
   "source": [
    "import cirq\n",
    "import qibo\n",
    "qibo.set_backend(\"numpy\")\n",
    "\n",
    "import qibo.backends\n",
    "import tequila as tq\n",
    "import numpy as np\n",
    "import copy\n",
    "import sys\n",
    "sys.path.append('../../Gates_Lab_Suite')\n",
    "\n",
    "from Auto_Algorithm import *\n",
    "from Core_Definition import *\n",
    "from Visualization import *\n",
    "\n",
    "from circuit_tools import (\n",
    "    convert_gate_cirq_to_gates,\n",
    "    cirq_to_gates, \n",
    "    cirq_to_qibo,\n",
    "    reduce_measurements_naive,\n",
    "    measurment_gate_qibo,\n",
    "    measurment_gate_gates,\n",
    "    zero_state,\n",
    "    get_results_from_frequencies,\n",
    "    get_energy_from_data)\n",
    "\n",
    "import time\n",
    "\n",
    "import matplotlib.pyplot as plt\n",
    "\n",
    "from numbers import Number"
   ]
  },
  {
   "cell_type": "code",
   "execution_count": 2,
   "id": "099035e5",
   "metadata": {},
   "outputs": [
    {
     "data": {
      "text/plain": [
       "'1.26.4'"
      ]
     },
     "execution_count": 2,
     "metadata": {},
     "output_type": "execute_result"
    }
   ],
   "source": [
    "np.__version__"
   ]
  },
  {
   "cell_type": "markdown",
   "id": "652655be",
   "metadata": {},
   "source": [
    "# Jordan Wigner Transformation"
   ]
  },
  {
   "cell_type": "code",
   "execution_count": 3,
   "id": "1859fe94",
   "metadata": {},
   "outputs": [],
   "source": [
    "# Define the geometry\n",
    "g = \"h 0.0 0.0 0.0\\nh 0.0 0.0 1.5\\nh 0.0 0.0 3.0\\nh 0.0 0.0 4.5\"\n",
    "\n",
    "# Get molecule\n",
    "mol_JW = tq.Molecule(backend=\"pyscf\", geometry=g, basis_set=\"sto-3g\", transformation=\"JordanWigner\").use_native_orbitals()"
   ]
  },
  {
   "cell_type": "code",
   "execution_count": 4,
   "id": "ca59a13b",
   "metadata": {},
   "outputs": [
    {
     "name": "stderr",
     "output_type": "stream",
     "text": [
      "/home/liamj/Molecular Simulation/chemical-graph/tequila-beta/lib/python3.12/site-packages/pyscf/gto/mole.py:1293: UserWarning: Function mol.dumps drops attribute energy_nuc because it is not JSON-serializable\n",
      "  warnings.warn(msg)\n"
     ]
    },
    {
     "name": "stdout",
     "output_type": "stream",
     "text": [
      "HF  -1.8291374124430182\n",
      "FCI  -1.9961503255188089\n"
     ]
    }
   ],
   "source": [
    "print('HF ', mol_JW.compute_energy('HF'))\n",
    "fci = mol_JW.compute_energy('FCI')\n",
    "print('FCI ', fci)"
   ]
  },
  {
   "cell_type": "markdown",
   "id": "eb000411",
   "metadata": {},
   "source": [
    "### Method 1: G1 SPA"
   ]
  },
  {
   "cell_type": "code",
   "execution_count": 5,
   "id": "ea57a5c0",
   "metadata": {},
   "outputs": [
    {
     "name": "stdout",
     "output_type": "stream",
     "text": [
      "No variables given...\n",
      "difference from fci: 39.8957042850312 meh\n",
      "Original number of measurements: 361\n",
      "Reduced number of measurements: 103\n"
     ]
    }
   ],
   "source": [
    "U_JW_SPA = mol_JW.make_ansatz(\"SPA\", edges=[(0,1),(2,3)])\n",
    "H_JW_G1 = mol_JW.make_hamiltonian()\n",
    "\n",
    "# IS THIS G1?\n",
    "# This is how to properly calculate the SPA energy, without optimizing the orbitals\n",
    "# The UR0 basically optimizes the orbitals\n",
    "U0 = mol_JW.UR(0,1,'a') + mol_JW.UR(2,3,'b')\n",
    "U_JW_G1 = U0 + U_JW_SPA + U0.dagger()\n",
    "res = tq.minimize(tq.ExpectationValue(H=H_JW_G1,U=U_JW_G1),silent=True)\n",
    "\n",
    "U_JW_G1_mapped = U_JW_G1.map_variables(variables=res.variables)\n",
    "\n",
    "for gate in U_JW_G1_mapped.gates:\n",
    "    try:\n",
    "        if not isinstance(gate.parameter, tq.objective.objective.Variable):\n",
    "            gate.parameter = gate.parameter.transformation(gate.parameter.args[0])\n",
    "    except:\n",
    "        x = 1\n",
    "\n",
    "cirq_JW_G1 = tq.compile(U_JW_G1_mapped, backend=\"cirq\")\n",
    "\n",
    "energy_JW_G1 = res.energy\n",
    "print(f\"difference from fci: {abs(res.energy-fci)*1000} meh\")\n",
    "\n",
    "print(f\"Original number of measurements: {len(H_JW_G1.keys())}\")\n",
    "reduced_measurements_JW_G1 = reduce_measurements_naive(H_JW_G1, 8)\n",
    "print(f\"Reduced number of measurements: {len(reduced_measurements_JW_G1)}\")"
   ]
  },
  {
   "cell_type": "markdown",
   "id": "adccc2f6",
   "metadata": {},
   "source": [
    "### Method 2: G1 SPA with optimized orbitals"
   ]
  },
  {
   "cell_type": "code",
   "execution_count": 6,
   "id": "a3f640e0",
   "metadata": {},
   "outputs": [
    {
     "name": "stdout",
     "output_type": "stream",
     "text": [
      "No variables given...\n",
      "No variables given...\n",
      "difference from fci: 16.262440975463257 meh?\n",
      "\n",
      "Original number of measurements: 361\n",
      "Reduced number of measurements: 103\n"
     ]
    }
   ],
   "source": [
    "# If u want regular obrital optimization u can use:\n",
    "guess = np.eye(4)\n",
    "opt = tq.quantumchemistry.optimize_orbitals(molecule=mol_JW,circuit=U_JW_SPA, initial_guess=guess, silent=True).molecule\n",
    "H_JW_G1_optimized_orbitals = opt.make_hamiltonian()\n",
    "cirq_JW_G1_optimized_orbitals = tq.compile(U_JW_SPA, backend=\"cirq\")\n",
    "res = tq.minimize(tq.ExpectationValue(H=H_JW_G1_optimized_orbitals,U=U_JW_SPA), silent=True)\n",
    "\n",
    "U_JW_G1_optimized_orbitals_fixed_params = U_JW_SPA.map_variables(variables=res.variables)\n",
    "cirq_JW_G1_optimized_orbitals_fixed_params = tq.compile(U_JW_G1_optimized_orbitals_fixed_params, backend=\"cirq\")\n",
    "\n",
    "print(f\"difference from fci: {abs(res.energy-fci)*1000} meh?\\n\")\n",
    "energy_JW_G1_optimized_orbitals_fixed_params = res.energy\n",
    "\n",
    "print(f\"Original number of measurements: {len(H_JW_G1_optimized_orbitals.keys())}\")\n",
    "reduced_measurements_JW_G1_optimized_orbitals = reduce_measurements_naive(H_JW_G1_optimized_orbitals, 8)\n",
    "print(f\"Reduced number of measurements: {len(reduced_measurements_JW_G1_optimized_orbitals)}\")"
   ]
  },
  {
   "cell_type": "markdown",
   "id": "694a4510",
   "metadata": {},
   "source": [
    "### Method 3: G2"
   ]
  },
  {
   "cell_type": "code",
   "execution_count": 7,
   "id": "914193a1",
   "metadata": {},
   "outputs": [
    {
     "name": "stdout",
     "output_type": "stream",
     "text": [
      "No variables given...\n",
      "difference from fci: 16.69940439791273 meh?\n",
      "\n",
      "Original number of measurements: 361\n",
      "Reduced number of measurements: 103\n"
     ]
    }
   ],
   "source": [
    "# If u want to use Orbital Correlator for more graphs eg. (1,2) u can use:\n",
    "U1 = mol_JW.UR(1,2,'c')\n",
    "UC = mol_JW.UC(1,2,'d')\n",
    "U_JW_G2 = U_JW_SPA + U0 + U1 + UC + U0.dagger() + U1.dagger()\n",
    "res = tq.minimize(tq.ExpectationValue(H=H_JW_G1,U=U_JW_G2), silent=True)\n",
    "\n",
    "U_JW_G2_mapped = U_JW_G2.map_variables(variables=res.variables)\n",
    "\n",
    "for gate in U_JW_G2_mapped.gates:\n",
    "    try:\n",
    "        if not isinstance(gate.parameter, tq.objective.objective.Variable):\n",
    "            gate.parameter = gate.parameter.transformation(gate.parameter.args[0])\n",
    "    except:\n",
    "        x = 1\n",
    "\n",
    "cirq_JW_G2 = tq.compile(U_JW_G2_mapped, backend=\"cirq\")\n",
    "\n",
    "print(f\"difference from fci: {abs(res.energy-fci)*1000} meh?\\n\")\n",
    "energy_JW_G2 = res.energy\n",
    "\n",
    "print(f\"Original number of measurements: {len(H_JW_G1.keys())}\")\n",
    "reduced_measurements_JW_G2 = reduce_measurements_naive(H_JW_G1, 8)\n",
    "print(f\"Reduced number of measurements: {len(reduced_measurements_JW_G2)}\")"
   ]
  },
  {
   "cell_type": "markdown",
   "id": "319f424c",
   "metadata": {},
   "source": [
    "### Method 4: G2 with optimized Orbitals"
   ]
  },
  {
   "cell_type": "code",
   "execution_count": 8,
   "id": "2e6741d5",
   "metadata": {},
   "outputs": [
    {
     "name": "stdout",
     "output_type": "stream",
     "text": [
      "No variables given...\n",
      "difference from fci: 9.697128646922515 meh?\n",
      "Original number of measurements: 361\n",
      "Reduced number of measurements: 103\n"
     ]
    }
   ],
   "source": [
    "U_JW_G2_optimized_orbitals = U_JW_SPA\n",
    "U_JW_G2_optimized_orbitals += mol_JW.UR(0,2, angle=(tq.Variable(\"a_1\") + 0.5) * np.pi) + mol_JW.UR(1,3, angle=(tq.Variable(\"a_2\") + 0.5) * np.pi)\n",
    "U_JW_G2_optimized_orbitals += mol_JW.UC(0,2, angle=tq.Variable(\"b_1\") * np.pi) + mol_JW.UC(1,3, angle=tq.Variable(\"b_2\") * np.pi)\n",
    "U_JW_G2_optimized_orbitals += mol_JW.UR(0,2, angle=(tq.Variable(\"c_1\") + 0.5) * np.pi) + mol_JW.UR(1,3, angle=(tq.Variable(\"c_2\") + 0.5) * np.pi)\n",
    "res = tq.minimize(tq.ExpectationValue(H=H_JW_G1_optimized_orbitals,U=U_JW_G2_optimized_orbitals),silent=True)\n",
    "\n",
    "U_JW_G2_optimized_orbitals_mapped = U_JW_G2_optimized_orbitals.map_variables(variables=res.variables)\n",
    "\n",
    "for gate in U_JW_G2_optimized_orbitals_mapped.gates:\n",
    "    try:\n",
    "        if not isinstance(gate.parameter, tq.objective.objective.Variable):\n",
    "            gate.parameter = gate.parameter.transformation(gate.parameter.args[0])\n",
    "    except:\n",
    "        x = 1\n",
    "\n",
    "cirq_JW_G2_optimized_orbitals = tq.compile(U_JW_G2_optimized_orbitals_mapped, backend=\"cirq\")\n",
    "\n",
    "print(f\"difference from fci: {abs(res.energy-fci)*1000} meh?\")\n",
    "energy_JW_G2_optimized_orbitals = res.energy\n",
    "\n",
    "print(f\"Original number of measurements: {len(H_JW_G1_optimized_orbitals.keys())}\")\n",
    "reduced_measurements_JW_G2_optimized_orbitals = reduce_measurements_naive(H_JW_G1_optimized_orbitals, 8)\n",
    "print(f\"Reduced number of measurements: {len(reduced_measurements_JW_G2_optimized_orbitals)}\")"
   ]
  },
  {
   "cell_type": "markdown",
   "id": "853a9509",
   "metadata": {},
   "source": [
    "# Parity Tapering Transformation"
   ]
  },
  {
   "cell_type": "code",
   "execution_count": 9,
   "id": "44414a0b",
   "metadata": {},
   "outputs": [],
   "source": [
    "g = \"h 0.0 0.0 0.0\\nh 0.0 0.0 1.5\\nh 0.0 0.0 3.0\\nh 0.0 0.0 4.5\"\n",
    "\n",
    "mol = tq.Molecule(backend=\"pyscf\", geometry=g, basis_set=\"sto-3g\", transformation=\"TaperedBinary\").use_native_orbitals()"
   ]
  },
  {
   "cell_type": "code",
   "execution_count": 10,
   "id": "54178753",
   "metadata": {},
   "outputs": [
    {
     "name": "stdout",
     "output_type": "stream",
     "text": [
      "HF  -1.8291374124430178\n",
      "FCI  -1.9961503255188089\n"
     ]
    }
   ],
   "source": [
    "# You can check the Hartree Fock Energy and FCI energy like this:\n",
    "print('HF ', mol.compute_energy('HF'))\n",
    "fci = mol.compute_energy('FCI')\n",
    "print('FCI ', fci)"
   ]
  },
  {
   "cell_type": "markdown",
   "id": "af8bb852",
   "metadata": {},
   "source": [
    "### Method 1: G1"
   ]
  },
  {
   "cell_type": "code",
   "execution_count": 11,
   "id": "531a5d30",
   "metadata": {},
   "outputs": [
    {
     "name": "stdout",
     "output_type": "stream",
     "text": [
      "No variables given...\n",
      "difference from fci: 39.895704285025204 meh?\n",
      "Original number of measurements: 317\n",
      "Reduced number of measurements: 88\n"
     ]
    }
   ],
   "source": [
    "U_PT_SPA = mol.make_ansatz(\"SPA\", edges=[(0,1),(2,3)])\n",
    "H_PT_G1 = mol.make_hamiltonian()\n",
    "\n",
    "# This is how to properly calculate the SPA energy, without optimizing the orbitals\n",
    "# The UR0 basically optimizes the orbitals\n",
    "U0 = mol.UR(0,1,'a') + mol.UR(2,3,'b')\n",
    "U_PT_G1 = U0 + U_PT_SPA + U0.dagger()\n",
    "res = tq.minimize(tq.ExpectationValue(H=H_PT_G1,U=U_PT_G1),silent=True)\n",
    "\n",
    "U_PT_G1_mapped = U_PT_G1.map_variables(variables=res.variables)\n",
    "\n",
    "for gate in U_PT_G1_mapped.gates:\n",
    "    try:\n",
    "        if not isinstance(gate.parameter, tq.objective.objective.Variable):\n",
    "            gate.parameter = gate.parameter.transformation(gate.parameter.args[0])\n",
    "    except:\n",
    "        x = 1\n",
    "\n",
    "cirq_PT_G1 = tq.compile(U_PT_G1_mapped, backend=\"cirq\")\n",
    "\n",
    "print(f\"difference from fci: {abs(res.energy-fci)*1000} meh?\")\n",
    "\n",
    "print(f\"Original number of measurements: {len(H_PT_G1.keys())}\")\n",
    "reduced_measurements_PT_G1 = reduce_measurements_naive(H_PT_G1, 6)\n",
    "print(f\"Reduced number of measurements: {len(reduced_measurements_PT_G1)}\")"
   ]
  },
  {
   "cell_type": "markdown",
   "id": "83fd4eea",
   "metadata": {},
   "source": [
    "### Method 2: G1 with optimized Orbitals"
   ]
  },
  {
   "cell_type": "code",
   "execution_count": 12,
   "id": "e6261676",
   "metadata": {},
   "outputs": [
    {
     "name": "stdout",
     "output_type": "stream",
     "text": [
      "No variables given...\n",
      "difference from fci: 16.26244097546392 meh?\n",
      "\n",
      "Original number of measurements: 325\n",
      "Reduced number of measurements: 84\n"
     ]
    }
   ],
   "source": [
    "# If u want regular obrital optimization u can use:\n",
    "guess = np.eye(4)\n",
    "opt = tq.quantumchemistry.optimize_orbitals(molecule=mol,circuit=U_PT_SPA, initial_guess=guess, silent=True).molecule\n",
    "H_PT_G1_opt = opt.make_hamiltonian()\n",
    "res = tq.minimize(tq.ExpectationValue(H=H_PT_G1_opt,U=U_PT_SPA), silent=True)\n",
    "\n",
    "for gate in U_JW_G1_mapped.gates:\n",
    "    try:\n",
    "        if not isinstance(gate.parameter, tq.objective.objective.Variable):\n",
    "            gate.parameter = gate.parameter.transformation(gate.parameter.args[0])\n",
    "    except:\n",
    "        x = 1\n",
    "\n",
    "cirq_PT_G1_optimized_orbitals = tq.compile(U_PT_SPA, backend=\"cirq\")\n",
    "\n",
    "print(f\"difference from fci: {abs(res.energy-fci)*1000} meh?\\n\")\n",
    "\n",
    "print(f\"Original number of measurements: {len(H_PT_G1_opt.keys())}\")\n",
    "reduced_measurements_PT_G1_optimized_orbitals = reduce_measurements_naive(H_PT_G1_opt, 6)\n",
    "print(f\"Reduced number of measurements: {len(reduced_measurements_PT_G1_optimized_orbitals)}\")"
   ]
  },
  {
   "cell_type": "markdown",
   "id": "4db1481e",
   "metadata": {},
   "source": [
    "### Method 3: G2"
   ]
  },
  {
   "cell_type": "code",
   "execution_count": 13,
   "id": "49c1ebc0",
   "metadata": {},
   "outputs": [
    {
     "name": "stdout",
     "output_type": "stream",
     "text": [
      "No variables given...\n",
      "difference from fci: 16.69940439739115 meh?\n",
      "\n",
      "Original number of measurements: 317\n",
      "Reduced number of measurements: 88\n"
     ]
    }
   ],
   "source": [
    "# If u want to use Orbital Correlator for more graphs eg. (1,2) u can use:\n",
    "U1 = mol.UR(1,2,'c')\n",
    "UC = mol.UC(1,2,'d')\n",
    "U_PT_G2 = U_PT_SPA + U0 + U1 + UC + U0.dagger() + U1.dagger()\n",
    "res = tq.minimize(tq.ExpectationValue(H=H_PT_G1,U=U_PT_G2), silent=True)\n",
    "\n",
    "U_PT_G2_mapped = U_PT_G2.map_variables(variables=res.variables)\n",
    "\n",
    "for gate in U_PT_G2_mapped.gates:\n",
    "    try:\n",
    "        if not isinstance(gate.parameter, tq.objective.objective.Variable):\n",
    "            gate.parameter = gate.parameter.transformation(gate.parameter.args[0])\n",
    "    except:\n",
    "        x = 1\n",
    "\n",
    "cirq_PT_G2 = tq.compile(U_PT_G2_mapped, backend=\"cirq\")\n",
    "\n",
    "print(f\"difference from fci: {abs(res.energy-fci)*1000} meh?\\n\")\n",
    "\n",
    "print(f\"Original number of measurements: {len(H_PT_G1.keys())}\")\n",
    "reduced_measurements_PT_G2 = reduce_measurements_naive(H_PT_G1, 6)\n",
    "print(f\"Reduced number of measurements: {len(reduced_measurements_PT_G2)}\")"
   ]
  },
  {
   "cell_type": "markdown",
   "id": "cb2257ca",
   "metadata": {},
   "source": [
    "### Method 4: G2 with Optimized Orbitals"
   ]
  },
  {
   "cell_type": "code",
   "execution_count": 14,
   "id": "7874fb43",
   "metadata": {},
   "outputs": [
    {
     "name": "stdout",
     "output_type": "stream",
     "text": [
      "No variables given...\n",
      "difference from fci: 9.697128646919184 meh?\n",
      "\n",
      "Original number of measurements: 325\n",
      "Reduced number of measurements: 84\n"
     ]
    }
   ],
   "source": [
    "# U can also add Orbital optimization to the Rotator - Corellator / use our optimized Hamiltonian\n",
    "U_PT_G2_optimized_orbitals = U_PT_SPA\n",
    "U_PT_G2_optimized_orbitals += mol.UR(0,2, angle=(tq.Variable(\"a_1\") + 0.5) * np.pi) + mol.UR(1,3, angle=(tq.Variable(\"a_2\") + 0.5) * np.pi)\n",
    "U_PT_G2_optimized_orbitals += mol.UC(0,2, angle=tq.Variable(\"b_1\") * np.pi) + mol.UC(1,3, angle=tq.Variable(\"b_2\") * np.pi)\n",
    "U_PT_G2_optimized_orbitals += mol.UR(0,2, angle=(tq.Variable(\"c_1\") + 0.5) * np.pi) + mol.UR(1,3, angle=(tq.Variable(\"c_2\") + 0.5) * np.pi)\n",
    "res = tq.minimize(tq.ExpectationValue(H=H_PT_G1_opt,U=U_PT_G2_optimized_orbitals),silent=True)\n",
    "\n",
    "U_PT_G2_optimized_orbitals_mapped = U_PT_G2_optimized_orbitals.map_variables(variables=res.variables)\n",
    "\n",
    "for gate in U_PT_G2_optimized_orbitals_mapped.gates:\n",
    "    try:\n",
    "        if not isinstance(gate.parameter, tq.objective.objective.Variable):\n",
    "            gate.parameter = gate.parameter.transformation(gate.parameter.args[0])\n",
    "    except:\n",
    "        x = 1\n",
    "\n",
    "cirq_PT_G2_optimized_orbitals = tq.compile(U_PT_G2_optimized_orbitals_mapped, backend=\"cirq\")\n",
    "\n",
    "print(f\"difference from fci: {abs(res.energy-fci)*1000} meh?\\n\")\n",
    "\n",
    "print(f\"Original number of measurements: {len(H_PT_G1_opt.keys())}\")\n",
    "reduced_measurements_PT_G2_optimized_orbitals = reduce_measurements_naive(H_PT_G1_opt, 6)\n",
    "print(f\"Reduced number of measurements: {len(reduced_measurements_PT_G2_optimized_orbitals)}\")"
   ]
  },
  {
   "cell_type": "markdown",
   "id": "48312c15",
   "metadata": {},
   "source": [
    "# Get all circuits as Gates Lab Suite circuits (for taking data)"
   ]
  },
  {
   "cell_type": "code",
   "execution_count": 15,
   "id": "41b6bf04",
   "metadata": {},
   "outputs": [],
   "source": [
    "\n",
    "# Parameterized circuits\n",
    "gates_JW_G1 = cirq_to_gates(cirq_JW_G1.circuit, 8, \"Jordan-Wigner G1\")\n",
    "gates_JW_G1_optimized_orbitals = cirq_to_gates(cirq_JW_G1_optimized_orbitals.circuit, 8, \"Jordan-Wigner G1 w/ optimized orbitals\")\n",
    "gates_JW_G2 = cirq_to_gates(cirq_JW_G2.circuit, 8, \"Jordan-Wigner G2\")\n",
    "gates_JW_G2_optimized_orbitals = cirq_to_gates(cirq_JW_G2_optimized_orbitals.circuit, 8, \"Jordan-Wigner G2 w/ optimized orbitals\")\n",
    "\n",
    "gates_PT_G1 = cirq_to_gates(cirq_PT_G1.circuit, 8, \"Parity Tapering G1\")\n",
    "gates_PT_G1_optimized_orbitals = cirq_to_gates(cirq_PT_G1_optimized_orbitals.circuit, 8, \"Parity Tapering G1 w/ optimized orbitals\")\n",
    "gates_PT_G2 = cirq_to_gates(cirq_PT_G2.circuit, 8, \"Parity Tapering G2\")\n",
    "gates_PT_G2_optimized_orbitals = cirq_to_gates(cirq_PT_G2_optimized_orbitals.circuit, 8, \"Parity Tapering G2 w/ optimized orbitals\")\n",
    "\n",
    "\n",
    "# Circuits with fixed, optimal parameters\n",
    "gates_JW_G1_optimized_orbitals_fixed_params = cirq_to_gates(cirq_JW_G1_optimized_orbitals_fixed_params.circuit, 8, \"Jordan-Wigner G1 w/ optimized orbitals\")"
   ]
  },
  {
   "cell_type": "code",
   "execution_count": 16,
   "id": "b62788bf",
   "metadata": {},
   "outputs": [
    {
     "name": "stdout",
     "output_type": "stream",
     "text": [
      "102\r"
     ]
    }
   ],
   "source": [
    "res = np.zeros((len(reduced_measurements_JW_G1), 2 ** 8))\n",
    "\n",
    "for i in range(len(reduced_measurements_JW_G1)):\n",
    "\n",
    "    print(i, end=\"\\r\")\n",
    "\n",
    "    gates_JW_G1_copy = copy.deepcopy(gates_JW_G1)\n",
    "\n",
    "    for j in range(8):\n",
    "        pauli_char = list(reduced_measurements_JW_G1.keys())[i][j]\n",
    "        if pauli_char != \"Z\":\n",
    "            gates_JW_G1_copy.Add_Gate(measurment_gate_gates(pauli_char, j))\n",
    "\n",
    "    # final_state = gates_JW_G1_copy.Simulate()\n",
    "    # res[i] = np.array(final_state.population)\n",
    "\n",
    "    seq = gates_JW_G1_copy.GatesLab_Sequence()"
   ]
  },
  {
   "cell_type": "code",
   "execution_count": 17,
   "id": "401f66c9",
   "metadata": {},
   "outputs": [
    {
     "name": "stdout",
     "output_type": "stream",
     "text": [
      "q(3)\n"
     ]
    }
   ],
   "source": [
    "for moment in cirq_JW_G2.circuit:\n",
    "    for op in moment:\n",
    "        if isinstance(op.gate, cirq.ControlledGate):\n",
    "            print(op.qubits[0])"
   ]
  },
  {
   "cell_type": "markdown",
   "id": "b12dca4a",
   "metadata": {},
   "source": [
    "# Get all circuits as Qibo circuits (for simulations)"
   ]
  },
  {
   "cell_type": "code",
   "execution_count": 18,
   "id": "08d25a22",
   "metadata": {},
   "outputs": [],
   "source": [
    "\n",
    "# Parameterized circuits\n",
    "qibo_JW_G1 = cirq_to_qibo(cirq_JW_G1.circuit, 8, \"Jordan-Wigner G1\")\n",
    "qibo_JW_G1_optimized_orbitals = cirq_to_qibo(cirq_JW_G1_optimized_orbitals.circuit, 8, \"Jordan-Wigner G1 w/ optimized orbitals\")\n",
    "qibo_JW_G2 = cirq_to_qibo(cirq_JW_G2.circuit, 8, \"Jordan-Wigner G2\")\n",
    "qibo_JW_G2_optimized_orbitals = cirq_to_qibo(cirq_JW_G2_optimized_orbitals.circuit, 8, \"Jordan-Wigner G2 w/ optimized orbitals\")\n",
    "\n",
    "qibo_PT_G1 = cirq_to_qibo(cirq_PT_G1.circuit, 8, \"Parity Tapering G1\")\n",
    "qibo_PT_G1_optimized_orbitals = cirq_to_qibo(cirq_PT_G1_optimized_orbitals.circuit, 8, \"Parity Tapering G1 w/ optimized orbitals\")\n",
    "qibo_PT_G2 = cirq_to_qibo(cirq_PT_G2.circuit, 8, \"Parity Tapering G2\")\n",
    "qibo_PT_G2_optimized_orbitals = cirq_to_qibo(cirq_PT_G2_optimized_orbitals.circuit, 8, \"Parity Tapering G2 w/ optimized orbitals\")\n",
    "\n",
    "# Circuits with fixed, optimal parameters\n",
    "qibo_JW_G1_optimized_orbitals_fixed_params = cirq_to_qibo(cirq_JW_G1_optimized_orbitals_fixed_params.circuit, 8, \"Jordan-Wigner G1 w/ optimized orbitals\")\n"
   ]
  },
  {
   "cell_type": "code",
   "execution_count": 19,
   "id": "77209917",
   "metadata": {},
   "outputs": [
    {
     "name": "stdout",
     "output_type": "stream",
     "text": [
      "102\r"
     ]
    }
   ],
   "source": [
    "nqubits = 8\n",
    "\n",
    "initial_rho = zero_state(nqubits)\n",
    "nshots = 5000\n",
    "\n",
    "res = []\n",
    "res_sn = []\n",
    "\n",
    "data_dict = {}\n",
    "data_dict_sn = {}\n",
    "\n",
    "for i in range(len(reduced_measurements_JW_G1)):\n",
    "\n",
    "    print(i, end=\"\\r\")\n",
    "\n",
    "    qibo_JW_G1_copy = copy.deepcopy(qibo_JW_G1)\n",
    "\n",
    "    for j in range(nqubits):\n",
    "        pauli_char = list(reduced_measurements_JW_G1.keys())[i][j]\n",
    "        if pauli_char != \"Z\":\n",
    "            qibo_JW_G1_copy.add(measurment_gate_qibo(pauli_char, j))\n",
    "\n",
    "    qibo_JW_G1_copy.add(qibo.gates.M(*range(nqubits)))\n",
    "\n",
    "    result_sn = qibo_JW_G1_copy(nshots=nshots, initial_state=initial_rho)\n",
    "    result = qibo_JW_G1_copy(nshots=1, initial_state=initial_rho)\n",
    "\n",
    "    res.append(result.probabilities())\n",
    "    data_dict[list(reduced_measurements_JW_G1.keys())[i]] = result.probabilities()\n",
    "\n",
    "    result_shotnoise = get_results_from_frequencies(result_sn.frequencies(), nshots, nqubits)\n",
    "    res_sn.append(result_shotnoise)\n",
    "    \n",
    "    data_dict_sn[list(reduced_measurements_JW_G1.keys())[i]] = result_shotnoise"
   ]
  },
  {
   "cell_type": "code",
   "execution_count": 20,
   "id": "8fd8d284",
   "metadata": {},
   "outputs": [
    {
     "data": {
      "text/plain": [
       "-1.9794509211208962"
      ]
     },
     "execution_count": 20,
     "metadata": {},
     "output_type": "execute_result"
    }
   ],
   "source": [
    "energy_JW_G2"
   ]
  },
  {
   "cell_type": "code",
   "execution_count": 21,
   "id": "47c643ad",
   "metadata": {},
   "outputs": [
    {
     "data": {
      "text/plain": [
       "-1.9864531968718864"
      ]
     },
     "execution_count": 21,
     "metadata": {},
     "output_type": "execute_result"
    }
   ],
   "source": [
    "energy_JW_G2_optimized_orbitals"
   ]
  },
  {
   "cell_type": "code",
   "execution_count": 22,
   "id": "63939e22",
   "metadata": {},
   "outputs": [],
   "source": [
    "energy_JW_G1_simulated = get_energy_from_data(H_JW_G1, data_dict, reduced_measurements_JW_G1)"
   ]
  },
  {
   "cell_type": "code",
   "execution_count": 23,
   "id": "ab092d21",
   "metadata": {},
   "outputs": [
    {
     "data": {
      "text/plain": [
       "-1.9562546212337777"
      ]
     },
     "execution_count": 23,
     "metadata": {},
     "output_type": "execute_result"
    }
   ],
   "source": [
    "energy_JW_G1"
   ]
  },
  {
   "cell_type": "code",
   "execution_count": 24,
   "id": "0ef46ec6",
   "metadata": {},
   "outputs": [
    {
     "data": {
      "text/plain": [
       "1.3271363511128893"
      ]
     },
     "execution_count": 24,
     "metadata": {},
     "output_type": "execute_result"
    }
   ],
   "source": [
    "energy_JW_G1_simulated"
   ]
  },
  {
   "cell_type": "code",
   "execution_count": null,
   "id": "669be52f",
   "metadata": {},
   "outputs": [],
   "source": []
  }
 ],
 "metadata": {
  "kernelspec": {
   "display_name": "tequila-beta",
   "language": "python",
   "name": "python3"
  },
  "language_info": {
   "codemirror_mode": {
    "name": "ipython",
    "version": 3
   },
   "file_extension": ".py",
   "mimetype": "text/x-python",
   "name": "python",
   "nbconvert_exporter": "python",
   "pygments_lexer": "ipython3",
   "version": "3.12.3"
  }
 },
 "nbformat": 4,
 "nbformat_minor": 5
}
