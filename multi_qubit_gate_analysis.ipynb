{
 "cells": [
  {
   "cell_type": "markdown",
   "id": "b574db67",
   "metadata": {},
   "source": [
    "# Multi-Qubit Gate Stuff"
   ]
  },
  {
   "cell_type": "code",
   "execution_count": 1,
   "id": "24b6f119",
   "metadata": {},
   "outputs": [],
   "source": [
    "import numpy as np\n",
    "from scipy.linalg import expm, sqrtm, svdvals\n",
    "from scipy.optimize import minimize\n",
    "\n",
    "import cirq\n",
    "\n",
    "import sys\n",
    "sys.path.append(\"../../Gates_Lab_Suite\")\n",
    "\n",
    "from Auto_Algorithm import *\n",
    "from Core_Definition import *\n",
    "from Visualization import *\n",
    "\n",
    "np.set_printoptions(precision=3)"
   ]
  },
  {
   "cell_type": "markdown",
   "id": "89e7453a",
   "metadata": {},
   "source": [
    "### Native Gates"
   ]
  },
  {
   "cell_type": "code",
   "execution_count": 2,
   "id": "020d4588",
   "metadata": {},
   "outputs": [],
   "source": [
    "def Ra(theta, phi):\n",
    "\n",
    "    theta = theta * np.pi\n",
    "    phi = phi * np.pi\n",
    "\n",
    "    return np.array([[np.cos(theta / 2), -1j * np.exp(-1j * phi) * np.sin(theta / 2)], \n",
    "                     [-1j * np.exp(1j * phi) * np.sin(theta / 2), np.cos(theta / 2)]])\n",
    "\n",
    "def Rz(theta):\n",
    "\n",
    "    theta = theta * np.pi \n",
    "\n",
    "    return np.array([[np.exp(-1j * theta / 2), 0],\n",
    "                     [0, np.exp(1j * theta / 2)]])\n",
    "\n",
    "\n",
    "def Ry(theta):\n",
    "    return Ra(theta, 0.5)\n",
    "\n",
    "\n",
    "def Rx(theta):\n",
    "    return Ra(theta, 0)\n",
    "\n",
    "\n",
    "Id = np.array([[1, 0], [0, 1]])\n",
    "\n",
    "\n",
    "def XX(xi):\n",
    "\n",
    "    xi = xi * np.pi\n",
    "    \n",
    "    return np.array([[np.cos(xi), 0, 0, -1j*np.sin(xi)], \n",
    "                     [0, np.cos(xi), -1j*np.sin(xi), 0], \n",
    "                     [0, -1j*np.sin(xi), np.cos(xi), 0], \n",
    "                     [-1j*np.sin(xi), 0, 0, np.cos(xi)]])"
   ]
  },
  {
   "cell_type": "markdown",
   "id": "f6e180d6",
   "metadata": {},
   "source": [
    "# Common Non-Native Gates"
   ]
  },
  {
   "cell_type": "code",
   "execution_count": 3,
   "id": "9e0ff441",
   "metadata": {},
   "outputs": [],
   "source": [
    "def CNOT(): \n",
    "    \n",
    "    return np.array([[1, 0, 0, 0],\n",
    "                     [0, 1, 0, 0],\n",
    "                     [0, 0, 0, 1],\n",
    "                     [0, 0, 1, 0]])\n",
    "\n",
    "\n",
    "def gates_circuit_CNOT():\n",
    "\n",
    "    m = Quantum_Gate(\"CNOT\", 0, 1).Matrix_Representation(2)\n",
    "    return m\n",
    "\n",
    "\n",
    "def figgatt_circuit_CNOT_method1(xi=0.25, theta1=0.5, theta2=0.5):\n",
    "\n",
    "    circuit = np.kron(Ry(0.5), Id)\n",
    "    circuit = np.matmul(XX(xi), circuit)\n",
    "    circuit = np.matmul(np.kron(Rx(-theta1), Rx(-theta2)), circuit)\n",
    "    circuit = np.matmul(np.kron(Ry(-0.5), Id), circuit)\n",
    "\n",
    "    return circuit\n",
    "\n",
    "\n",
    "def figgatt_circuit_CNOT_method2(xi=0.25, theta1=0.5, theta2=0.5):\n",
    "\n",
    "    circuit = np.kron(Ry(-0.5), Id)\n",
    "    circuit = np.matmul(XX(xi), circuit)\n",
    "    circuit = np.matmul(np.kron(Ry(theta1), Rx(theta2)), circuit)\n",
    "    circuit = np.matmul(np.kron(Rz(1), Id), circuit)\n",
    "\n",
    "    return circuit\n",
    "\n",
    "\n",
    "def CZ():\n",
    "\n",
    "    return np.array([[1, 0, 0, 0],\n",
    "                     [0, 1, 0, 0],\n",
    "                     [0, 0, 1, 0],\n",
    "                     [0, 0, 0, -1]])\n",
    "\n",
    "\n",
    "def gates_circuit_CZ():\n",
    "\n",
    "    m = Quantum_Gate(\"CZ\", 0, 1).Matrix_Representation(2)\n",
    "\n",
    "    return m\n",
    "\n",
    "\n",
    "def figgatt_circuit_CZ():\n",
    "\n",
    "    circuit = np.kron(Ry(-0.5), Ry(0.5))\n",
    "    circuit = np.matmul(np.kron(Rx(-0.5), Rx(0.5)), circuit)\n",
    "    circuit = np.matmul(XX(0.25), circuit)\n",
    "    circuit = np.matmul(np.kron(Ry(0.5), Ry(-0.5)), circuit)\n",
    "\n",
    "    return circuit\n",
    "\n",
    "\n",
    "def CRx(theta):\n",
    "\n",
    "    theta *= np.pi\n",
    "\n",
    "    return np.array([[1, 0, 0, 0],\n",
    "                     [0, 1, 0, 0],\n",
    "                     [0, 0, np.cos(theta/2), -1j * np.sin(theta/2)],\n",
    "                     [0, 0, -1j * np.sin(theta/2), np.cos(theta/2)]])\n",
    "\n",
    "\n",
    "def CRy(theta):\n",
    "\n",
    "    theta *= np.pi\n",
    "\n",
    "    return np.array([[1, 0, 0, 0],\n",
    "                     [0, 1, 0, 0],\n",
    "                     [0, 0, np.cos(theta/2), -np.sin(theta/2)],\n",
    "                     [0, 0, np.sin(theta/2), np.cos(theta/2)]])"
   ]
  },
  {
   "cell_type": "markdown",
   "id": "ec85d2ba",
   "metadata": {},
   "source": [
    "# Distance Measures"
   ]
  },
  {
   "cell_type": "code",
   "execution_count": 4,
   "id": "b4653121",
   "metadata": {},
   "outputs": [],
   "source": [
    "def check_unitary_equality(U, V):\n",
    "\n",
    "    return cirq.equal_up_to_global_phase(U, V)\n",
    "\n",
    "\n",
    "def fidelity(U, V):\n",
    "  \"\"\"\n",
    "  Calculates the fidelity between two density matrices.\n",
    "\n",
    "  Args:\n",
    "    rho: First density matrix (NumPy array).\n",
    "    sigma: Second density matrix (NumPy array).\n",
    "\n",
    "  Returns:\n",
    "    The fidelity value (float).\n",
    "  \"\"\"\n",
    "  \n",
    "  # Calculate the square roots of the density matrices\n",
    "  rho_sqrt = sqrtm(U)\n",
    "  sigma_sqrt = sqrtm(V)\n",
    "\n",
    "  # Calculate the product of the square roots\n",
    "  product = rho_sqrt @ sigma_sqrt\n",
    "\n",
    "  # Calculate the singular values of the product\n",
    "  singular_values = svdvals(product)\n",
    "\n",
    "  # Calculate the trace norm (sum of singular values)\n",
    "  trace_norm = singular_values.sum()\n",
    "\n",
    "  # Square the trace norm to get the fidelity\n",
    "  fidelity = trace_norm**2\n",
    "\n",
    "  return fidelity\n",
    "\n",
    "\n",
    "def spectral_distance(U, V):\n",
    "   \n",
    "   return np.linalg.norm(U-V, 2)\n",
    "\n",
    "# Seems to be the best so far:\n",
    "def spectral_distance_ignoring_global_phase(U, V):\n",
    "    \n",
    "    phase = np.angle(np.trace(np.dot(U.conj().T, V)))\n",
    "    V_phase_corrected = V * np.exp(-1j * phase)\n",
    "\n",
    "    return spectral_distance(U, V_phase_corrected)"
   ]
  },
  {
   "cell_type": "code",
   "execution_count": 5,
   "id": "c550e90d",
   "metadata": {},
   "outputs": [
    {
     "data": {
      "text/plain": [
       "array([[ 7.071e-01+7.071e-01j,  6.687e-33+1.112e-32j,\n",
       "         9.813e-17+5.888e-17j, -7.716e-17-3.386e-17j],\n",
       "       [ 6.687e-33+1.112e-32j,  7.071e-01+7.071e-01j,\n",
       "        -7.716e-17-3.386e-17j,  9.813e-17+5.888e-17j],\n",
       "       [-2.165e-17+7.716e-17j, -3.925e-17-1.178e-16j,\n",
       "         1.766e-16-1.374e-16j,  7.071e-01+7.071e-01j],\n",
       "       [-3.925e-17-1.178e-16j, -2.165e-17+7.716e-17j,\n",
       "         7.071e-01+7.071e-01j,  1.766e-16-1.374e-16j]])"
      ]
     },
     "execution_count": 5,
     "metadata": {},
     "output_type": "execute_result"
    }
   ],
   "source": [
    "figgatt_circuit_CNOT_method1()"
   ]
  },
  {
   "cell_type": "code",
   "execution_count": 6,
   "id": "84cd9ea5",
   "metadata": {},
   "outputs": [
    {
     "data": {
      "text/plain": [
       "4.4209952906199435e-16"
      ]
     },
     "execution_count": 6,
     "metadata": {},
     "output_type": "execute_result"
    }
   ],
   "source": [
    "spectral_distance_ignoring_global_phase(figgatt_circuit_CNOT_method1(), (CRx(1) @ np.kron(Rz(0.5), Id)))"
   ]
  },
  {
   "cell_type": "markdown",
   "id": "cdb4cd43",
   "metadata": {},
   "source": [
    "# Optimization"
   ]
  },
  {
   "cell_type": "markdown",
   "id": "14c30c3d",
   "metadata": {},
   "source": [
    "### Naive ansatz\n",
    "\n",
    "Sandwich an XX gate with arbitrary single qubit rotations using Euler rotations"
   ]
  },
  {
   "cell_type": "code",
   "execution_count": 7,
   "id": "5b429cdd",
   "metadata": {},
   "outputs": [],
   "source": [
    "def circuit_ansatz_euler_rotations(alpha1, beta1, gamma1, alpha2, beta2, gamma2, alphap1, betap1, gammap1, alphap2, betap2, gammap2, xi_xx):\n",
    "    \n",
    "    # Arbitrary single-qubit rotation on both qubits (each qubit can have different angle)\n",
    "    circuit = np.kron(Id, Id)\n",
    "    circuit = np.matmul(np.kron(Rz(alpha1), Rz(alpha2)), circuit)\n",
    "    circuit = np.matmul(np.kron(Ry(beta1), Ry(beta2)), circuit)\n",
    "    circuit = np.matmul(np.kron(Rz(gamma1), Rz(gamma2)), circuit)\n",
    "\n",
    "    # XX gate of any angle\n",
    "    circuit = np.matmul(XX(xi_xx), circuit)\n",
    "\n",
    "    # Arbitrary single-qubit rotation on both qubits (each qubit can have different angle)\n",
    "    circuit = np.matmul(np.kron(Rz(alphap1), Rz(alphap2)), circuit)\n",
    "    circuit = np.matmul(np.kron(Ry(betap1), Ry(betap2)), circuit)\n",
    "    circuit = np.matmul(np.kron(Rz(gammap1), Rz(gammap2)), circuit)\n",
    "\n",
    "    return circuit"
   ]
  },
  {
   "cell_type": "code",
   "execution_count": 8,
   "id": "0f52b962",
   "metadata": {},
   "outputs": [],
   "source": [
    "def figgatt_circuit_CNOT_method1(xi=0.25, theta1=0.5, theta2=0.5):\n",
    "\n",
    "    circuit = np.kron(Id, Id)\n",
    "    circuit = np.matmul(np.kron(Ry(0.5), Id), circuit)\n",
    "    circuit = np.matmul(XX(xi), circuit)\n",
    "    circuit = np.matmul(np.kron(Rx(-theta1), Rx(-theta2)), circuit)\n",
    "    circuit = np.matmul(np.kron(Ry(-0.5), Id), circuit)\n",
    "\n",
    "    return circuit"
   ]
  },
  {
   "cell_type": "code",
   "execution_count": 9,
   "id": "86637497",
   "metadata": {},
   "outputs": [],
   "source": [
    "bounds = ((-2, 2), (-2, 2), (-2, 2), (-2, 2), (-2, 2), (-2, 2), (-2, 2), (-2, 2), (-2, 2), (-2, 2), (-2, 2), (-2, 2), (-2, 2))\n",
    "initial_guess = [0.5, 0.5, 0.5, 0.5, 0.5, 0.5, 0.5, 0.5, 0.5, 0.5, 0.5, 0.5, 0.25]"
   ]
  },
  {
   "cell_type": "markdown",
   "id": "d9355f37",
   "metadata": {},
   "source": [
    "Euler rotations for CNOT:"
   ]
  },
  {
   "cell_type": "code",
   "execution_count": 10,
   "id": "8bf5bd2f",
   "metadata": {},
   "outputs": [],
   "source": [
    "exact_solution_CNOT = [0, 0.5, 0, 0, 0, 0, -1, 0.5, 0.5, -0.5, 0.5, 0.5, 0.25]"
   ]
  },
  {
   "cell_type": "code",
   "execution_count": 11,
   "id": "9ae82ac0",
   "metadata": {},
   "outputs": [
    {
     "data": {
      "text/plain": [
       "3.97757079643251e-16"
      ]
     },
     "execution_count": 11,
     "metadata": {},
     "output_type": "execute_result"
    }
   ],
   "source": [
    "spectral_distance_ignoring_global_phase(circuit_ansatz_euler_rotations(*exact_solution_CNOT), figgatt_circuit_CNOT_method1()) "
   ]
  },
  {
   "cell_type": "markdown",
   "id": "00698538",
   "metadata": {},
   "source": [
    "Euler rotations for CZ:"
   ]
  },
  {
   "cell_type": "code",
   "execution_count": 12,
   "id": "6f28b02e",
   "metadata": {},
   "outputs": [],
   "source": [
    "exact_solution_CZ = [0, 0.5, 0, 0, 0, 0, 0, -0.5, -0.5, 0.5, 0.5, -0.5, 0.25]"
   ]
  },
  {
   "cell_type": "code",
   "execution_count": 13,
   "id": "ec818daf",
   "metadata": {},
   "outputs": [
    {
     "data": {
      "text/plain": [
       "array([[ 1,  0,  0,  0],\n",
       "       [ 0,  1,  0,  0],\n",
       "       [ 0,  0,  1,  0],\n",
       "       [ 0,  0,  0, -1]])"
      ]
     },
     "execution_count": 13,
     "metadata": {},
     "output_type": "execute_result"
    }
   ],
   "source": [
    "CZ()"
   ]
  },
  {
   "cell_type": "code",
   "execution_count": 14,
   "id": "8f80f34c",
   "metadata": {},
   "outputs": [
    {
     "data": {
      "text/plain": [
       "array([[ 7.716e-17+1.449e-16j,  7.071e-01-7.071e-01j,\n",
       "        -7.716e-17-3.386e-17j,  5.551e-17-5.551e-17j],\n",
       "       [ 7.071e-01-7.071e-01j,  1.449e-16+7.716e-17j,\n",
       "         5.551e-17-5.551e-17j, -7.716e-17-3.386e-17j],\n",
       "       [-5.551e-17+5.551e-17j, -3.386e-17-7.716e-17j,\n",
       "         7.071e-01-7.071e-01j, -3.386e-17+3.386e-17j],\n",
       "       [-3.386e-17-7.716e-17j, -5.551e-17+5.551e-17j,\n",
       "         3.386e-17-3.386e-17j,  7.071e-01-7.071e-01j]])"
      ]
     },
     "execution_count": 14,
     "metadata": {},
     "output_type": "execute_result"
    }
   ],
   "source": [
    "circuit_ansatz_euler_rotations(*exact_solution_CZ)"
   ]
  },
  {
   "cell_type": "markdown",
   "id": "3ed713e4",
   "metadata": {},
   "source": [
    "### Objective functions"
   ]
  },
  {
   "cell_type": "code",
   "execution_count": 15,
   "id": "874c034e",
   "metadata": {},
   "outputs": [],
   "source": [
    "def CNOT_optimization_function(x):\n",
    "\n",
    "    return spectral_distance_ignoring_global_phase(circuit_ansatz_euler_rotations(*x), CNOT())\n",
    "\n",
    "\n",
    "\n",
    "def CZ_optimization_function(x):\n",
    "\n",
    "    return spectral_distance_ignoring_global_phase(circuit_ansatz_euler_rotations(*x), CZ())"
   ]
  },
  {
   "cell_type": "code",
   "execution_count": 16,
   "id": "afe46bc3",
   "metadata": {},
   "outputs": [],
   "source": [
    "def get_CRx_gate(theta):\n",
    "\n",
    "\n",
    "    def CRx_optimization_function(x):\n",
    "\n",
    "        return spectral_distance_ignoring_global_phase(circuit_ansatz_euler_rotations(*x), CRx(theta))\n",
    "\n",
    "    result = minimize(CRx_optimization_function, initial_guess, bounds=bounds, method=\"L-BFGS-B\")\n",
    "\n",
    "    clean_result = []\n",
    "    for r in result.x:\n",
    "        if r < 1e-5:\n",
    "            clean_result.append(0)\n",
    "        else:\n",
    "            clean_result.append(r)\n",
    "    clean_result\n",
    "\n",
    "    return circuit_ansatz_euler_rotations(*clean_result)\n",
    "\n",
    "\n",
    "def get_CRy_gate(theta):\n",
    "\n",
    "\n",
    "    def CRy_optimization_function(x):\n",
    "\n",
    "        return spectral_distance_ignoring_global_phase(circuit_ansatz_euler_rotations(*x), CRy(theta))\n",
    "\n",
    "    result = minimize(CRy_optimization_function, initial_guess, bounds=bounds, method=\"L-BFGS-B\")\n",
    "\n",
    "    clean_result = []\n",
    "    for r in result.x:\n",
    "        if r < 1e-5:\n",
    "            clean_result.append(0)\n",
    "        else:\n",
    "            clean_result.append(r)\n",
    "    clean_result\n",
    "\n",
    "    return circuit_ansatz_euler_rotations(*clean_result)"
   ]
  },
  {
   "cell_type": "code",
   "execution_count": 17,
   "id": "4950cffc",
   "metadata": {},
   "outputs": [
    {
     "data": {
      "text/plain": [
       "1.4761445386105821e-07"
      ]
     },
     "execution_count": 17,
     "metadata": {},
     "output_type": "execute_result"
    }
   ],
   "source": [
    "theta = 0.245\n",
    "spectral_distance_ignoring_global_phase(get_CRx_gate(theta), CRx(theta))"
   ]
  },
  {
   "cell_type": "markdown",
   "id": "3c1e2cd2",
   "metadata": {},
   "source": [
    "# Try using multiple controls..."
   ]
  },
  {
   "cell_type": "code",
   "execution_count": 18,
   "id": "8bb8a47d",
   "metadata": {},
   "outputs": [],
   "source": [
    "def CCNot(theta):\n",
    "\n",
    "    theta *= np.pi\n",
    "\n",
    "    return np.array([[1, 0, 0, 0, 0, 0, 0, 0],\n",
    "                     [0, 1, 0, 0, 0, 0, 0, 0],\n",
    "                     [0, 0, 1, 0, 0, 0, 0, 0],\n",
    "                     [0, 0, 0, 1, 0, 0, 0, 0],\n",
    "                     [0, 0, 0, 0, 1, 0, 0, 0],\n",
    "                     [0, 0, 0, 0, 0, 1, 0, 0],\n",
    "                     [0, 0, 0, 0, 0, 0, 0, 1],\n",
    "                     [0, 0, 0, 0, 0, 0, 1, 0]])\n",
    "\n",
    "def CRx(theta):\n",
    "\n",
    "    theta *= np.pi\n",
    "\n",
    "    return np.array([[1, 0, 0, 0],\n",
    "                     [0, 1, 0, 0],\n",
    "                     [0, 0, np.cos(theta/2), -1j * np.sin(theta/2)],\n",
    "                     [0, 0, -1j * np.sin(theta/2), np.cos(theta/2)]])"
   ]
  },
  {
   "cell_type": "code",
   "execution_count": 19,
   "id": "afc109d5",
   "metadata": {},
   "outputs": [],
   "source": [
    "def circuit_ansatz_euler_rotations_three_qubits(alpha1, beta1, gamma1, alpha2, beta2, gamma2, alphap1, betap1, gammap1, alphap2, betap2, gammap2, xi_xx):\n",
    "    \n",
    "    # Arbitrary single-qubit rotation on both qubits (each qubit can have different angle)\n",
    "    circuit = np.kron(Id, Id)\n",
    "    circuit = np.matmul(np.kron(Rz(alpha1), Rz(alpha2)), circuit)\n",
    "    circuit = np.matmul(np.kron(Ry(beta1), Ry(beta2)), circuit)\n",
    "    circuit = np.matmul(np.kron(Rz(gamma1), Rz(gamma2)), circuit)\n",
    "\n",
    "    # XX gate of any angle\n",
    "    circuit = np.matmul(XX(xi_xx), circuit)\n",
    "\n",
    "    # Arbitrary single-qubit rotation on both qubits (each qubit can have different angle)\n",
    "    circuit = np.matmul(np.kron(Rz(alphap1), Rz(alphap2)), circuit)\n",
    "    circuit = np.matmul(np.kron(Ry(betap1), Ry(betap2)), circuit)\n",
    "    circuit = np.matmul(np.kron(Rz(gammap1), Rz(gammap2)), circuit)\n",
    "\n",
    "    return circuit"
   ]
  }
 ],
 "metadata": {
  "kernelspec": {
   "display_name": "tequila-beta",
   "language": "python",
   "name": "python3"
  },
  "language_info": {
   "codemirror_mode": {
    "name": "ipython",
    "version": 3
   },
   "file_extension": ".py",
   "mimetype": "text/x-python",
   "name": "python",
   "nbconvert_exporter": "python",
   "pygments_lexer": "ipython3",
   "version": "3.12.3"
  }
 },
 "nbformat": 4,
 "nbformat_minor": 5
}
