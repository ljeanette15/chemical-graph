{
 "cells": [
  {
   "cell_type": "markdown",
   "id": "b574db67",
   "metadata": {},
   "source": [
    "# Multi-Qubit Gate Stuff"
   ]
  },
  {
   "cell_type": "code",
   "execution_count": 7,
   "id": "24b6f119",
   "metadata": {},
   "outputs": [],
   "source": [
    "import numpy as np\n",
    "from scipy.linalg import expm, sqrtm, svdvals\n",
    "from scipy.optimize import minimize\n",
    "\n",
    "import cirq\n",
    "\n",
    "import sys\n",
    "sys.path.append(\"../Gates_Lab_Suite\")\n",
    "\n",
    "from Auto_Algorithm import *\n",
    "from Core_Definition import *\n",
    "from Visualization import *"
   ]
  },
  {
   "cell_type": "markdown",
   "id": "89e7453a",
   "metadata": {},
   "source": [
    "### Native Gates"
   ]
  },
  {
   "cell_type": "code",
   "execution_count": 2,
   "id": "020d4588",
   "metadata": {},
   "outputs": [],
   "source": [
    "def Ra(theta, phi):\n",
    "\n",
    "    theta = theta * np.pi\n",
    "    phi = phi * np.pi\n",
    "\n",
    "    return np.array([[np.cos(theta / 2), -1j * np.exp(-1j * phi) * np.sin(theta / 2)], \n",
    "                     [-1j * np.exp(1j * phi) * np.sin(theta / 2), np.cos(theta / 2)]])\n",
    "\n",
    "def Rz(theta):\n",
    "\n",
    "    theta = theta * np.pi \n",
    "\n",
    "    return np.array([[np.exp(-1j * theta / 2), 0],\n",
    "                     [0, np.exp(1j * theta / 2)]])\n",
    "\n",
    "\n",
    "def Ry(theta):\n",
    "    return Ra(theta, 0.5)\n",
    "\n",
    "\n",
    "def Rx(theta):\n",
    "    return Ra(theta, 0)\n",
    "\n",
    "\n",
    "Id = np.array([[1, 0], [0, 1]])\n",
    "\n",
    "\n",
    "def XX(xi):\n",
    "\n",
    "    xi = xi * np.pi\n",
    "    \n",
    "    return np.array([[np.cos(xi), 0, 0, -1j*np.sin(xi)], \n",
    "                     [0, np.cos(xi), -1j*np.sin(xi), 0], \n",
    "                     [0, -1j*np.sin(xi), np.cos(xi), 0], \n",
    "                     [-1j*np.sin(xi), 0, 0, np.cos(xi)]])"
   ]
  },
  {
   "cell_type": "markdown",
   "id": "f6e180d6",
   "metadata": {},
   "source": [
    "# Common Non-Native Gates"
   ]
  },
  {
   "cell_type": "code",
   "execution_count": 4,
   "id": "9e0ff441",
   "metadata": {},
   "outputs": [],
   "source": [
    "def CNOT(): \n",
    "    \n",
    "    return np.array([[1, 0, 0, 0],\n",
    "                     [0, 1, 0, 0],\n",
    "                     [0, 0, 0, 1],\n",
    "                     [0, 0, 1, 0]])\n",
    "\n",
    "\n",
    "def gates_circuit_CNOT():\n",
    "\n",
    "    m = Quantum_Gate(\"CNOT\", 0, 1).Matrix_Representation(2)\n",
    "    return m\n",
    "\n",
    "\n",
    "def CZ():\n",
    "\n",
    "    return np.array([[1, 0, 0, 0],\n",
    "                     [0, 1, 0, 0],\n",
    "                     [0, 0, 1, 0],\n",
    "                     [0, 0, 0, -1]])\n",
    "\n",
    "\n",
    "def gates_circuit_CZ():\n",
    "\n",
    "    m = Quantum_Gate(\"CZ\", 0, 1).Matrix_Representation(2)\n",
    "\n",
    "    return m\n",
    "\n",
    "\n",
    "def figgatt_circuit_CZ():\n",
    "\n",
    "    circuit = np.kron(Ry(-0.5), Ry(0.5))\n",
    "    circuit = np.matmul(np.kron(Rx(-0.5), Rx(0.5)), circuit)\n",
    "    circuit = np.matmul(XX(0.25), circuit)\n",
    "    circuit = np.matmul(np.kron(Ry(0.5), Ry(-0.5)), circuit)\n",
    "\n",
    "    return circuit\n",
    "\n",
    "\n",
    "def CRy(theta):\n",
    "\n",
    "    theta *= np.pi\n",
    "\n",
    "    return np.array([[1, 0, 0, 0],\n",
    "                     [0, 1, 0, 0],\n",
    "                     [0, 0, np.cos(theta/2), -np.sin(theta/2)],\n",
    "                     [0, 0, np.sin(theta/2), np.cos(theta/2)]])"
   ]
  },
  {
   "cell_type": "markdown",
   "id": "ec85d2ba",
   "metadata": {},
   "source": [
    "# Distance Measures"
   ]
  },
  {
   "cell_type": "code",
   "execution_count": 20,
   "id": "b4653121",
   "metadata": {},
   "outputs": [],
   "source": [
    "def check_unitary_equality(U, V):\n",
    "\n",
    "    return cirq.equal_up_to_global_phase(U, V)\n",
    "\n",
    "\n",
    "def fidelity(U, V):\n",
    "  \"\"\"\n",
    "  Calculates the fidelity between two density matrices.\n",
    "\n",
    "  Args:\n",
    "    rho: First density matrix (NumPy array).\n",
    "    sigma: Second density matrix (NumPy array).\n",
    "\n",
    "  Returns:\n",
    "    The fidelity value (float).\n",
    "  \"\"\"\n",
    "  \n",
    "  # Calculate the square roots of the density matrices\n",
    "  rho_sqrt = sqrtm(U)\n",
    "  sigma_sqrt = sqrtm(V)\n",
    "\n",
    "  # Calculate the product of the square roots\n",
    "  product = rho_sqrt @ sigma_sqrt\n",
    "\n",
    "  # Calculate the singular values of the product\n",
    "  singular_values = svdvals(product)\n",
    "\n",
    "  # Calculate the trace norm (sum of singular values)\n",
    "  trace_norm = singular_values.sum()\n",
    "\n",
    "  # Square the trace norm to get the fidelity\n",
    "  fidelity = trace_norm**2\n",
    "\n",
    "  return fidelity\n"
   ]
  },
  {
   "cell_type": "code",
   "execution_count": 15,
   "id": "3423d242",
   "metadata": {},
   "outputs": [
    {
     "data": {
      "text/plain": [
       "True"
      ]
     },
     "execution_count": 15,
     "metadata": {},
     "output_type": "execute_result"
    }
   ],
   "source": [
    "cirq.equal_up_to_global_phase(figgatt_circuit_CZ(), CZ())"
   ]
  },
  {
   "cell_type": "code",
   "execution_count": null,
   "id": "dd96881c",
   "metadata": {},
   "outputs": [],
   "source": []
  },
  {
   "cell_type": "code",
   "execution_count": 23,
   "id": "5151db0f",
   "metadata": {},
   "outputs": [
    {
     "data": {
      "text/plain": [
       "15.999999999999996"
      ]
     },
     "execution_count": 23,
     "metadata": {},
     "output_type": "execute_result"
    }
   ],
   "source": [
    "fidelity(np.eye(4), CNOT())"
   ]
  },
  {
   "cell_type": "code",
   "execution_count": null,
   "id": "4f2d6e9c",
   "metadata": {},
   "outputs": [
    {
     "name": "stderr",
     "output_type": "stream",
     "text": [
      "/tmp/ipykernel_41725/2752200329.py:1: RuntimeWarning: divide by zero encountered in divide\n",
      "  figgatt_circuit_CZ() @ CZ().conj().T / np.eye(4)\n"
     ]
    },
    {
     "data": {
      "text/plain": [
       "array([[0.70710678-0.70710678j,       -inf       -infj,\n",
       "               inf       -infj,        inf       -infj],\n",
       "       [      -inf       -infj, 0.70710678-0.70710678j,\n",
       "              -inf       +infj,        inf       -infj],\n",
       "       [       inf       -infj,       -inf       +infj,\n",
       "        0.70710678-0.70710678j,       -inf       +infj],\n",
       "       [       inf       -infj,       -inf       +infj,\n",
       "               inf       -infj, 0.70710678-0.70710678j]])"
      ]
     },
     "execution_count": 166,
     "metadata": {},
     "output_type": "execute_result"
    }
   ],
   "source": [
    "figgatt_circuit_CZ() @ CZ().conj().T "
   ]
  },
  {
   "cell_type": "markdown",
   "id": "cdb4cd43",
   "metadata": {},
   "source": [
    "For a given two-qubit gate, find a set of single-qubit and two-qubit gates that implement the same unitary:"
   ]
  },
  {
   "cell_type": "code",
   "execution_count": 147,
   "id": "5b429cdd",
   "metadata": {},
   "outputs": [],
   "source": [
    "def circuit_ansatz_euler_rotations(alpha1, beta1, gamma1, alpha2, beta2, gamma2, alphap1, betap1, gammap1, alphap2, betap2, gammap2, xi_xx):\n",
    "    \n",
    "    # Arbitrary single-qubit rotation on both qubits (each qubit can have different angle)\n",
    "    circuit = np.kron(Rz(alpha1), Rz(alpha2))\n",
    "    circuit = np.matmul(np.kron(Ry(beta1), Ry(beta2)), circuit)\n",
    "    circuit = np.matmul(np.kron(Rz(gamma1), Rz(gamma2)), circuit)\n",
    "\n",
    "    # XX gate of any angle\n",
    "    circuit = np.matmul(XX(xi_xx), circuit)\n",
    "\n",
    "    # Arbitrary single-qubit rotation on both qubits (each qubit can have different angle)\n",
    "    circuit = np.matmul(np.kron(Rz(alphap1), Rz(alphap2)), circuit)\n",
    "    circuit = np.matmul(np.kron(Ry(betap1), Ry(betap2)), circuit)\n",
    "    circuit = np.matmul(np.kron(Rz(gammap1), Rz(gammap2)), circuit)\n",
    "\n",
    "    return circuit / circuit[0][0]"
   ]
  },
  {
   "cell_type": "code",
   "execution_count": 148,
   "id": "8f80f34c",
   "metadata": {},
   "outputs": [],
   "source": [
    "bounds = ((-1, 1), (-1, 1), (-1, 1), (-1, 1), (-1, 1), (-1, 1), (-1, 1), (-1, 1), (-1, 1), (-1, 1), (-1, 1), (-1, 1), (0, 2))\n",
    "exact_solution = [0, 0.5, 0, 0, 0, 0, 0, -0.5, -0.5, 0.5, 0.5, -0.5, 0.25]\n",
    "\n",
    "\n",
    "initial_guess = [0.5, 0.5, 0.5, 0.5, 0.5, 0.5, 0.5, 0.5, 0.5, 0.5, 0.5, 0.5, 0.25]\n",
    "initial_guess = exact_solution"
   ]
  },
  {
   "cell_type": "code",
   "execution_count": 149,
   "id": "874c034e",
   "metadata": {},
   "outputs": [],
   "source": [
    "def CNOT_optimization_function(x):\n",
    "\n",
    "    return np.linalg.norm(circuit_ansatz_euler_rotations(*x) - CNOT())\n",
    "\n",
    "\n",
    "\n",
    "def CZ_optimization_function(x):\n",
    "\n",
    "    return np.linalg.norm(circuit_ansatz_euler_rotations(*x) - CZ())"
   ]
  },
  {
   "cell_type": "code",
   "execution_count": 150,
   "id": "026aacc6",
   "metadata": {},
   "outputs": [
    {
     "name": "stdout",
     "output_type": "stream",
     "text": [
      "1.2183981524678704e+16\n"
     ]
    }
   ],
   "source": [
    "print(np.linalg.norm(CZ()-circuit_ansatz_euler_rotations(*exact_solution)))"
   ]
  },
  {
   "cell_type": "code",
   "execution_count": 141,
   "id": "d141c13f",
   "metadata": {},
   "outputs": [
    {
     "data": {
      "text/plain": [
       "array([[1.64149953e-16, 1.00000000e+00, 8.42634303e-17, 7.85046229e-17],\n",
       "       [1.00000000e+00, 1.64149953e-16, 7.85046229e-17, 8.42634303e-17],\n",
       "       [7.85046229e-17, 8.42634303e-17, 1.00000000e+00, 4.78884530e-17],\n",
       "       [8.42634303e-17, 7.85046229e-17, 4.78884530e-17, 1.00000000e+00]])"
      ]
     },
     "execution_count": 141,
     "metadata": {},
     "output_type": "execute_result"
    }
   ],
   "source": [
    "circuit_ansatz_euler_rotations(*exact_solution)"
   ]
  },
  {
   "cell_type": "code",
   "execution_count": 142,
   "id": "7fe6f139",
   "metadata": {},
   "outputs": [
    {
     "data": {
      "text/plain": [
       "2.8284271247461903"
      ]
     },
     "execution_count": 142,
     "metadata": {},
     "output_type": "execute_result"
    }
   ],
   "source": [
    "CNOT_optimization_function(exact_solution)"
   ]
  },
  {
   "cell_type": "code",
   "execution_count": 145,
   "id": "afe46bc3",
   "metadata": {},
   "outputs": [],
   "source": [
    "result = minimize(CNOT_optimization_function, initial_guess, bounds=bounds, method=\"Nelder-Mead\")"
   ]
  },
  {
   "cell_type": "code",
   "execution_count": 146,
   "id": "3c42a254",
   "metadata": {},
   "outputs": [
    {
     "data": {
      "text/plain": [
       "       message: Maximum number of function evaluations has been exceeded.\n",
       "       success: False\n",
       "        status: 1\n",
       "           fun: 0.3817631793587355\n",
       "             x: [ 9.604e-01  5.030e-01 ...  1.000e+00  2.476e-01]\n",
       "           nit: 1975\n",
       "          nfev: 2600\n",
       " final_simplex: (array([[ 9.604e-01,  5.030e-01, ...,  1.000e+00,\n",
       "                         2.476e-01],\n",
       "                       [ 9.633e-01,  5.052e-01, ...,  1.000e+00,\n",
       "                         2.477e-01],\n",
       "                       ...,\n",
       "                       [ 9.632e-01,  5.035e-01, ...,  1.000e+00,\n",
       "                         2.478e-01],\n",
       "                       [ 9.617e-01,  5.031e-01, ...,  1.000e+00,\n",
       "                         2.478e-01]]), array([ 3.818e-01,  3.818e-01, ...,  3.822e-01,  3.822e-01]))"
      ]
     },
     "execution_count": 146,
     "metadata": {},
     "output_type": "execute_result"
    }
   ],
   "source": [
    "result"
   ]
  },
  {
   "cell_type": "code",
   "execution_count": null,
   "id": "4950cffc",
   "metadata": {},
   "outputs": [],
   "source": []
  }
 ],
 "metadata": {
  "kernelspec": {
   "display_name": "tequila-beta",
   "language": "python",
   "name": "python3"
  },
  "language_info": {
   "codemirror_mode": {
    "name": "ipython",
    "version": 3
   },
   "file_extension": ".py",
   "mimetype": "text/x-python",
   "name": "python",
   "nbconvert_exporter": "python",
   "pygments_lexer": "ipython3",
   "version": "3.12.3"
  }
 },
 "nbformat": 4,
 "nbformat_minor": 5
}
